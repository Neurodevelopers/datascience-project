{
 "cells": [
  {
   "cell_type": "markdown",
   "id": "b2efc04c-a193-41bc-b85d-745c37848c42",
   "metadata": {},
   "source": [
    "# جمع بيانات الجمهور من وسائل التواصل الاجتماعي\n",
    "الهدف: جمع بيانات حول الرأي العام حول موضوع محدد (على سبيل المثال، منتج جديد، حدث شائع) من منصات وسائل التواصل الاجتماعي."
   ]
  },
  {
   "cell_type": "markdown",
   "id": "1f49e1f4-073f-4278-83e2-5e6b91c7bcb0",
   "metadata": {},
   "source": [
    "# الأدوات:\n",
    "\n",
    " - بايثون للبرمجة النصية.\n",
    " - مكتبة Tweepy للوصول إلى بيانات تويتر (كمثال).\n"
   ]
  },
  {
   "cell_type": "markdown",
   "id": "c1ef68ab-ed22-445f-beaa-fab4529b3460",
   "metadata": {},
   "source": [
    "# دليل خطوة بخطوة"
   ]
  },
  {
   "cell_type": "markdown",
   "id": "69c57f7e-40a1-4cee-81b9-fcaa4093ab6a",
   "metadata": {},
   "source": [
    "## مقدمة إلى واجهات برمجة التطبيقات"
   ]
  },
  {
   "cell_type": "markdown",
   "id": "4066e202-78ed-47c8-a7fe-e109a1ccee50",
   "metadata": {},
   "source": [
    "### تخيل أنك في مطعم. المطبخ هو النظام الذي يقوم بإعداد طلبك، ولكنك لا تذهب مباشرة إلى المطبخ لتخبر الطهاة بما تريد. وبدلا من ذلك، لديك قائمة تضم كافة الأطباق المتاحة. تخبر طلبك للنادل، الذي يتواصل بعد ذلك مع المطبخ. يقوم المطبخ بإعداد طعامك ويحضره النادل لك.\n",
    "\n",
    "وفي هذا التشبيه:\n",
    "\n",
    "المطبخ يشبه خادم الويب حيث يتم تخزين البيانات (على سبيل المثال، خادم تويتر مع جميع التغريدات).\n",
    "توفر القائمة قائمة بجميع الأطباق التي يمكنك طلبها، تمامًا كما توفر واجهة برمجة التطبيقات (API) قائمة بجميع العمليات أو البيانات التي يمكنك طلبها (مثل الحصول على التغريدات ونشر التغريدات وما إلى ذلك).\n",
    "يعمل النادل كوسيط يأخذ طلبك إلى المطبخ ويعيد طعامك، على غرار الطريقة التي تسمح بها واجهة برمجة التطبيقات (API) لتطبيقك بالتحدث إلى خادم الويب واسترداد البيانات.\n",
    "لذا، فإن واجهة برمجة التطبيقات (API) تشبه القائمة التي تخبرك بما يمكنك طلبه من خادم الويب، والنادل هو الذي يأخذ طلبك إلى الخادم ويعيد البيانات إليك."
   ]
  },
  {
   "cell_type": "markdown",
   "id": "15cd44c8-a047-4a7f-9777-b541afc87119",
   "metadata": {},
   "source": [
    "## تقديم تويبي\n",
    "الآن، فكر في أداة محددة لمساعدتك في الطلب من هذه \"القائمة\" بشكل أكثر كفاءة. هذا هو المكان الذي يأتي فيه Tweepy عند التعامل مع Twitter.\n",
    "\n",
    "Tweepy هو بمثابة تطبيق متخصص على هاتفك لطلب الطعام من هذا المطعم. بدلا من التحدث إلى النادل مباشرة، يمكنك استخدام التطبيق. يعرف التطبيق القائمة جيدًا ويوفر طريقة سهلة لتقديم طلبك. يرسل طلبك إلى النادل (API) الذي يتواصل بعد ذلك مع المطبخ (الخادم).\n",
    "\n",
    "في عالم البرمجة، Tweepy هي مكتبة خاصة بـ Python، وهي لغة برمجة مشهورة. إنه يبسط عملية إرسال الطلبات إلى Twitter API. بدلاً من صياغة كل طلب يدويًا إلى خادم Twitter، يمكنك استخدام وظائف Tweepy، التي تشبه خيارات القائمة المحددة مسبقًا في التطبيق، مما يجعل الحصول على البيانات التي تريدها أسهل بكثير، مثل التغريدات ومعلومات المستخدم وما إلى ذلك.\n",
    "\n",
    "مع Tweepy، لا تحتاج إلى معرفة كل التفاصيل حول كيفية التواصل مع واجهة برمجة التطبيقات الخاصة بتويتر؛ فهو يتعامل مع الأجزاء المعقدة نيابةً عنك، مما يتيح لك التركيز على ما تريد تحقيقه باستخدام البيانات."
   ]
  },
  {
   "cell_type": "code",
   "execution_count": 2,
   "id": "e42abe03-2f7c-4e55-9305-f3f52e7978b1",
   "metadata": {},
   "outputs": [
    {
     "name": "stdout",
     "output_type": "stream",
     "text": [
      "Collecting virtualenv\n",
      "  Obtaining dependency information for virtualenv from https://files.pythonhosted.org/packages/83/22/54b1180756d2d6194bcafb7425d437c3034c4bff92129c3e1e633079e2c4/virtualenv-20.25.0-py3-none-any.whl.metadata\n",
      "  Downloading virtualenv-20.25.0-py3-none-any.whl.metadata (4.5 kB)\n",
      "Collecting distlib<1,>=0.3.7 (from virtualenv)\n",
      "  Obtaining dependency information for distlib<1,>=0.3.7 from https://files.pythonhosted.org/packages/8e/41/9307e4f5f9976bc8b7fea0b66367734e8faf3ec84bc0d412d8cfabbb66cd/distlib-0.3.8-py2.py3-none-any.whl.metadata\n",
      "  Downloading distlib-0.3.8-py2.py3-none-any.whl.metadata (5.1 kB)\n",
      "Collecting filelock<4,>=3.12.2 (from virtualenv)\n",
      "  Obtaining dependency information for filelock<4,>=3.12.2 from https://files.pythonhosted.org/packages/81/54/84d42a0bee35edba99dee7b59a8d4970eccdd44b99fe728ed912106fc781/filelock-3.13.1-py3-none-any.whl.metadata\n",
      "  Downloading filelock-3.13.1-py3-none-any.whl.metadata (2.8 kB)\n",
      "Requirement already satisfied: platformdirs<5,>=3.9.1 in c:\\python311\\lib\\site-packages (from virtualenv) (4.1.0)\n",
      "Downloading virtualenv-20.25.0-py3-none-any.whl (3.8 MB)\n",
      "   ---------------------------------------- 0.0/3.8 MB ? eta -:--:--\n",
      "   ---------------------------------------- 0.0/3.8 MB ? eta -:--:--\n",
      "   - -------------------------------------- 0.1/3.8 MB 1.8 MB/s eta 0:00:03\n",
      "   -- ------------------------------------- 0.3/3.8 MB 2.4 MB/s eta 0:00:02\n",
      "   ---- ----------------------------------- 0.5/3.8 MB 2.8 MB/s eta 0:00:02\n",
      "   ----- ---------------------------------- 0.6/3.8 MB 2.7 MB/s eta 0:00:02\n",
      "   -------- ------------------------------- 0.8/3.8 MB 3.2 MB/s eta 0:00:01\n",
      "   ---------- ----------------------------- 1.0/3.8 MB 3.3 MB/s eta 0:00:01\n",
      "   ------------ --------------------------- 1.2/3.8 MB 3.4 MB/s eta 0:00:01\n",
      "   -------------- ------------------------- 1.4/3.8 MB 3.4 MB/s eta 0:00:01\n",
      "   ---------------- ----------------------- 1.5/3.8 MB 3.5 MB/s eta 0:00:01\n",
      "   ------------------ --------------------- 1.7/3.8 MB 3.5 MB/s eta 0:00:01\n",
      "   -------------------- ------------------- 1.9/3.8 MB 3.6 MB/s eta 0:00:01\n",
      "   --------------------- ------------------ 2.0/3.8 MB 3.6 MB/s eta 0:00:01\n",
      "   --------------------- ------------------ 2.0/3.8 MB 3.6 MB/s eta 0:00:01\n",
      "   --------------------- ------------------ 2.0/3.8 MB 3.6 MB/s eta 0:00:01\n",
      "   -------------------------- ------------- 2.5/3.8 MB 3.6 MB/s eta 0:00:01\n",
      "   ---------------------------- ----------- 2.7/3.8 MB 3.5 MB/s eta 0:00:01\n",
      "   ------------------------------ --------- 2.9/3.8 MB 3.5 MB/s eta 0:00:01\n",
      "   -------------------------------- ------- 3.0/3.8 MB 3.6 MB/s eta 0:00:01\n",
      "   ---------------------------------- ----- 3.2/3.8 MB 3.5 MB/s eta 0:00:01\n",
      "   ------------------------------------ --- 3.4/3.8 MB 3.6 MB/s eta 0:00:01\n",
      "   ------------------------------------- -- 3.6/3.8 MB 3.6 MB/s eta 0:00:01\n",
      "   ---------------------------------------  3.8/3.8 MB 3.6 MB/s eta 0:00:01\n",
      "   ---------------------------------------- 3.8/3.8 MB 3.5 MB/s eta 0:00:00\n",
      "Downloading distlib-0.3.8-py2.py3-none-any.whl (468 kB)\n",
      "   ---------------------------------------- 0.0/468.9 kB ? eta -:--:--\n",
      "   ------------- -------------------------- 163.8/468.9 kB 5.0 MB/s eta 0:00:01\n",
      "   ---------------------------- ----------- 337.9/468.9 kB 4.2 MB/s eta 0:00:01\n",
      "   ---------------------------------------- 468.9/468.9 kB 3.7 MB/s eta 0:00:00\n",
      "Downloading filelock-3.13.1-py3-none-any.whl (11 kB)\n",
      "Installing collected packages: distlib, filelock, virtualenv\n",
      "Successfully installed distlib-0.3.8 filelock-3.13.1 virtualenv-20.25.0\n",
      "Note: you may need to restart the kernel to use updated packages.\n"
     ]
    },
    {
     "name": "stderr",
     "output_type": "stream",
     "text": [
      "\n",
      "[notice] A new release of pip is available: 23.2.1 -> 23.3.2\n",
      "[notice] To update, run: python.exe -m pip install --upgrade pip\n"
     ]
    }
   ],
   "source": [
    "pip install virtualenv"
   ]
  },
  {
   "cell_type": "code",
   "execution_count": 3,
   "id": "a3c577d8-de75-48af-8184-da5777a860bb",
   "metadata": {},
   "outputs": [
    {
     "ename": "SyntaxError",
     "evalue": "invalid syntax (2076256189.py, line 1)",
     "output_type": "error",
     "traceback": [
      "\u001b[1;36m  Cell \u001b[1;32mIn[3], line 1\u001b[1;36m\u001b[0m\n\u001b[1;33m    python -m venv -.env\u001b[0m\n\u001b[1;37m              ^\u001b[0m\n\u001b[1;31mSyntaxError\u001b[0m\u001b[1;31m:\u001b[0m invalid syntax\n"
     ]
    }
   ],
   "source": [
    "python -m venv -.env"
   ]
  },
  {
   "cell_type": "code",
   "execution_count": 1,
   "id": "4bdc4347-e972-4025-a653-61ef45f0716a",
   "metadata": {},
   "outputs": [
    {
     "ename": "NameError",
     "evalue": "name 'virtualenv' is not defined",
     "output_type": "error",
     "traceback": [
      "\u001b[1;31m---------------------------------------------------------------------------\u001b[0m",
      "\u001b[1;31mNameError\u001b[0m                                 Traceback (most recent call last)",
      "Cell \u001b[1;32mIn[1], line 1\u001b[0m\n\u001b[1;32m----> 1\u001b[0m \u001b[43mvirtualenv\u001b[49m \u001b[38;5;241m.\u001b[39menv\n",
      "\u001b[1;31mNameError\u001b[0m: name 'virtualenv' is not defined"
     ]
    }
   ],
   "source": [
    "virtualenv .env"
   ]
  },
  {
   "cell_type": "code",
   "execution_count": 2,
   "id": "7d40d17f-1643-4abf-85ad-5b8692151c19",
   "metadata": {},
   "outputs": [
    {
     "ename": "SyntaxError",
     "evalue": "invalid syntax (2811684370.py, line 1)",
     "output_type": "error",
     "traceback": [
      "\u001b[1;36m  Cell \u001b[1;32mIn[2], line 1\u001b[1;36m\u001b[0m\n\u001b[1;33m    python -m venv .env\u001b[0m\n\u001b[1;37m              ^\u001b[0m\n\u001b[1;31mSyntaxError\u001b[0m\u001b[1;31m:\u001b[0m invalid syntax\n"
     ]
    }
   ],
   "source": [
    "python -m venv .env"
   ]
  },
  {
   "cell_type": "code",
   "execution_count": null,
   "id": "92fb5b99-0b95-43bb-9c05-37706256d3fd",
   "metadata": {},
   "outputs": [],
   "source": []
  }
 ],
 "metadata": {
  "kernelspec": {
   "display_name": "Python 3 (ipykernel)",
   "language": "python",
   "name": "python3"
  },
  "language_info": {
   "codemirror_mode": {
    "name": "ipython",
    "version": 3
   },
   "file_extension": ".py",
   "mimetype": "text/x-python",
   "name": "python",
   "nbconvert_exporter": "python",
   "pygments_lexer": "ipython3",
   "version": "3.11.2"
  }
 },
 "nbformat": 4,
 "nbformat_minor": 5
}
