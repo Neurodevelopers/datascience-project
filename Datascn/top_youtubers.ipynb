{
 "cells": [
  {
   "cell_type": "code",
   "execution_count": 1,
   "id": "718f9a75-81c0-4313-852d-e22876789ace",
   "metadata": {},
   "outputs": [],
   "source": [
    "import pandas as pd"
   ]
  },
  {
   "cell_type": "code",
   "execution_count": 2,
   "id": "0af8d550-14e6-44dc-bb24-de89d255f5d7",
   "metadata": {},
   "outputs": [],
   "source": [
    "import numpy as np"
   ]
  },
  {
   "cell_type": "code",
   "execution_count": 8,
   "id": "b47e4bcb-1f4a-408d-9839-f46d9a864404",
   "metadata": {},
   "outputs": [],
   "source": [
    "import matplotlib.pyplot as plt"
   ]
  },
  {
   "cell_type": "code",
   "execution_count": 9,
   "id": "3b757dc3-87c3-498e-b887-fd813de49a30",
   "metadata": {},
   "outputs": [],
   "source": [
    "import seaborn as sns"
   ]
  },
  {
   "cell_type": "code",
   "execution_count": 12,
   "id": "1a0bd425-4eca-42dd-9c74-90a370aa52e2",
   "metadata": {},
   "outputs": [],
   "source": [
    "import plotly.express as px"
   ]
  },
  {
   "cell_type": "code",
   "execution_count": 13,
   "id": "f0115bf5-4551-4a7f-91ad-ba38ca21e650",
   "metadata": {},
   "outputs": [],
   "source": [
    "df = pd.read_csv('yt-df.csv')"
   ]
  },
  {
   "cell_type": "code",
   "execution_count": 14,
   "id": "35462b03-3752-444b-bf84-1567fdf9b7c2",
   "metadata": {},
   "outputs": [
    {
     "data": {
      "text/html": [
       "<div>\n",
       "<style scoped>\n",
       "    .dataframe tbody tr th:only-of-type {\n",
       "        vertical-align: middle;\n",
       "    }\n",
       "\n",
       "    .dataframe tbody tr th {\n",
       "        vertical-align: top;\n",
       "    }\n",
       "\n",
       "    .dataframe thead th {\n",
       "        text-align: right;\n",
       "    }\n",
       "</style>\n",
       "<table border=\"1\" class=\"dataframe\">\n",
       "  <thead>\n",
       "    <tr style=\"text-align: right;\">\n",
       "      <th></th>\n",
       "      <th>Rank</th>\n",
       "      <th>Username</th>\n",
       "      <th>Categories</th>\n",
       "      <th>Suscribers</th>\n",
       "      <th>Country</th>\n",
       "      <th>Visits</th>\n",
       "      <th>Likes</th>\n",
       "      <th>Comments</th>\n",
       "      <th>Subscribers (millions)</th>\n",
       "    </tr>\n",
       "  </thead>\n",
       "  <tbody>\n",
       "    <tr>\n",
       "      <th>0</th>\n",
       "      <td>1</td>\n",
       "      <td>tseries</td>\n",
       "      <td>['Music &amp; Dance']</td>\n",
       "      <td>253500000</td>\n",
       "      <td>India</td>\n",
       "      <td>111300</td>\n",
       "      <td>3200</td>\n",
       "      <td>120</td>\n",
       "      <td>253.5</td>\n",
       "    </tr>\n",
       "    <tr>\n",
       "      <th>1</th>\n",
       "      <td>2</td>\n",
       "      <td>MrBeast</td>\n",
       "      <td>['Video Games', 'Humor']</td>\n",
       "      <td>210100000</td>\n",
       "      <td>United States</td>\n",
       "      <td>95400000</td>\n",
       "      <td>5400000</td>\n",
       "      <td>16600</td>\n",
       "      <td>210.1</td>\n",
       "    </tr>\n",
       "    <tr>\n",
       "      <th>2</th>\n",
       "      <td>3</td>\n",
       "      <td>CoComelon</td>\n",
       "      <td>['Education']</td>\n",
       "      <td>168100000</td>\n",
       "      <td>Unknown</td>\n",
       "      <td>4100000</td>\n",
       "      <td>21600</td>\n",
       "      <td>0</td>\n",
       "      <td>168.1</td>\n",
       "    </tr>\n",
       "    <tr>\n",
       "      <th>3</th>\n",
       "      <td>4</td>\n",
       "      <td>SETIndia</td>\n",
       "      <td>['Unknown']</td>\n",
       "      <td>165400000</td>\n",
       "      <td>India</td>\n",
       "      <td>23300</td>\n",
       "      <td>239</td>\n",
       "      <td>9</td>\n",
       "      <td>165.4</td>\n",
       "    </tr>\n",
       "    <tr>\n",
       "      <th>4</th>\n",
       "      <td>5</td>\n",
       "      <td>KidsDianaShow</td>\n",
       "      <td>['Animation', 'Toys']</td>\n",
       "      <td>116500000</td>\n",
       "      <td>Unknown</td>\n",
       "      <td>4100000</td>\n",
       "      <td>8800</td>\n",
       "      <td>0</td>\n",
       "      <td>116.5</td>\n",
       "    </tr>\n",
       "  </tbody>\n",
       "</table>\n",
       "</div>"
      ],
      "text/plain": [
       "  Rank       Username                Categories  Suscribers        Country  \\\n",
       "0    1        tseries         ['Music & Dance']   253500000          India   \n",
       "1    2        MrBeast  ['Video Games', 'Humor']   210100000  United States   \n",
       "2    3      CoComelon             ['Education']   168100000        Unknown   \n",
       "3    4       SETIndia               ['Unknown']   165400000          India   \n",
       "4    5  KidsDianaShow     ['Animation', 'Toys']   116500000        Unknown   \n",
       "\n",
       "     Visits    Likes  Comments  Subscribers (millions)  \n",
       "0    111300     3200       120                   253.5  \n",
       "1  95400000  5400000     16600                   210.1  \n",
       "2   4100000    21600         0                   168.1  \n",
       "3     23300      239         9                   165.4  \n",
       "4   4100000     8800         0                   116.5  "
      ]
     },
     "execution_count": 14,
     "metadata": {},
     "output_type": "execute_result"
    }
   ],
   "source": [
    "df.head()"
   ]
  },
  {
   "cell_type": "code",
   "execution_count": 15,
   "id": "57845d28-4d7b-4c58-be08-f9f94e51cc9b",
   "metadata": {},
   "outputs": [
    {
     "name": "stdout",
     "output_type": "stream",
     "text": [
      "<class 'pandas.core.frame.DataFrame'>\n",
      "RangeIndex: 997 entries, 0 to 996\n",
      "Data columns (total 9 columns):\n",
      " #   Column                  Non-Null Count  Dtype  \n",
      "---  ------                  --------------  -----  \n",
      " 0   Rank                    997 non-null    object \n",
      " 1   Username                997 non-null    object \n",
      " 2   Categories              997 non-null    object \n",
      " 3   Suscribers              997 non-null    int64  \n",
      " 4   Country                 997 non-null    object \n",
      " 5   Visits                  997 non-null    int64  \n",
      " 6   Likes                   997 non-null    int64  \n",
      " 7   Comments                997 non-null    int64  \n",
      " 8   Subscribers (millions)  997 non-null    float64\n",
      "dtypes: float64(1), int64(4), object(4)\n",
      "memory usage: 70.2+ KB\n"
     ]
    }
   ],
   "source": [
    "df.info()"
   ]
  },
  {
   "cell_type": "code",
   "execution_count": 16,
   "id": "e7730dee-c0fb-4a5d-bfac-dee078cda5d2",
   "metadata": {},
   "outputs": [
    {
     "data": {
      "text/plain": [
       "Rank                      0\n",
       "Username                  0\n",
       "Categories                0\n",
       "Suscribers                0\n",
       "Country                   0\n",
       "Visits                    0\n",
       "Likes                     0\n",
       "Comments                  0\n",
       "Subscribers (millions)    0\n",
       "dtype: int64"
      ]
     },
     "execution_count": 16,
     "metadata": {},
     "output_type": "execute_result"
    }
   ],
   "source": [
    "df.isnull().sum()"
   ]
  },
  {
   "cell_type": "code",
   "execution_count": null,
   "id": "1802e5b4-c193-413b-a0bc-86fd05f24242",
   "metadata": {},
   "outputs": [],
   "source": []
  }
 ],
 "metadata": {
  "kernelspec": {
   "display_name": "Python (.cairolab)",
   "language": "python",
   "name": ".cairolab"
  },
  "language_info": {
   "codemirror_mode": {
    "name": "ipython",
    "version": 3
   },
   "file_extension": ".py",
   "mimetype": "text/x-python",
   "name": "python",
   "nbconvert_exporter": "python",
   "pygments_lexer": "ipython3",
   "version": "3.11.2"
  }
 },
 "nbformat": 4,
 "nbformat_minor": 5
}
