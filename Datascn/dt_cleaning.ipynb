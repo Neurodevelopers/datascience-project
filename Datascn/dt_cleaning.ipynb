{
 "cells": [
  {
   "cell_type": "code",
   "execution_count": 1,
   "id": "2ac4162e-0110-4d6b-a125-407496e67e60",
   "metadata": {},
   "outputs": [],
   "source": [
    "import pandas as pd"
   ]
  },
  {
   "cell_type": "code",
   "execution_count": 2,
   "id": "8cbffe30-3471-4140-9c3a-ecc77d3f7185",
   "metadata": {},
   "outputs": [],
   "source": [
    "import numpy as np"
   ]
  },
  {
   "cell_type": "code",
   "execution_count": 5,
   "id": "b0321711-50a6-4a9b-8515-a301fb93675e",
   "metadata": {},
   "outputs": [],
   "source": [
    "import matplotlib.pyplot as plt"
   ]
  },
  {
   "cell_type": "code",
   "execution_count": 4,
   "id": "bec6568f-8e4d-40f2-8ebc-e1c60f95e64e",
   "metadata": {},
   "outputs": [],
   "source": [
    "import plotly.express as px"
   ]
  },
  {
   "cell_type": "code",
   "execution_count": 7,
   "id": "3cfbe67f-e0ab-465c-abae-3763e8463ebc",
   "metadata": {},
   "outputs": [],
   "source": [
    "df = pd.read_csv('youtubers_df.csv')"
   ]
  },
  {
   "cell_type": "code",
   "execution_count": 8,
   "id": "486b7357-7fb6-4e48-a993-839c18000fc1",
   "metadata": {},
   "outputs": [
    {
     "data": {
      "text/html": [
       "<div>\n",
       "<style scoped>\n",
       "    .dataframe tbody tr th:only-of-type {\n",
       "        vertical-align: middle;\n",
       "    }\n",
       "\n",
       "    .dataframe tbody tr th {\n",
       "        vertical-align: top;\n",
       "    }\n",
       "\n",
       "    .dataframe thead th {\n",
       "        text-align: right;\n",
       "    }\n",
       "</style>\n",
       "<table border=\"1\" class=\"dataframe\">\n",
       "  <thead>\n",
       "    <tr style=\"text-align: right;\">\n",
       "      <th></th>\n",
       "      <th>Rank</th>\n",
       "      <th>Username</th>\n",
       "      <th>Categories</th>\n",
       "      <th>Suscribers</th>\n",
       "      <th>Country</th>\n",
       "      <th>Visits</th>\n",
       "      <th>Likes</th>\n",
       "      <th>Comments</th>\n",
       "      <th>Links</th>\n",
       "    </tr>\n",
       "  </thead>\n",
       "  <tbody>\n",
       "    <tr>\n",
       "      <th>0</th>\n",
       "      <td>1</td>\n",
       "      <td>tseries</td>\n",
       "      <td>Música y baile</td>\n",
       "      <td>253500000.0</td>\n",
       "      <td>India</td>\n",
       "      <td>111300.0</td>\n",
       "      <td>3200.0</td>\n",
       "      <td>120.0</td>\n",
       "      <td>http://youtube.com/channel/UCq-Fj5jknLsUf-MWSy...</td>\n",
       "    </tr>\n",
       "    <tr>\n",
       "      <th>1</th>\n",
       "      <td>2</td>\n",
       "      <td>MrBeast</td>\n",
       "      <td>Videojuegos, Humor</td>\n",
       "      <td>210100000.0</td>\n",
       "      <td>Estados Unidos</td>\n",
       "      <td>95400000.0</td>\n",
       "      <td>5400000.0</td>\n",
       "      <td>16600.0</td>\n",
       "      <td>http://youtube.com/channel/UCX6OQ3DkcsbYNE6H8u...</td>\n",
       "    </tr>\n",
       "    <tr>\n",
       "      <th>2</th>\n",
       "      <td>3</td>\n",
       "      <td>CoComelon</td>\n",
       "      <td>Educación</td>\n",
       "      <td>168100000.0</td>\n",
       "      <td>Unknown</td>\n",
       "      <td>4100000.0</td>\n",
       "      <td>21600.0</td>\n",
       "      <td>0.0</td>\n",
       "      <td>http://youtube.com/channel/UCbCmjCuTUZos6Inko4...</td>\n",
       "    </tr>\n",
       "    <tr>\n",
       "      <th>3</th>\n",
       "      <td>4</td>\n",
       "      <td>SETIndia</td>\n",
       "      <td>NaN</td>\n",
       "      <td>165400000.0</td>\n",
       "      <td>India</td>\n",
       "      <td>23300.0</td>\n",
       "      <td>239.0</td>\n",
       "      <td>9.0</td>\n",
       "      <td>http://youtube.com/channel/UCpEhnqL0y41EpW2TvW...</td>\n",
       "    </tr>\n",
       "    <tr>\n",
       "      <th>4</th>\n",
       "      <td>5</td>\n",
       "      <td>KidsDianaShow</td>\n",
       "      <td>Animación, Juguetes</td>\n",
       "      <td>116500000.0</td>\n",
       "      <td>Unknown</td>\n",
       "      <td>4100000.0</td>\n",
       "      <td>8800.0</td>\n",
       "      <td>0.0</td>\n",
       "      <td>http://youtube.com/channel/UCk8GzjMOrta8yxDcKf...</td>\n",
       "    </tr>\n",
       "    <tr>\n",
       "      <th>5</th>\n",
       "      <td>658</td>\n",
       "      <td>PewDiePie</td>\n",
       "      <td>Películas, Videojuegos</td>\n",
       "      <td>111400000.0</td>\n",
       "      <td>Estados Unidos</td>\n",
       "      <td>2900000.0</td>\n",
       "      <td>182000.0</td>\n",
       "      <td>8100.0</td>\n",
       "      <td>http://youtube.com/channel/UC-lHJZR3Gqxm24_Vd_...</td>\n",
       "    </tr>\n",
       "    <tr>\n",
       "      <th>6</th>\n",
       "      <td>7</td>\n",
       "      <td>LikeNastyaofficial</td>\n",
       "      <td>Juguetes</td>\n",
       "      <td>110400000.0</td>\n",
       "      <td>Unknown</td>\n",
       "      <td>4100000.0</td>\n",
       "      <td>14500.0</td>\n",
       "      <td>0.0</td>\n",
       "      <td>http://youtube.com/channel/UCJplp5SjeGSdVdwsfb...</td>\n",
       "    </tr>\n",
       "    <tr>\n",
       "      <th>7</th>\n",
       "      <td>8</td>\n",
       "      <td>VladandNiki</td>\n",
       "      <td>Animación, Juguetes</td>\n",
       "      <td>105500000.0</td>\n",
       "      <td>Unknown</td>\n",
       "      <td>5500000.0</td>\n",
       "      <td>17300.0</td>\n",
       "      <td>0.0</td>\n",
       "      <td>http://youtube.com/channel/UCvlE5gTbOvjiolFlEm...</td>\n",
       "    </tr>\n",
       "    <tr>\n",
       "      <th>8</th>\n",
       "      <td>9</td>\n",
       "      <td>zeemusiccompany</td>\n",
       "      <td>Música y baile</td>\n",
       "      <td>102600000.0</td>\n",
       "      <td>India</td>\n",
       "      <td>46700.0</td>\n",
       "      <td>1800.0</td>\n",
       "      <td>34.0</td>\n",
       "      <td>http://youtube.com/channel/UCFFbwnve3yF62-tVXk...</td>\n",
       "    </tr>\n",
       "    <tr>\n",
       "      <th>9</th>\n",
       "      <td>10</td>\n",
       "      <td>WWE</td>\n",
       "      <td>Videojuegos</td>\n",
       "      <td>98100000.0</td>\n",
       "      <td>Estados Unidos</td>\n",
       "      <td>148200.0</td>\n",
       "      <td>4600.0</td>\n",
       "      <td>189.0</td>\n",
       "      <td>http://youtube.com/channel/UCJ5v_MCY6GNUBTO8-D...</td>\n",
       "    </tr>\n",
       "  </tbody>\n",
       "</table>\n",
       "</div>"
      ],
      "text/plain": [
       "   Rank            Username              Categories   Suscribers  \\\n",
       "0     1             tseries          Música y baile  253500000.0   \n",
       "1     2             MrBeast      Videojuegos, Humor  210100000.0   \n",
       "2     3           CoComelon               Educación  168100000.0   \n",
       "3     4            SETIndia                     NaN  165400000.0   \n",
       "4     5       KidsDianaShow     Animación, Juguetes  116500000.0   \n",
       "5  658           PewDiePie  Películas, Videojuegos  111400000.0   \n",
       "6     7  LikeNastyaofficial                Juguetes  110400000.0   \n",
       "7     8         VladandNiki     Animación, Juguetes  105500000.0   \n",
       "8     9     zeemusiccompany          Música y baile  102600000.0   \n",
       "9    10                 WWE             Videojuegos   98100000.0   \n",
       "\n",
       "          Country      Visits      Likes  Comments  \\\n",
       "0           India    111300.0     3200.0     120.0   \n",
       "1  Estados Unidos  95400000.0  5400000.0   16600.0   \n",
       "2         Unknown   4100000.0    21600.0       0.0   \n",
       "3           India     23300.0      239.0       9.0   \n",
       "4         Unknown   4100000.0     8800.0       0.0   \n",
       "5  Estados Unidos   2900000.0   182000.0    8100.0   \n",
       "6         Unknown   4100000.0    14500.0       0.0   \n",
       "7         Unknown   5500000.0    17300.0       0.0   \n",
       "8           India     46700.0     1800.0      34.0   \n",
       "9  Estados Unidos    148200.0     4600.0     189.0   \n",
       "\n",
       "                                               Links  \n",
       "0  http://youtube.com/channel/UCq-Fj5jknLsUf-MWSy...  \n",
       "1  http://youtube.com/channel/UCX6OQ3DkcsbYNE6H8u...  \n",
       "2  http://youtube.com/channel/UCbCmjCuTUZos6Inko4...  \n",
       "3  http://youtube.com/channel/UCpEhnqL0y41EpW2TvW...  \n",
       "4  http://youtube.com/channel/UCk8GzjMOrta8yxDcKf...  \n",
       "5  http://youtube.com/channel/UC-lHJZR3Gqxm24_Vd_...  \n",
       "6  http://youtube.com/channel/UCJplp5SjeGSdVdwsfb...  \n",
       "7  http://youtube.com/channel/UCvlE5gTbOvjiolFlEm...  \n",
       "8  http://youtube.com/channel/UCFFbwnve3yF62-tVXk...  \n",
       "9  http://youtube.com/channel/UCJ5v_MCY6GNUBTO8-D...  "
      ]
     },
     "execution_count": 8,
     "metadata": {},
     "output_type": "execute_result"
    }
   ],
   "source": [
    "df.head(10)"
   ]
  },
  {
   "cell_type": "code",
   "execution_count": 9,
   "id": "cee9137c-2537-45de-af12-7d9832756198",
   "metadata": {},
   "outputs": [
    {
     "data": {
      "text/html": [
       "<div>\n",
       "<style scoped>\n",
       "    .dataframe tbody tr th:only-of-type {\n",
       "        vertical-align: middle;\n",
       "    }\n",
       "\n",
       "    .dataframe tbody tr th {\n",
       "        vertical-align: top;\n",
       "    }\n",
       "\n",
       "    .dataframe thead th {\n",
       "        text-align: right;\n",
       "    }\n",
       "</style>\n",
       "<table border=\"1\" class=\"dataframe\">\n",
       "  <thead>\n",
       "    <tr style=\"text-align: right;\">\n",
       "      <th></th>\n",
       "      <th>Rank</th>\n",
       "      <th>Username</th>\n",
       "      <th>Categories</th>\n",
       "      <th>Suscribers</th>\n",
       "      <th>Country</th>\n",
       "      <th>Visits</th>\n",
       "      <th>Likes</th>\n",
       "      <th>Comments</th>\n",
       "      <th>Links</th>\n",
       "    </tr>\n",
       "  </thead>\n",
       "  <tbody>\n",
       "    <tr>\n",
       "      <th>0</th>\n",
       "      <td>1</td>\n",
       "      <td>tseries</td>\n",
       "      <td>Música y baile</td>\n",
       "      <td>253500000.0</td>\n",
       "      <td>India</td>\n",
       "      <td>111300.0</td>\n",
       "      <td>3200.0</td>\n",
       "      <td>120.0</td>\n",
       "      <td>http://youtube.com/channel/UCq-Fj5jknLsUf-MWSy...</td>\n",
       "    </tr>\n",
       "    <tr>\n",
       "      <th>1</th>\n",
       "      <td>2</td>\n",
       "      <td>MrBeast</td>\n",
       "      <td>Videojuegos, Humor</td>\n",
       "      <td>210100000.0</td>\n",
       "      <td>Estados Unidos</td>\n",
       "      <td>95400000.0</td>\n",
       "      <td>5400000.0</td>\n",
       "      <td>16600.0</td>\n",
       "      <td>http://youtube.com/channel/UCX6OQ3DkcsbYNE6H8u...</td>\n",
       "    </tr>\n",
       "    <tr>\n",
       "      <th>2</th>\n",
       "      <td>3</td>\n",
       "      <td>CoComelon</td>\n",
       "      <td>Educación</td>\n",
       "      <td>168100000.0</td>\n",
       "      <td>Unknown</td>\n",
       "      <td>4100000.0</td>\n",
       "      <td>21600.0</td>\n",
       "      <td>0.0</td>\n",
       "      <td>http://youtube.com/channel/UCbCmjCuTUZos6Inko4...</td>\n",
       "    </tr>\n",
       "    <tr>\n",
       "      <th>3</th>\n",
       "      <td>4</td>\n",
       "      <td>SETIndia</td>\n",
       "      <td>NaN</td>\n",
       "      <td>165400000.0</td>\n",
       "      <td>India</td>\n",
       "      <td>23300.0</td>\n",
       "      <td>239.0</td>\n",
       "      <td>9.0</td>\n",
       "      <td>http://youtube.com/channel/UCpEhnqL0y41EpW2TvW...</td>\n",
       "    </tr>\n",
       "    <tr>\n",
       "      <th>4</th>\n",
       "      <td>5</td>\n",
       "      <td>KidsDianaShow</td>\n",
       "      <td>Animación, Juguetes</td>\n",
       "      <td>116500000.0</td>\n",
       "      <td>Unknown</td>\n",
       "      <td>4100000.0</td>\n",
       "      <td>8800.0</td>\n",
       "      <td>0.0</td>\n",
       "      <td>http://youtube.com/channel/UCk8GzjMOrta8yxDcKf...</td>\n",
       "    </tr>\n",
       "    <tr>\n",
       "      <th>5</th>\n",
       "      <td>658</td>\n",
       "      <td>PewDiePie</td>\n",
       "      <td>Películas, Videojuegos</td>\n",
       "      <td>111400000.0</td>\n",
       "      <td>Estados Unidos</td>\n",
       "      <td>2900000.0</td>\n",
       "      <td>182000.0</td>\n",
       "      <td>8100.0</td>\n",
       "      <td>http://youtube.com/channel/UC-lHJZR3Gqxm24_Vd_...</td>\n",
       "    </tr>\n",
       "    <tr>\n",
       "      <th>6</th>\n",
       "      <td>7</td>\n",
       "      <td>LikeNastyaofficial</td>\n",
       "      <td>Juguetes</td>\n",
       "      <td>110400000.0</td>\n",
       "      <td>Unknown</td>\n",
       "      <td>4100000.0</td>\n",
       "      <td>14500.0</td>\n",
       "      <td>0.0</td>\n",
       "      <td>http://youtube.com/channel/UCJplp5SjeGSdVdwsfb...</td>\n",
       "    </tr>\n",
       "    <tr>\n",
       "      <th>7</th>\n",
       "      <td>8</td>\n",
       "      <td>VladandNiki</td>\n",
       "      <td>Animación, Juguetes</td>\n",
       "      <td>105500000.0</td>\n",
       "      <td>Unknown</td>\n",
       "      <td>5500000.0</td>\n",
       "      <td>17300.0</td>\n",
       "      <td>0.0</td>\n",
       "      <td>http://youtube.com/channel/UCvlE5gTbOvjiolFlEm...</td>\n",
       "    </tr>\n",
       "    <tr>\n",
       "      <th>8</th>\n",
       "      <td>9</td>\n",
       "      <td>zeemusiccompany</td>\n",
       "      <td>Música y baile</td>\n",
       "      <td>102600000.0</td>\n",
       "      <td>India</td>\n",
       "      <td>46700.0</td>\n",
       "      <td>1800.0</td>\n",
       "      <td>34.0</td>\n",
       "      <td>http://youtube.com/channel/UCFFbwnve3yF62-tVXk...</td>\n",
       "    </tr>\n",
       "    <tr>\n",
       "      <th>9</th>\n",
       "      <td>10</td>\n",
       "      <td>WWE</td>\n",
       "      <td>Videojuegos</td>\n",
       "      <td>98100000.0</td>\n",
       "      <td>Estados Unidos</td>\n",
       "      <td>148200.0</td>\n",
       "      <td>4600.0</td>\n",
       "      <td>189.0</td>\n",
       "      <td>http://youtube.com/channel/UCJ5v_MCY6GNUBTO8-D...</td>\n",
       "    </tr>\n",
       "    <tr>\n",
       "      <th>10</th>\n",
       "      <td>1173</td>\n",
       "      <td>BLACKPINK</td>\n",
       "      <td>Música y baile</td>\n",
       "      <td>92200000.0</td>\n",
       "      <td>Estados Unidos</td>\n",
       "      <td>1500000.0</td>\n",
       "      <td>183500.0</td>\n",
       "      <td>6300.0</td>\n",
       "      <td>http://youtube.com/channel/UCOmHUn--16B90oW2L6...</td>\n",
       "    </tr>\n",
       "    <tr>\n",
       "      <th>11</th>\n",
       "      <td>12</td>\n",
       "      <td>GoldminesTelefilms</td>\n",
       "      <td>NaN</td>\n",
       "      <td>92100000.0</td>\n",
       "      <td>India</td>\n",
       "      <td>23400.0</td>\n",
       "      <td>261.0</td>\n",
       "      <td>12.0</td>\n",
       "      <td>http://youtube.com/channel/UCyoXW-Dse7fURq30EW...</td>\n",
       "    </tr>\n",
       "    <tr>\n",
       "      <th>12</th>\n",
       "      <td>13</td>\n",
       "      <td>SonySAB</td>\n",
       "      <td>Películas, Animación</td>\n",
       "      <td>87200000.0</td>\n",
       "      <td>India</td>\n",
       "      <td>33300.0</td>\n",
       "      <td>562.0</td>\n",
       "      <td>15.0</td>\n",
       "      <td>http://youtube.com/channel/UC6-F5tO8uklgE9Zy8I...</td>\n",
       "    </tr>\n",
       "    <tr>\n",
       "      <th>13</th>\n",
       "      <td>14</td>\n",
       "      <td>5MinuteCraftsYouTube</td>\n",
       "      <td>Películas</td>\n",
       "      <td>80500000.0</td>\n",
       "      <td>India</td>\n",
       "      <td>101100.0</td>\n",
       "      <td>574.0</td>\n",
       "      <td>25.0</td>\n",
       "      <td>http://youtube.com/channel/UC295-Dw_tDNtZXFeAP...</td>\n",
       "    </tr>\n",
       "    <tr>\n",
       "      <th>14</th>\n",
       "      <td>1533</td>\n",
       "      <td>BTS</td>\n",
       "      <td>Música y baile</td>\n",
       "      <td>77000000.0</td>\n",
       "      <td>India</td>\n",
       "      <td>916400.0</td>\n",
       "      <td>166600.0</td>\n",
       "      <td>3400.0</td>\n",
       "      <td>http://youtube.com/channel/UCLkAepWjdylmXSltof...</td>\n",
       "    </tr>\n",
       "    <tr>\n",
       "      <th>15</th>\n",
       "      <td>16</td>\n",
       "      <td>zeetv</td>\n",
       "      <td>NaN</td>\n",
       "      <td>74700000.0</td>\n",
       "      <td>India</td>\n",
       "      <td>2900.0</td>\n",
       "      <td>134.0</td>\n",
       "      <td>0.0</td>\n",
       "      <td>http://youtube.com/channel/UCppHT7SZKKvar4Oc9J...</td>\n",
       "    </tr>\n",
       "    <tr>\n",
       "      <th>16</th>\n",
       "      <td>171061</td>\n",
       "      <td>HYBELABELS</td>\n",
       "      <td>Música y baile</td>\n",
       "      <td>73400000.0</td>\n",
       "      <td>Estados Unidos</td>\n",
       "      <td>341100.0</td>\n",
       "      <td>47200.0</td>\n",
       "      <td>716.0</td>\n",
       "      <td>http://youtube.com/channel/UC3IZKseVpdzPSBaWxB...</td>\n",
       "    </tr>\n",
       "    <tr>\n",
       "      <th>17</th>\n",
       "      <td>18</td>\n",
       "      <td>Pinkfong</td>\n",
       "      <td>Animación, Juguetes</td>\n",
       "      <td>71100000.0</td>\n",
       "      <td>Unknown</td>\n",
       "      <td>337700.0</td>\n",
       "      <td>363.0</td>\n",
       "      <td>0.0</td>\n",
       "      <td>http://youtube.com/channel/UCcdwLMPsaU2ezNSJU1...</td>\n",
       "    </tr>\n",
       "    <tr>\n",
       "      <th>18</th>\n",
       "      <td>19</td>\n",
       "      <td>ChuChuTV</td>\n",
       "      <td>Juguetes</td>\n",
       "      <td>68800000.0</td>\n",
       "      <td>Unknown</td>\n",
       "      <td>475200.0</td>\n",
       "      <td>11000.0</td>\n",
       "      <td>0.0</td>\n",
       "      <td>http://youtube.com/channel/UCBnZ16ahKA2DZ_T5W0...</td>\n",
       "    </tr>\n",
       "    <tr>\n",
       "      <th>19</th>\n",
       "      <td>20</td>\n",
       "      <td>colorstv</td>\n",
       "      <td>NaN</td>\n",
       "      <td>68700000.0</td>\n",
       "      <td>India</td>\n",
       "      <td>13700.0</td>\n",
       "      <td>206.0</td>\n",
       "      <td>2.0</td>\n",
       "      <td>http://youtube.com/channel/UC55IWqFLDH1Xp7iu1_...</td>\n",
       "    </tr>\n",
       "  </tbody>\n",
       "</table>\n",
       "</div>"
      ],
      "text/plain": [
       "       Rank              Username              Categories   Suscribers  \\\n",
       "0         1               tseries          Música y baile  253500000.0   \n",
       "1         2               MrBeast      Videojuegos, Humor  210100000.0   \n",
       "2         3             CoComelon               Educación  168100000.0   \n",
       "3         4              SETIndia                     NaN  165400000.0   \n",
       "4         5         KidsDianaShow     Animación, Juguetes  116500000.0   \n",
       "5      658             PewDiePie  Películas, Videojuegos  111400000.0   \n",
       "6         7    LikeNastyaofficial                Juguetes  110400000.0   \n",
       "7         8           VladandNiki     Animación, Juguetes  105500000.0   \n",
       "8         9       zeemusiccompany          Música y baile  102600000.0   \n",
       "9        10                   WWE             Videojuegos   98100000.0   \n",
       "10    1173             BLACKPINK          Música y baile   92200000.0   \n",
       "11       12    GoldminesTelefilms                     NaN   92100000.0   \n",
       "12       13               SonySAB    Películas, Animación   87200000.0   \n",
       "13       14  5MinuteCraftsYouTube               Películas   80500000.0   \n",
       "14    1533                   BTS          Música y baile   77000000.0   \n",
       "15       16                 zeetv                     NaN   74700000.0   \n",
       "16  171061            HYBELABELS          Música y baile   73400000.0   \n",
       "17       18              Pinkfong     Animación, Juguetes   71100000.0   \n",
       "18       19              ChuChuTV                Juguetes   68800000.0   \n",
       "19       20              colorstv                     NaN   68700000.0   \n",
       "\n",
       "           Country      Visits      Likes  Comments  \\\n",
       "0            India    111300.0     3200.0     120.0   \n",
       "1   Estados Unidos  95400000.0  5400000.0   16600.0   \n",
       "2          Unknown   4100000.0    21600.0       0.0   \n",
       "3            India     23300.0      239.0       9.0   \n",
       "4          Unknown   4100000.0     8800.0       0.0   \n",
       "5   Estados Unidos   2900000.0   182000.0    8100.0   \n",
       "6          Unknown   4100000.0    14500.0       0.0   \n",
       "7          Unknown   5500000.0    17300.0       0.0   \n",
       "8            India     46700.0     1800.0      34.0   \n",
       "9   Estados Unidos    148200.0     4600.0     189.0   \n",
       "10  Estados Unidos   1500000.0   183500.0    6300.0   \n",
       "11           India     23400.0      261.0      12.0   \n",
       "12           India     33300.0      562.0      15.0   \n",
       "13           India    101100.0      574.0      25.0   \n",
       "14           India    916400.0   166600.0    3400.0   \n",
       "15           India      2900.0      134.0       0.0   \n",
       "16  Estados Unidos    341100.0    47200.0     716.0   \n",
       "17         Unknown    337700.0      363.0       0.0   \n",
       "18         Unknown    475200.0    11000.0       0.0   \n",
       "19           India     13700.0      206.0       2.0   \n",
       "\n",
       "                                                Links  \n",
       "0   http://youtube.com/channel/UCq-Fj5jknLsUf-MWSy...  \n",
       "1   http://youtube.com/channel/UCX6OQ3DkcsbYNE6H8u...  \n",
       "2   http://youtube.com/channel/UCbCmjCuTUZos6Inko4...  \n",
       "3   http://youtube.com/channel/UCpEhnqL0y41EpW2TvW...  \n",
       "4   http://youtube.com/channel/UCk8GzjMOrta8yxDcKf...  \n",
       "5   http://youtube.com/channel/UC-lHJZR3Gqxm24_Vd_...  \n",
       "6   http://youtube.com/channel/UCJplp5SjeGSdVdwsfb...  \n",
       "7   http://youtube.com/channel/UCvlE5gTbOvjiolFlEm...  \n",
       "8   http://youtube.com/channel/UCFFbwnve3yF62-tVXk...  \n",
       "9   http://youtube.com/channel/UCJ5v_MCY6GNUBTO8-D...  \n",
       "10  http://youtube.com/channel/UCOmHUn--16B90oW2L6...  \n",
       "11  http://youtube.com/channel/UCyoXW-Dse7fURq30EW...  \n",
       "12  http://youtube.com/channel/UC6-F5tO8uklgE9Zy8I...  \n",
       "13  http://youtube.com/channel/UC295-Dw_tDNtZXFeAP...  \n",
       "14  http://youtube.com/channel/UCLkAepWjdylmXSltof...  \n",
       "15  http://youtube.com/channel/UCppHT7SZKKvar4Oc9J...  \n",
       "16  http://youtube.com/channel/UC3IZKseVpdzPSBaWxB...  \n",
       "17  http://youtube.com/channel/UCcdwLMPsaU2ezNSJU1...  \n",
       "18  http://youtube.com/channel/UCBnZ16ahKA2DZ_T5W0...  \n",
       "19  http://youtube.com/channel/UC55IWqFLDH1Xp7iu1_...  "
      ]
     },
     "execution_count": 9,
     "metadata": {},
     "output_type": "execute_result"
    }
   ],
   "source": [
    "df.head(20)"
   ]
  },
  {
   "cell_type": "code",
   "execution_count": 10,
   "id": "c98a8874-ff9d-458f-be13-0f529ebb7e25",
   "metadata": {},
   "outputs": [],
   "source": [
    "df['Rank'] = df['Rank'].str.replace(r'\\D', '', regex=True).astype(int)\n"
   ]
  },
  {
   "cell_type": "code",
   "execution_count": 11,
   "id": "cc4730b1-c009-4f23-9d0f-ab076b67ace0",
   "metadata": {},
   "outputs": [
    {
     "data": {
      "text/html": [
       "<div>\n",
       "<style scoped>\n",
       "    .dataframe tbody tr th:only-of-type {\n",
       "        vertical-align: middle;\n",
       "    }\n",
       "\n",
       "    .dataframe tbody tr th {\n",
       "        vertical-align: top;\n",
       "    }\n",
       "\n",
       "    .dataframe thead th {\n",
       "        text-align: right;\n",
       "    }\n",
       "</style>\n",
       "<table border=\"1\" class=\"dataframe\">\n",
       "  <thead>\n",
       "    <tr style=\"text-align: right;\">\n",
       "      <th></th>\n",
       "      <th>Rank</th>\n",
       "      <th>Username</th>\n",
       "      <th>Categories</th>\n",
       "      <th>Suscribers</th>\n",
       "      <th>Country</th>\n",
       "      <th>Visits</th>\n",
       "      <th>Likes</th>\n",
       "      <th>Comments</th>\n",
       "      <th>Links</th>\n",
       "    </tr>\n",
       "  </thead>\n",
       "  <tbody>\n",
       "    <tr>\n",
       "      <th>0</th>\n",
       "      <td>1</td>\n",
       "      <td>tseries</td>\n",
       "      <td>Música y baile</td>\n",
       "      <td>253500000.0</td>\n",
       "      <td>India</td>\n",
       "      <td>111300.0</td>\n",
       "      <td>3200.0</td>\n",
       "      <td>120.0</td>\n",
       "      <td>http://youtube.com/channel/UCq-Fj5jknLsUf-MWSy...</td>\n",
       "    </tr>\n",
       "    <tr>\n",
       "      <th>1</th>\n",
       "      <td>2</td>\n",
       "      <td>MrBeast</td>\n",
       "      <td>Videojuegos, Humor</td>\n",
       "      <td>210100000.0</td>\n",
       "      <td>Estados Unidos</td>\n",
       "      <td>95400000.0</td>\n",
       "      <td>5400000.0</td>\n",
       "      <td>16600.0</td>\n",
       "      <td>http://youtube.com/channel/UCX6OQ3DkcsbYNE6H8u...</td>\n",
       "    </tr>\n",
       "    <tr>\n",
       "      <th>2</th>\n",
       "      <td>3</td>\n",
       "      <td>CoComelon</td>\n",
       "      <td>Educación</td>\n",
       "      <td>168100000.0</td>\n",
       "      <td>Unknown</td>\n",
       "      <td>4100000.0</td>\n",
       "      <td>21600.0</td>\n",
       "      <td>0.0</td>\n",
       "      <td>http://youtube.com/channel/UCbCmjCuTUZos6Inko4...</td>\n",
       "    </tr>\n",
       "    <tr>\n",
       "      <th>3</th>\n",
       "      <td>4</td>\n",
       "      <td>SETIndia</td>\n",
       "      <td>NaN</td>\n",
       "      <td>165400000.0</td>\n",
       "      <td>India</td>\n",
       "      <td>23300.0</td>\n",
       "      <td>239.0</td>\n",
       "      <td>9.0</td>\n",
       "      <td>http://youtube.com/channel/UCpEhnqL0y41EpW2TvW...</td>\n",
       "    </tr>\n",
       "    <tr>\n",
       "      <th>4</th>\n",
       "      <td>5</td>\n",
       "      <td>KidsDianaShow</td>\n",
       "      <td>Animación, Juguetes</td>\n",
       "      <td>116500000.0</td>\n",
       "      <td>Unknown</td>\n",
       "      <td>4100000.0</td>\n",
       "      <td>8800.0</td>\n",
       "      <td>0.0</td>\n",
       "      <td>http://youtube.com/channel/UCk8GzjMOrta8yxDcKf...</td>\n",
       "    </tr>\n",
       "    <tr>\n",
       "      <th>5</th>\n",
       "      <td>658</td>\n",
       "      <td>PewDiePie</td>\n",
       "      <td>Películas, Videojuegos</td>\n",
       "      <td>111400000.0</td>\n",
       "      <td>Estados Unidos</td>\n",
       "      <td>2900000.0</td>\n",
       "      <td>182000.0</td>\n",
       "      <td>8100.0</td>\n",
       "      <td>http://youtube.com/channel/UC-lHJZR3Gqxm24_Vd_...</td>\n",
       "    </tr>\n",
       "    <tr>\n",
       "      <th>6</th>\n",
       "      <td>7</td>\n",
       "      <td>LikeNastyaofficial</td>\n",
       "      <td>Juguetes</td>\n",
       "      <td>110400000.0</td>\n",
       "      <td>Unknown</td>\n",
       "      <td>4100000.0</td>\n",
       "      <td>14500.0</td>\n",
       "      <td>0.0</td>\n",
       "      <td>http://youtube.com/channel/UCJplp5SjeGSdVdwsfb...</td>\n",
       "    </tr>\n",
       "    <tr>\n",
       "      <th>7</th>\n",
       "      <td>8</td>\n",
       "      <td>VladandNiki</td>\n",
       "      <td>Animación, Juguetes</td>\n",
       "      <td>105500000.0</td>\n",
       "      <td>Unknown</td>\n",
       "      <td>5500000.0</td>\n",
       "      <td>17300.0</td>\n",
       "      <td>0.0</td>\n",
       "      <td>http://youtube.com/channel/UCvlE5gTbOvjiolFlEm...</td>\n",
       "    </tr>\n",
       "    <tr>\n",
       "      <th>8</th>\n",
       "      <td>9</td>\n",
       "      <td>zeemusiccompany</td>\n",
       "      <td>Música y baile</td>\n",
       "      <td>102600000.0</td>\n",
       "      <td>India</td>\n",
       "      <td>46700.0</td>\n",
       "      <td>1800.0</td>\n",
       "      <td>34.0</td>\n",
       "      <td>http://youtube.com/channel/UCFFbwnve3yF62-tVXk...</td>\n",
       "    </tr>\n",
       "    <tr>\n",
       "      <th>9</th>\n",
       "      <td>10</td>\n",
       "      <td>WWE</td>\n",
       "      <td>Videojuegos</td>\n",
       "      <td>98100000.0</td>\n",
       "      <td>Estados Unidos</td>\n",
       "      <td>148200.0</td>\n",
       "      <td>4600.0</td>\n",
       "      <td>189.0</td>\n",
       "      <td>http://youtube.com/channel/UCJ5v_MCY6GNUBTO8-D...</td>\n",
       "    </tr>\n",
       "    <tr>\n",
       "      <th>10</th>\n",
       "      <td>1173</td>\n",
       "      <td>BLACKPINK</td>\n",
       "      <td>Música y baile</td>\n",
       "      <td>92200000.0</td>\n",
       "      <td>Estados Unidos</td>\n",
       "      <td>1500000.0</td>\n",
       "      <td>183500.0</td>\n",
       "      <td>6300.0</td>\n",
       "      <td>http://youtube.com/channel/UCOmHUn--16B90oW2L6...</td>\n",
       "    </tr>\n",
       "    <tr>\n",
       "      <th>11</th>\n",
       "      <td>12</td>\n",
       "      <td>GoldminesTelefilms</td>\n",
       "      <td>NaN</td>\n",
       "      <td>92100000.0</td>\n",
       "      <td>India</td>\n",
       "      <td>23400.0</td>\n",
       "      <td>261.0</td>\n",
       "      <td>12.0</td>\n",
       "      <td>http://youtube.com/channel/UCyoXW-Dse7fURq30EW...</td>\n",
       "    </tr>\n",
       "    <tr>\n",
       "      <th>12</th>\n",
       "      <td>13</td>\n",
       "      <td>SonySAB</td>\n",
       "      <td>Películas, Animación</td>\n",
       "      <td>87200000.0</td>\n",
       "      <td>India</td>\n",
       "      <td>33300.0</td>\n",
       "      <td>562.0</td>\n",
       "      <td>15.0</td>\n",
       "      <td>http://youtube.com/channel/UC6-F5tO8uklgE9Zy8I...</td>\n",
       "    </tr>\n",
       "    <tr>\n",
       "      <th>13</th>\n",
       "      <td>14</td>\n",
       "      <td>5MinuteCraftsYouTube</td>\n",
       "      <td>Películas</td>\n",
       "      <td>80500000.0</td>\n",
       "      <td>India</td>\n",
       "      <td>101100.0</td>\n",
       "      <td>574.0</td>\n",
       "      <td>25.0</td>\n",
       "      <td>http://youtube.com/channel/UC295-Dw_tDNtZXFeAP...</td>\n",
       "    </tr>\n",
       "    <tr>\n",
       "      <th>14</th>\n",
       "      <td>1533</td>\n",
       "      <td>BTS</td>\n",
       "      <td>Música y baile</td>\n",
       "      <td>77000000.0</td>\n",
       "      <td>India</td>\n",
       "      <td>916400.0</td>\n",
       "      <td>166600.0</td>\n",
       "      <td>3400.0</td>\n",
       "      <td>http://youtube.com/channel/UCLkAepWjdylmXSltof...</td>\n",
       "    </tr>\n",
       "    <tr>\n",
       "      <th>15</th>\n",
       "      <td>16</td>\n",
       "      <td>zeetv</td>\n",
       "      <td>NaN</td>\n",
       "      <td>74700000.0</td>\n",
       "      <td>India</td>\n",
       "      <td>2900.0</td>\n",
       "      <td>134.0</td>\n",
       "      <td>0.0</td>\n",
       "      <td>http://youtube.com/channel/UCppHT7SZKKvar4Oc9J...</td>\n",
       "    </tr>\n",
       "    <tr>\n",
       "      <th>16</th>\n",
       "      <td>171061</td>\n",
       "      <td>HYBELABELS</td>\n",
       "      <td>Música y baile</td>\n",
       "      <td>73400000.0</td>\n",
       "      <td>Estados Unidos</td>\n",
       "      <td>341100.0</td>\n",
       "      <td>47200.0</td>\n",
       "      <td>716.0</td>\n",
       "      <td>http://youtube.com/channel/UC3IZKseVpdzPSBaWxB...</td>\n",
       "    </tr>\n",
       "    <tr>\n",
       "      <th>17</th>\n",
       "      <td>18</td>\n",
       "      <td>Pinkfong</td>\n",
       "      <td>Animación, Juguetes</td>\n",
       "      <td>71100000.0</td>\n",
       "      <td>Unknown</td>\n",
       "      <td>337700.0</td>\n",
       "      <td>363.0</td>\n",
       "      <td>0.0</td>\n",
       "      <td>http://youtube.com/channel/UCcdwLMPsaU2ezNSJU1...</td>\n",
       "    </tr>\n",
       "    <tr>\n",
       "      <th>18</th>\n",
       "      <td>19</td>\n",
       "      <td>ChuChuTV</td>\n",
       "      <td>Juguetes</td>\n",
       "      <td>68800000.0</td>\n",
       "      <td>Unknown</td>\n",
       "      <td>475200.0</td>\n",
       "      <td>11000.0</td>\n",
       "      <td>0.0</td>\n",
       "      <td>http://youtube.com/channel/UCBnZ16ahKA2DZ_T5W0...</td>\n",
       "    </tr>\n",
       "    <tr>\n",
       "      <th>19</th>\n",
       "      <td>20</td>\n",
       "      <td>colorstv</td>\n",
       "      <td>NaN</td>\n",
       "      <td>68700000.0</td>\n",
       "      <td>India</td>\n",
       "      <td>13700.0</td>\n",
       "      <td>206.0</td>\n",
       "      <td>2.0</td>\n",
       "      <td>http://youtube.com/channel/UC55IWqFLDH1Xp7iu1_...</td>\n",
       "    </tr>\n",
       "  </tbody>\n",
       "</table>\n",
       "</div>"
      ],
      "text/plain": [
       "      Rank              Username              Categories   Suscribers  \\\n",
       "0        1               tseries          Música y baile  253500000.0   \n",
       "1        2               MrBeast      Videojuegos, Humor  210100000.0   \n",
       "2        3             CoComelon               Educación  168100000.0   \n",
       "3        4              SETIndia                     NaN  165400000.0   \n",
       "4        5         KidsDianaShow     Animación, Juguetes  116500000.0   \n",
       "5      658             PewDiePie  Películas, Videojuegos  111400000.0   \n",
       "6        7    LikeNastyaofficial                Juguetes  110400000.0   \n",
       "7        8           VladandNiki     Animación, Juguetes  105500000.0   \n",
       "8        9       zeemusiccompany          Música y baile  102600000.0   \n",
       "9       10                   WWE             Videojuegos   98100000.0   \n",
       "10    1173             BLACKPINK          Música y baile   92200000.0   \n",
       "11      12    GoldminesTelefilms                     NaN   92100000.0   \n",
       "12      13               SonySAB    Películas, Animación   87200000.0   \n",
       "13      14  5MinuteCraftsYouTube               Películas   80500000.0   \n",
       "14    1533                   BTS          Música y baile   77000000.0   \n",
       "15      16                 zeetv                     NaN   74700000.0   \n",
       "16  171061            HYBELABELS          Música y baile   73400000.0   \n",
       "17      18              Pinkfong     Animación, Juguetes   71100000.0   \n",
       "18      19              ChuChuTV                Juguetes   68800000.0   \n",
       "19      20              colorstv                     NaN   68700000.0   \n",
       "\n",
       "           Country      Visits      Likes  Comments  \\\n",
       "0            India    111300.0     3200.0     120.0   \n",
       "1   Estados Unidos  95400000.0  5400000.0   16600.0   \n",
       "2          Unknown   4100000.0    21600.0       0.0   \n",
       "3            India     23300.0      239.0       9.0   \n",
       "4          Unknown   4100000.0     8800.0       0.0   \n",
       "5   Estados Unidos   2900000.0   182000.0    8100.0   \n",
       "6          Unknown   4100000.0    14500.0       0.0   \n",
       "7          Unknown   5500000.0    17300.0       0.0   \n",
       "8            India     46700.0     1800.0      34.0   \n",
       "9   Estados Unidos    148200.0     4600.0     189.0   \n",
       "10  Estados Unidos   1500000.0   183500.0    6300.0   \n",
       "11           India     23400.0      261.0      12.0   \n",
       "12           India     33300.0      562.0      15.0   \n",
       "13           India    101100.0      574.0      25.0   \n",
       "14           India    916400.0   166600.0    3400.0   \n",
       "15           India      2900.0      134.0       0.0   \n",
       "16  Estados Unidos    341100.0    47200.0     716.0   \n",
       "17         Unknown    337700.0      363.0       0.0   \n",
       "18         Unknown    475200.0    11000.0       0.0   \n",
       "19           India     13700.0      206.0       2.0   \n",
       "\n",
       "                                                Links  \n",
       "0   http://youtube.com/channel/UCq-Fj5jknLsUf-MWSy...  \n",
       "1   http://youtube.com/channel/UCX6OQ3DkcsbYNE6H8u...  \n",
       "2   http://youtube.com/channel/UCbCmjCuTUZos6Inko4...  \n",
       "3   http://youtube.com/channel/UCpEhnqL0y41EpW2TvW...  \n",
       "4   http://youtube.com/channel/UCk8GzjMOrta8yxDcKf...  \n",
       "5   http://youtube.com/channel/UC-lHJZR3Gqxm24_Vd_...  \n",
       "6   http://youtube.com/channel/UCJplp5SjeGSdVdwsfb...  \n",
       "7   http://youtube.com/channel/UCvlE5gTbOvjiolFlEm...  \n",
       "8   http://youtube.com/channel/UCFFbwnve3yF62-tVXk...  \n",
       "9   http://youtube.com/channel/UCJ5v_MCY6GNUBTO8-D...  \n",
       "10  http://youtube.com/channel/UCOmHUn--16B90oW2L6...  \n",
       "11  http://youtube.com/channel/UCyoXW-Dse7fURq30EW...  \n",
       "12  http://youtube.com/channel/UC6-F5tO8uklgE9Zy8I...  \n",
       "13  http://youtube.com/channel/UC295-Dw_tDNtZXFeAP...  \n",
       "14  http://youtube.com/channel/UCLkAepWjdylmXSltof...  \n",
       "15  http://youtube.com/channel/UCppHT7SZKKvar4Oc9J...  \n",
       "16  http://youtube.com/channel/UC3IZKseVpdzPSBaWxB...  \n",
       "17  http://youtube.com/channel/UCcdwLMPsaU2ezNSJU1...  \n",
       "18  http://youtube.com/channel/UCBnZ16ahKA2DZ_T5W0...  \n",
       "19  http://youtube.com/channel/UC55IWqFLDH1Xp7iu1_...  "
      ]
     },
     "execution_count": 11,
     "metadata": {},
     "output_type": "execute_result"
    }
   ],
   "source": [
    "df.head(20)"
   ]
  },
  {
   "cell_type": "code",
   "execution_count": 25,
   "id": "ba25c454-62e3-4868-896b-e7a746bb81a2",
   "metadata": {},
   "outputs": [],
   "source": [
    "df.loc[df['Rank'] == 658, 'Rank'] = 6"
   ]
  },
  {
   "cell_type": "code",
   "execution_count": 26,
   "id": "81e5d3ad-1b18-487a-a3a4-fe7b4f32fe91",
   "metadata": {},
   "outputs": [
    {
     "data": {
      "text/html": [
       "<div>\n",
       "<style scoped>\n",
       "    .dataframe tbody tr th:only-of-type {\n",
       "        vertical-align: middle;\n",
       "    }\n",
       "\n",
       "    .dataframe tbody tr th {\n",
       "        vertical-align: top;\n",
       "    }\n",
       "\n",
       "    .dataframe thead th {\n",
       "        text-align: right;\n",
       "    }\n",
       "</style>\n",
       "<table border=\"1\" class=\"dataframe\">\n",
       "  <thead>\n",
       "    <tr style=\"text-align: right;\">\n",
       "      <th></th>\n",
       "      <th>Rank</th>\n",
       "      <th>Username</th>\n",
       "      <th>Categories</th>\n",
       "      <th>Suscribers</th>\n",
       "      <th>Country</th>\n",
       "      <th>Visits</th>\n",
       "      <th>Likes</th>\n",
       "      <th>Comments</th>\n",
       "      <th>Links</th>\n",
       "    </tr>\n",
       "  </thead>\n",
       "  <tbody>\n",
       "    <tr>\n",
       "      <th>0</th>\n",
       "      <td>1</td>\n",
       "      <td>tseries</td>\n",
       "      <td>Música y baile</td>\n",
       "      <td>253500000.0</td>\n",
       "      <td>India</td>\n",
       "      <td>111300.0</td>\n",
       "      <td>3200.0</td>\n",
       "      <td>120.0</td>\n",
       "      <td>http://youtube.com/channel/UCq-Fj5jknLsUf-MWSy...</td>\n",
       "    </tr>\n",
       "    <tr>\n",
       "      <th>1</th>\n",
       "      <td>2</td>\n",
       "      <td>MrBeast</td>\n",
       "      <td>Videojuegos, Humor</td>\n",
       "      <td>210100000.0</td>\n",
       "      <td>Estados Unidos</td>\n",
       "      <td>95400000.0</td>\n",
       "      <td>5400000.0</td>\n",
       "      <td>16600.0</td>\n",
       "      <td>http://youtube.com/channel/UCX6OQ3DkcsbYNE6H8u...</td>\n",
       "    </tr>\n",
       "    <tr>\n",
       "      <th>2</th>\n",
       "      <td>3</td>\n",
       "      <td>CoComelon</td>\n",
       "      <td>Educación</td>\n",
       "      <td>168100000.0</td>\n",
       "      <td>Unknown</td>\n",
       "      <td>4100000.0</td>\n",
       "      <td>21600.0</td>\n",
       "      <td>0.0</td>\n",
       "      <td>http://youtube.com/channel/UCbCmjCuTUZos6Inko4...</td>\n",
       "    </tr>\n",
       "    <tr>\n",
       "      <th>3</th>\n",
       "      <td>4</td>\n",
       "      <td>SETIndia</td>\n",
       "      <td>NaN</td>\n",
       "      <td>165400000.0</td>\n",
       "      <td>India</td>\n",
       "      <td>23300.0</td>\n",
       "      <td>239.0</td>\n",
       "      <td>9.0</td>\n",
       "      <td>http://youtube.com/channel/UCpEhnqL0y41EpW2TvW...</td>\n",
       "    </tr>\n",
       "    <tr>\n",
       "      <th>4</th>\n",
       "      <td>5</td>\n",
       "      <td>KidsDianaShow</td>\n",
       "      <td>Animación, Juguetes</td>\n",
       "      <td>116500000.0</td>\n",
       "      <td>Unknown</td>\n",
       "      <td>4100000.0</td>\n",
       "      <td>8800.0</td>\n",
       "      <td>0.0</td>\n",
       "      <td>http://youtube.com/channel/UCk8GzjMOrta8yxDcKf...</td>\n",
       "    </tr>\n",
       "    <tr>\n",
       "      <th>5</th>\n",
       "      <td>6</td>\n",
       "      <td>PewDiePie</td>\n",
       "      <td>Películas, Videojuegos</td>\n",
       "      <td>111400000.0</td>\n",
       "      <td>Estados Unidos</td>\n",
       "      <td>2900000.0</td>\n",
       "      <td>182000.0</td>\n",
       "      <td>8100.0</td>\n",
       "      <td>http://youtube.com/channel/UC-lHJZR3Gqxm24_Vd_...</td>\n",
       "    </tr>\n",
       "    <tr>\n",
       "      <th>6</th>\n",
       "      <td>7</td>\n",
       "      <td>LikeNastyaofficial</td>\n",
       "      <td>Juguetes</td>\n",
       "      <td>110400000.0</td>\n",
       "      <td>Unknown</td>\n",
       "      <td>4100000.0</td>\n",
       "      <td>14500.0</td>\n",
       "      <td>0.0</td>\n",
       "      <td>http://youtube.com/channel/UCJplp5SjeGSdVdwsfb...</td>\n",
       "    </tr>\n",
       "    <tr>\n",
       "      <th>7</th>\n",
       "      <td>8</td>\n",
       "      <td>VladandNiki</td>\n",
       "      <td>Animación, Juguetes</td>\n",
       "      <td>105500000.0</td>\n",
       "      <td>Unknown</td>\n",
       "      <td>5500000.0</td>\n",
       "      <td>17300.0</td>\n",
       "      <td>0.0</td>\n",
       "      <td>http://youtube.com/channel/UCvlE5gTbOvjiolFlEm...</td>\n",
       "    </tr>\n",
       "    <tr>\n",
       "      <th>8</th>\n",
       "      <td>9</td>\n",
       "      <td>zeemusiccompany</td>\n",
       "      <td>Música y baile</td>\n",
       "      <td>102600000.0</td>\n",
       "      <td>India</td>\n",
       "      <td>46700.0</td>\n",
       "      <td>1800.0</td>\n",
       "      <td>34.0</td>\n",
       "      <td>http://youtube.com/channel/UCFFbwnve3yF62-tVXk...</td>\n",
       "    </tr>\n",
       "    <tr>\n",
       "      <th>9</th>\n",
       "      <td>10</td>\n",
       "      <td>WWE</td>\n",
       "      <td>Videojuegos</td>\n",
       "      <td>98100000.0</td>\n",
       "      <td>Estados Unidos</td>\n",
       "      <td>148200.0</td>\n",
       "      <td>4600.0</td>\n",
       "      <td>189.0</td>\n",
       "      <td>http://youtube.com/channel/UCJ5v_MCY6GNUBTO8-D...</td>\n",
       "    </tr>\n",
       "  </tbody>\n",
       "</table>\n",
       "</div>"
      ],
      "text/plain": [
       "   Rank            Username              Categories   Suscribers  \\\n",
       "0     1             tseries          Música y baile  253500000.0   \n",
       "1     2             MrBeast      Videojuegos, Humor  210100000.0   \n",
       "2     3           CoComelon               Educación  168100000.0   \n",
       "3     4            SETIndia                     NaN  165400000.0   \n",
       "4     5       KidsDianaShow     Animación, Juguetes  116500000.0   \n",
       "5     6           PewDiePie  Películas, Videojuegos  111400000.0   \n",
       "6     7  LikeNastyaofficial                Juguetes  110400000.0   \n",
       "7     8         VladandNiki     Animación, Juguetes  105500000.0   \n",
       "8     9     zeemusiccompany          Música y baile  102600000.0   \n",
       "9    10                 WWE             Videojuegos   98100000.0   \n",
       "\n",
       "          Country      Visits      Likes  Comments  \\\n",
       "0           India    111300.0     3200.0     120.0   \n",
       "1  Estados Unidos  95400000.0  5400000.0   16600.0   \n",
       "2         Unknown   4100000.0    21600.0       0.0   \n",
       "3           India     23300.0      239.0       9.0   \n",
       "4         Unknown   4100000.0     8800.0       0.0   \n",
       "5  Estados Unidos   2900000.0   182000.0    8100.0   \n",
       "6         Unknown   4100000.0    14500.0       0.0   \n",
       "7         Unknown   5500000.0    17300.0       0.0   \n",
       "8           India     46700.0     1800.0      34.0   \n",
       "9  Estados Unidos    148200.0     4600.0     189.0   \n",
       "\n",
       "                                               Links  \n",
       "0  http://youtube.com/channel/UCq-Fj5jknLsUf-MWSy...  \n",
       "1  http://youtube.com/channel/UCX6OQ3DkcsbYNE6H8u...  \n",
       "2  http://youtube.com/channel/UCbCmjCuTUZos6Inko4...  \n",
       "3  http://youtube.com/channel/UCpEhnqL0y41EpW2TvW...  \n",
       "4  http://youtube.com/channel/UCk8GzjMOrta8yxDcKf...  \n",
       "5  http://youtube.com/channel/UC-lHJZR3Gqxm24_Vd_...  \n",
       "6  http://youtube.com/channel/UCJplp5SjeGSdVdwsfb...  \n",
       "7  http://youtube.com/channel/UCvlE5gTbOvjiolFlEm...  \n",
       "8  http://youtube.com/channel/UCFFbwnve3yF62-tVXk...  \n",
       "9  http://youtube.com/channel/UCJ5v_MCY6GNUBTO8-D...  "
      ]
     },
     "execution_count": 26,
     "metadata": {},
     "output_type": "execute_result"
    }
   ],
   "source": [
    "df.head(10)"
   ]
  },
  {
   "cell_type": "code",
   "execution_count": 31,
   "id": "1ce1362c-d5a0-480a-bde8-95eecfc22501",
   "metadata": {},
   "outputs": [],
   "source": [
    "df.loc[df['Rank'] == 171061, 'Rank'] = 17"
   ]
  },
  {
   "cell_type": "code",
   "execution_count": 32,
   "id": "1599e9cc-b8d2-470d-854c-a359c0ed4b4c",
   "metadata": {},
   "outputs": [
    {
     "data": {
      "text/html": [
       "<div>\n",
       "<style scoped>\n",
       "    .dataframe tbody tr th:only-of-type {\n",
       "        vertical-align: middle;\n",
       "    }\n",
       "\n",
       "    .dataframe tbody tr th {\n",
       "        vertical-align: top;\n",
       "    }\n",
       "\n",
       "    .dataframe thead th {\n",
       "        text-align: right;\n",
       "    }\n",
       "</style>\n",
       "<table border=\"1\" class=\"dataframe\">\n",
       "  <thead>\n",
       "    <tr style=\"text-align: right;\">\n",
       "      <th></th>\n",
       "      <th>Rank</th>\n",
       "      <th>Username</th>\n",
       "      <th>Categories</th>\n",
       "      <th>Suscribers</th>\n",
       "      <th>Country</th>\n",
       "      <th>Visits</th>\n",
       "      <th>Likes</th>\n",
       "      <th>Comments</th>\n",
       "      <th>Links</th>\n",
       "    </tr>\n",
       "  </thead>\n",
       "  <tbody>\n",
       "    <tr>\n",
       "      <th>0</th>\n",
       "      <td>1</td>\n",
       "      <td>tseries</td>\n",
       "      <td>Música y baile</td>\n",
       "      <td>253500000.0</td>\n",
       "      <td>India</td>\n",
       "      <td>111300.0</td>\n",
       "      <td>3200.0</td>\n",
       "      <td>120.0</td>\n",
       "      <td>http://youtube.com/channel/UCq-Fj5jknLsUf-MWSy...</td>\n",
       "    </tr>\n",
       "    <tr>\n",
       "      <th>1</th>\n",
       "      <td>2</td>\n",
       "      <td>MrBeast</td>\n",
       "      <td>Videojuegos, Humor</td>\n",
       "      <td>210100000.0</td>\n",
       "      <td>Estados Unidos</td>\n",
       "      <td>95400000.0</td>\n",
       "      <td>5400000.0</td>\n",
       "      <td>16600.0</td>\n",
       "      <td>http://youtube.com/channel/UCX6OQ3DkcsbYNE6H8u...</td>\n",
       "    </tr>\n",
       "    <tr>\n",
       "      <th>2</th>\n",
       "      <td>3</td>\n",
       "      <td>CoComelon</td>\n",
       "      <td>Educación</td>\n",
       "      <td>168100000.0</td>\n",
       "      <td>Unknown</td>\n",
       "      <td>4100000.0</td>\n",
       "      <td>21600.0</td>\n",
       "      <td>0.0</td>\n",
       "      <td>http://youtube.com/channel/UCbCmjCuTUZos6Inko4...</td>\n",
       "    </tr>\n",
       "    <tr>\n",
       "      <th>3</th>\n",
       "      <td>4</td>\n",
       "      <td>SETIndia</td>\n",
       "      <td>NaN</td>\n",
       "      <td>165400000.0</td>\n",
       "      <td>India</td>\n",
       "      <td>23300.0</td>\n",
       "      <td>239.0</td>\n",
       "      <td>9.0</td>\n",
       "      <td>http://youtube.com/channel/UCpEhnqL0y41EpW2TvW...</td>\n",
       "    </tr>\n",
       "    <tr>\n",
       "      <th>4</th>\n",
       "      <td>5</td>\n",
       "      <td>KidsDianaShow</td>\n",
       "      <td>Animación, Juguetes</td>\n",
       "      <td>116500000.0</td>\n",
       "      <td>Unknown</td>\n",
       "      <td>4100000.0</td>\n",
       "      <td>8800.0</td>\n",
       "      <td>0.0</td>\n",
       "      <td>http://youtube.com/channel/UCk8GzjMOrta8yxDcKf...</td>\n",
       "    </tr>\n",
       "    <tr>\n",
       "      <th>5</th>\n",
       "      <td>6</td>\n",
       "      <td>PewDiePie</td>\n",
       "      <td>Películas, Videojuegos</td>\n",
       "      <td>111400000.0</td>\n",
       "      <td>Estados Unidos</td>\n",
       "      <td>2900000.0</td>\n",
       "      <td>182000.0</td>\n",
       "      <td>8100.0</td>\n",
       "      <td>http://youtube.com/channel/UC-lHJZR3Gqxm24_Vd_...</td>\n",
       "    </tr>\n",
       "    <tr>\n",
       "      <th>6</th>\n",
       "      <td>7</td>\n",
       "      <td>LikeNastyaofficial</td>\n",
       "      <td>Juguetes</td>\n",
       "      <td>110400000.0</td>\n",
       "      <td>Unknown</td>\n",
       "      <td>4100000.0</td>\n",
       "      <td>14500.0</td>\n",
       "      <td>0.0</td>\n",
       "      <td>http://youtube.com/channel/UCJplp5SjeGSdVdwsfb...</td>\n",
       "    </tr>\n",
       "    <tr>\n",
       "      <th>7</th>\n",
       "      <td>8</td>\n",
       "      <td>VladandNiki</td>\n",
       "      <td>Animación, Juguetes</td>\n",
       "      <td>105500000.0</td>\n",
       "      <td>Unknown</td>\n",
       "      <td>5500000.0</td>\n",
       "      <td>17300.0</td>\n",
       "      <td>0.0</td>\n",
       "      <td>http://youtube.com/channel/UCvlE5gTbOvjiolFlEm...</td>\n",
       "    </tr>\n",
       "    <tr>\n",
       "      <th>8</th>\n",
       "      <td>9</td>\n",
       "      <td>zeemusiccompany</td>\n",
       "      <td>Música y baile</td>\n",
       "      <td>102600000.0</td>\n",
       "      <td>India</td>\n",
       "      <td>46700.0</td>\n",
       "      <td>1800.0</td>\n",
       "      <td>34.0</td>\n",
       "      <td>http://youtube.com/channel/UCFFbwnve3yF62-tVXk...</td>\n",
       "    </tr>\n",
       "    <tr>\n",
       "      <th>9</th>\n",
       "      <td>10</td>\n",
       "      <td>WWE</td>\n",
       "      <td>Videojuegos</td>\n",
       "      <td>98100000.0</td>\n",
       "      <td>Estados Unidos</td>\n",
       "      <td>148200.0</td>\n",
       "      <td>4600.0</td>\n",
       "      <td>189.0</td>\n",
       "      <td>http://youtube.com/channel/UCJ5v_MCY6GNUBTO8-D...</td>\n",
       "    </tr>\n",
       "    <tr>\n",
       "      <th>10</th>\n",
       "      <td>11</td>\n",
       "      <td>BLACKPINK</td>\n",
       "      <td>Música y baile</td>\n",
       "      <td>92200000.0</td>\n",
       "      <td>Estados Unidos</td>\n",
       "      <td>1500000.0</td>\n",
       "      <td>183500.0</td>\n",
       "      <td>6300.0</td>\n",
       "      <td>http://youtube.com/channel/UCOmHUn--16B90oW2L6...</td>\n",
       "    </tr>\n",
       "    <tr>\n",
       "      <th>11</th>\n",
       "      <td>12</td>\n",
       "      <td>GoldminesTelefilms</td>\n",
       "      <td>NaN</td>\n",
       "      <td>92100000.0</td>\n",
       "      <td>India</td>\n",
       "      <td>23400.0</td>\n",
       "      <td>261.0</td>\n",
       "      <td>12.0</td>\n",
       "      <td>http://youtube.com/channel/UCyoXW-Dse7fURq30EW...</td>\n",
       "    </tr>\n",
       "    <tr>\n",
       "      <th>12</th>\n",
       "      <td>13</td>\n",
       "      <td>SonySAB</td>\n",
       "      <td>Películas, Animación</td>\n",
       "      <td>87200000.0</td>\n",
       "      <td>India</td>\n",
       "      <td>33300.0</td>\n",
       "      <td>562.0</td>\n",
       "      <td>15.0</td>\n",
       "      <td>http://youtube.com/channel/UC6-F5tO8uklgE9Zy8I...</td>\n",
       "    </tr>\n",
       "    <tr>\n",
       "      <th>13</th>\n",
       "      <td>14</td>\n",
       "      <td>5MinuteCraftsYouTube</td>\n",
       "      <td>Películas</td>\n",
       "      <td>80500000.0</td>\n",
       "      <td>India</td>\n",
       "      <td>101100.0</td>\n",
       "      <td>574.0</td>\n",
       "      <td>25.0</td>\n",
       "      <td>http://youtube.com/channel/UC295-Dw_tDNtZXFeAP...</td>\n",
       "    </tr>\n",
       "    <tr>\n",
       "      <th>14</th>\n",
       "      <td>15</td>\n",
       "      <td>BTS</td>\n",
       "      <td>Música y baile</td>\n",
       "      <td>77000000.0</td>\n",
       "      <td>India</td>\n",
       "      <td>916400.0</td>\n",
       "      <td>166600.0</td>\n",
       "      <td>3400.0</td>\n",
       "      <td>http://youtube.com/channel/UCLkAepWjdylmXSltof...</td>\n",
       "    </tr>\n",
       "    <tr>\n",
       "      <th>15</th>\n",
       "      <td>16</td>\n",
       "      <td>zeetv</td>\n",
       "      <td>NaN</td>\n",
       "      <td>74700000.0</td>\n",
       "      <td>India</td>\n",
       "      <td>2900.0</td>\n",
       "      <td>134.0</td>\n",
       "      <td>0.0</td>\n",
       "      <td>http://youtube.com/channel/UCppHT7SZKKvar4Oc9J...</td>\n",
       "    </tr>\n",
       "    <tr>\n",
       "      <th>16</th>\n",
       "      <td>17</td>\n",
       "      <td>HYBELABELS</td>\n",
       "      <td>Música y baile</td>\n",
       "      <td>73400000.0</td>\n",
       "      <td>Estados Unidos</td>\n",
       "      <td>341100.0</td>\n",
       "      <td>47200.0</td>\n",
       "      <td>716.0</td>\n",
       "      <td>http://youtube.com/channel/UC3IZKseVpdzPSBaWxB...</td>\n",
       "    </tr>\n",
       "    <tr>\n",
       "      <th>17</th>\n",
       "      <td>18</td>\n",
       "      <td>Pinkfong</td>\n",
       "      <td>Animación, Juguetes</td>\n",
       "      <td>71100000.0</td>\n",
       "      <td>Unknown</td>\n",
       "      <td>337700.0</td>\n",
       "      <td>363.0</td>\n",
       "      <td>0.0</td>\n",
       "      <td>http://youtube.com/channel/UCcdwLMPsaU2ezNSJU1...</td>\n",
       "    </tr>\n",
       "    <tr>\n",
       "      <th>18</th>\n",
       "      <td>19</td>\n",
       "      <td>ChuChuTV</td>\n",
       "      <td>Juguetes</td>\n",
       "      <td>68800000.0</td>\n",
       "      <td>Unknown</td>\n",
       "      <td>475200.0</td>\n",
       "      <td>11000.0</td>\n",
       "      <td>0.0</td>\n",
       "      <td>http://youtube.com/channel/UCBnZ16ahKA2DZ_T5W0...</td>\n",
       "    </tr>\n",
       "    <tr>\n",
       "      <th>19</th>\n",
       "      <td>20</td>\n",
       "      <td>colorstv</td>\n",
       "      <td>NaN</td>\n",
       "      <td>68700000.0</td>\n",
       "      <td>India</td>\n",
       "      <td>13700.0</td>\n",
       "      <td>206.0</td>\n",
       "      <td>2.0</td>\n",
       "      <td>http://youtube.com/channel/UC55IWqFLDH1Xp7iu1_...</td>\n",
       "    </tr>\n",
       "  </tbody>\n",
       "</table>\n",
       "</div>"
      ],
      "text/plain": [
       "    Rank              Username              Categories   Suscribers  \\\n",
       "0      1               tseries          Música y baile  253500000.0   \n",
       "1      2               MrBeast      Videojuegos, Humor  210100000.0   \n",
       "2      3             CoComelon               Educación  168100000.0   \n",
       "3      4              SETIndia                     NaN  165400000.0   \n",
       "4      5         KidsDianaShow     Animación, Juguetes  116500000.0   \n",
       "5      6             PewDiePie  Películas, Videojuegos  111400000.0   \n",
       "6      7    LikeNastyaofficial                Juguetes  110400000.0   \n",
       "7      8           VladandNiki     Animación, Juguetes  105500000.0   \n",
       "8      9       zeemusiccompany          Música y baile  102600000.0   \n",
       "9     10                   WWE             Videojuegos   98100000.0   \n",
       "10    11             BLACKPINK          Música y baile   92200000.0   \n",
       "11    12    GoldminesTelefilms                     NaN   92100000.0   \n",
       "12    13               SonySAB    Películas, Animación   87200000.0   \n",
       "13    14  5MinuteCraftsYouTube               Películas   80500000.0   \n",
       "14    15                   BTS          Música y baile   77000000.0   \n",
       "15    16                 zeetv                     NaN   74700000.0   \n",
       "16    17            HYBELABELS          Música y baile   73400000.0   \n",
       "17    18              Pinkfong     Animación, Juguetes   71100000.0   \n",
       "18    19              ChuChuTV                Juguetes   68800000.0   \n",
       "19    20              colorstv                     NaN   68700000.0   \n",
       "\n",
       "           Country      Visits      Likes  Comments  \\\n",
       "0            India    111300.0     3200.0     120.0   \n",
       "1   Estados Unidos  95400000.0  5400000.0   16600.0   \n",
       "2          Unknown   4100000.0    21600.0       0.0   \n",
       "3            India     23300.0      239.0       9.0   \n",
       "4          Unknown   4100000.0     8800.0       0.0   \n",
       "5   Estados Unidos   2900000.0   182000.0    8100.0   \n",
       "6          Unknown   4100000.0    14500.0       0.0   \n",
       "7          Unknown   5500000.0    17300.0       0.0   \n",
       "8            India     46700.0     1800.0      34.0   \n",
       "9   Estados Unidos    148200.0     4600.0     189.0   \n",
       "10  Estados Unidos   1500000.0   183500.0    6300.0   \n",
       "11           India     23400.0      261.0      12.0   \n",
       "12           India     33300.0      562.0      15.0   \n",
       "13           India    101100.0      574.0      25.0   \n",
       "14           India    916400.0   166600.0    3400.0   \n",
       "15           India      2900.0      134.0       0.0   \n",
       "16  Estados Unidos    341100.0    47200.0     716.0   \n",
       "17         Unknown    337700.0      363.0       0.0   \n",
       "18         Unknown    475200.0    11000.0       0.0   \n",
       "19           India     13700.0      206.0       2.0   \n",
       "\n",
       "                                                Links  \n",
       "0   http://youtube.com/channel/UCq-Fj5jknLsUf-MWSy...  \n",
       "1   http://youtube.com/channel/UCX6OQ3DkcsbYNE6H8u...  \n",
       "2   http://youtube.com/channel/UCbCmjCuTUZos6Inko4...  \n",
       "3   http://youtube.com/channel/UCpEhnqL0y41EpW2TvW...  \n",
       "4   http://youtube.com/channel/UCk8GzjMOrta8yxDcKf...  \n",
       "5   http://youtube.com/channel/UC-lHJZR3Gqxm24_Vd_...  \n",
       "6   http://youtube.com/channel/UCJplp5SjeGSdVdwsfb...  \n",
       "7   http://youtube.com/channel/UCvlE5gTbOvjiolFlEm...  \n",
       "8   http://youtube.com/channel/UCFFbwnve3yF62-tVXk...  \n",
       "9   http://youtube.com/channel/UCJ5v_MCY6GNUBTO8-D...  \n",
       "10  http://youtube.com/channel/UCOmHUn--16B90oW2L6...  \n",
       "11  http://youtube.com/channel/UCyoXW-Dse7fURq30EW...  \n",
       "12  http://youtube.com/channel/UC6-F5tO8uklgE9Zy8I...  \n",
       "13  http://youtube.com/channel/UC295-Dw_tDNtZXFeAP...  \n",
       "14  http://youtube.com/channel/UCLkAepWjdylmXSltof...  \n",
       "15  http://youtube.com/channel/UCppHT7SZKKvar4Oc9J...  \n",
       "16  http://youtube.com/channel/UC3IZKseVpdzPSBaWxB...  \n",
       "17  http://youtube.com/channel/UCcdwLMPsaU2ezNSJU1...  \n",
       "18  http://youtube.com/channel/UCBnZ16ahKA2DZ_T5W0...  \n",
       "19  http://youtube.com/channel/UC55IWqFLDH1Xp7iu1_...  "
      ]
     },
     "execution_count": 32,
     "metadata": {},
     "output_type": "execute_result"
    }
   ],
   "source": [
    "df.head(20)"
   ]
  },
  {
   "cell_type": "code",
   "execution_count": 33,
   "id": "e7d71792-f18f-4102-bae8-49599365d97f",
   "metadata": {},
   "outputs": [],
   "source": [
    "df['Categories'].fillna('Unknow', inplace=True)"
   ]
  },
  {
   "cell_type": "code",
   "execution_count": 34,
   "id": "5d38defd-0f58-4150-9a42-cdad3b0d73bb",
   "metadata": {},
   "outputs": [
    {
     "data": {
      "text/html": [
       "<div>\n",
       "<style scoped>\n",
       "    .dataframe tbody tr th:only-of-type {\n",
       "        vertical-align: middle;\n",
       "    }\n",
       "\n",
       "    .dataframe tbody tr th {\n",
       "        vertical-align: top;\n",
       "    }\n",
       "\n",
       "    .dataframe thead th {\n",
       "        text-align: right;\n",
       "    }\n",
       "</style>\n",
       "<table border=\"1\" class=\"dataframe\">\n",
       "  <thead>\n",
       "    <tr style=\"text-align: right;\">\n",
       "      <th></th>\n",
       "      <th>Rank</th>\n",
       "      <th>Username</th>\n",
       "      <th>Categories</th>\n",
       "      <th>Suscribers</th>\n",
       "      <th>Country</th>\n",
       "      <th>Visits</th>\n",
       "      <th>Likes</th>\n",
       "      <th>Comments</th>\n",
       "      <th>Links</th>\n",
       "    </tr>\n",
       "  </thead>\n",
       "  <tbody>\n",
       "    <tr>\n",
       "      <th>0</th>\n",
       "      <td>1</td>\n",
       "      <td>tseries</td>\n",
       "      <td>Música y baile</td>\n",
       "      <td>253500000.0</td>\n",
       "      <td>India</td>\n",
       "      <td>111300.0</td>\n",
       "      <td>3200.0</td>\n",
       "      <td>120.0</td>\n",
       "      <td>http://youtube.com/channel/UCq-Fj5jknLsUf-MWSy...</td>\n",
       "    </tr>\n",
       "    <tr>\n",
       "      <th>1</th>\n",
       "      <td>2</td>\n",
       "      <td>MrBeast</td>\n",
       "      <td>Videojuegos, Humor</td>\n",
       "      <td>210100000.0</td>\n",
       "      <td>Estados Unidos</td>\n",
       "      <td>95400000.0</td>\n",
       "      <td>5400000.0</td>\n",
       "      <td>16600.0</td>\n",
       "      <td>http://youtube.com/channel/UCX6OQ3DkcsbYNE6H8u...</td>\n",
       "    </tr>\n",
       "    <tr>\n",
       "      <th>2</th>\n",
       "      <td>3</td>\n",
       "      <td>CoComelon</td>\n",
       "      <td>Educación</td>\n",
       "      <td>168100000.0</td>\n",
       "      <td>Unknown</td>\n",
       "      <td>4100000.0</td>\n",
       "      <td>21600.0</td>\n",
       "      <td>0.0</td>\n",
       "      <td>http://youtube.com/channel/UCbCmjCuTUZos6Inko4...</td>\n",
       "    </tr>\n",
       "    <tr>\n",
       "      <th>3</th>\n",
       "      <td>4</td>\n",
       "      <td>SETIndia</td>\n",
       "      <td>Unknow</td>\n",
       "      <td>165400000.0</td>\n",
       "      <td>India</td>\n",
       "      <td>23300.0</td>\n",
       "      <td>239.0</td>\n",
       "      <td>9.0</td>\n",
       "      <td>http://youtube.com/channel/UCpEhnqL0y41EpW2TvW...</td>\n",
       "    </tr>\n",
       "    <tr>\n",
       "      <th>4</th>\n",
       "      <td>5</td>\n",
       "      <td>KidsDianaShow</td>\n",
       "      <td>Animación, Juguetes</td>\n",
       "      <td>116500000.0</td>\n",
       "      <td>Unknown</td>\n",
       "      <td>4100000.0</td>\n",
       "      <td>8800.0</td>\n",
       "      <td>0.0</td>\n",
       "      <td>http://youtube.com/channel/UCk8GzjMOrta8yxDcKf...</td>\n",
       "    </tr>\n",
       "    <tr>\n",
       "      <th>5</th>\n",
       "      <td>6</td>\n",
       "      <td>PewDiePie</td>\n",
       "      <td>Películas, Videojuegos</td>\n",
       "      <td>111400000.0</td>\n",
       "      <td>Estados Unidos</td>\n",
       "      <td>2900000.0</td>\n",
       "      <td>182000.0</td>\n",
       "      <td>8100.0</td>\n",
       "      <td>http://youtube.com/channel/UC-lHJZR3Gqxm24_Vd_...</td>\n",
       "    </tr>\n",
       "    <tr>\n",
       "      <th>6</th>\n",
       "      <td>7</td>\n",
       "      <td>LikeNastyaofficial</td>\n",
       "      <td>Juguetes</td>\n",
       "      <td>110400000.0</td>\n",
       "      <td>Unknown</td>\n",
       "      <td>4100000.0</td>\n",
       "      <td>14500.0</td>\n",
       "      <td>0.0</td>\n",
       "      <td>http://youtube.com/channel/UCJplp5SjeGSdVdwsfb...</td>\n",
       "    </tr>\n",
       "    <tr>\n",
       "      <th>7</th>\n",
       "      <td>8</td>\n",
       "      <td>VladandNiki</td>\n",
       "      <td>Animación, Juguetes</td>\n",
       "      <td>105500000.0</td>\n",
       "      <td>Unknown</td>\n",
       "      <td>5500000.0</td>\n",
       "      <td>17300.0</td>\n",
       "      <td>0.0</td>\n",
       "      <td>http://youtube.com/channel/UCvlE5gTbOvjiolFlEm...</td>\n",
       "    </tr>\n",
       "    <tr>\n",
       "      <th>8</th>\n",
       "      <td>9</td>\n",
       "      <td>zeemusiccompany</td>\n",
       "      <td>Música y baile</td>\n",
       "      <td>102600000.0</td>\n",
       "      <td>India</td>\n",
       "      <td>46700.0</td>\n",
       "      <td>1800.0</td>\n",
       "      <td>34.0</td>\n",
       "      <td>http://youtube.com/channel/UCFFbwnve3yF62-tVXk...</td>\n",
       "    </tr>\n",
       "    <tr>\n",
       "      <th>9</th>\n",
       "      <td>10</td>\n",
       "      <td>WWE</td>\n",
       "      <td>Videojuegos</td>\n",
       "      <td>98100000.0</td>\n",
       "      <td>Estados Unidos</td>\n",
       "      <td>148200.0</td>\n",
       "      <td>4600.0</td>\n",
       "      <td>189.0</td>\n",
       "      <td>http://youtube.com/channel/UCJ5v_MCY6GNUBTO8-D...</td>\n",
       "    </tr>\n",
       "    <tr>\n",
       "      <th>10</th>\n",
       "      <td>11</td>\n",
       "      <td>BLACKPINK</td>\n",
       "      <td>Música y baile</td>\n",
       "      <td>92200000.0</td>\n",
       "      <td>Estados Unidos</td>\n",
       "      <td>1500000.0</td>\n",
       "      <td>183500.0</td>\n",
       "      <td>6300.0</td>\n",
       "      <td>http://youtube.com/channel/UCOmHUn--16B90oW2L6...</td>\n",
       "    </tr>\n",
       "    <tr>\n",
       "      <th>11</th>\n",
       "      <td>12</td>\n",
       "      <td>GoldminesTelefilms</td>\n",
       "      <td>Unknow</td>\n",
       "      <td>92100000.0</td>\n",
       "      <td>India</td>\n",
       "      <td>23400.0</td>\n",
       "      <td>261.0</td>\n",
       "      <td>12.0</td>\n",
       "      <td>http://youtube.com/channel/UCyoXW-Dse7fURq30EW...</td>\n",
       "    </tr>\n",
       "    <tr>\n",
       "      <th>12</th>\n",
       "      <td>13</td>\n",
       "      <td>SonySAB</td>\n",
       "      <td>Películas, Animación</td>\n",
       "      <td>87200000.0</td>\n",
       "      <td>India</td>\n",
       "      <td>33300.0</td>\n",
       "      <td>562.0</td>\n",
       "      <td>15.0</td>\n",
       "      <td>http://youtube.com/channel/UC6-F5tO8uklgE9Zy8I...</td>\n",
       "    </tr>\n",
       "    <tr>\n",
       "      <th>13</th>\n",
       "      <td>14</td>\n",
       "      <td>5MinuteCraftsYouTube</td>\n",
       "      <td>Películas</td>\n",
       "      <td>80500000.0</td>\n",
       "      <td>India</td>\n",
       "      <td>101100.0</td>\n",
       "      <td>574.0</td>\n",
       "      <td>25.0</td>\n",
       "      <td>http://youtube.com/channel/UC295-Dw_tDNtZXFeAP...</td>\n",
       "    </tr>\n",
       "    <tr>\n",
       "      <th>14</th>\n",
       "      <td>15</td>\n",
       "      <td>BTS</td>\n",
       "      <td>Música y baile</td>\n",
       "      <td>77000000.0</td>\n",
       "      <td>India</td>\n",
       "      <td>916400.0</td>\n",
       "      <td>166600.0</td>\n",
       "      <td>3400.0</td>\n",
       "      <td>http://youtube.com/channel/UCLkAepWjdylmXSltof...</td>\n",
       "    </tr>\n",
       "    <tr>\n",
       "      <th>15</th>\n",
       "      <td>16</td>\n",
       "      <td>zeetv</td>\n",
       "      <td>Unknow</td>\n",
       "      <td>74700000.0</td>\n",
       "      <td>India</td>\n",
       "      <td>2900.0</td>\n",
       "      <td>134.0</td>\n",
       "      <td>0.0</td>\n",
       "      <td>http://youtube.com/channel/UCppHT7SZKKvar4Oc9J...</td>\n",
       "    </tr>\n",
       "    <tr>\n",
       "      <th>16</th>\n",
       "      <td>17</td>\n",
       "      <td>HYBELABELS</td>\n",
       "      <td>Música y baile</td>\n",
       "      <td>73400000.0</td>\n",
       "      <td>Estados Unidos</td>\n",
       "      <td>341100.0</td>\n",
       "      <td>47200.0</td>\n",
       "      <td>716.0</td>\n",
       "      <td>http://youtube.com/channel/UC3IZKseVpdzPSBaWxB...</td>\n",
       "    </tr>\n",
       "    <tr>\n",
       "      <th>17</th>\n",
       "      <td>18</td>\n",
       "      <td>Pinkfong</td>\n",
       "      <td>Animación, Juguetes</td>\n",
       "      <td>71100000.0</td>\n",
       "      <td>Unknown</td>\n",
       "      <td>337700.0</td>\n",
       "      <td>363.0</td>\n",
       "      <td>0.0</td>\n",
       "      <td>http://youtube.com/channel/UCcdwLMPsaU2ezNSJU1...</td>\n",
       "    </tr>\n",
       "    <tr>\n",
       "      <th>18</th>\n",
       "      <td>19</td>\n",
       "      <td>ChuChuTV</td>\n",
       "      <td>Juguetes</td>\n",
       "      <td>68800000.0</td>\n",
       "      <td>Unknown</td>\n",
       "      <td>475200.0</td>\n",
       "      <td>11000.0</td>\n",
       "      <td>0.0</td>\n",
       "      <td>http://youtube.com/channel/UCBnZ16ahKA2DZ_T5W0...</td>\n",
       "    </tr>\n",
       "    <tr>\n",
       "      <th>19</th>\n",
       "      <td>20</td>\n",
       "      <td>colorstv</td>\n",
       "      <td>Unknow</td>\n",
       "      <td>68700000.0</td>\n",
       "      <td>India</td>\n",
       "      <td>13700.0</td>\n",
       "      <td>206.0</td>\n",
       "      <td>2.0</td>\n",
       "      <td>http://youtube.com/channel/UC55IWqFLDH1Xp7iu1_...</td>\n",
       "    </tr>\n",
       "  </tbody>\n",
       "</table>\n",
       "</div>"
      ],
      "text/plain": [
       "    Rank              Username              Categories   Suscribers  \\\n",
       "0      1               tseries          Música y baile  253500000.0   \n",
       "1      2               MrBeast      Videojuegos, Humor  210100000.0   \n",
       "2      3             CoComelon               Educación  168100000.0   \n",
       "3      4              SETIndia                  Unknow  165400000.0   \n",
       "4      5         KidsDianaShow     Animación, Juguetes  116500000.0   \n",
       "5      6             PewDiePie  Películas, Videojuegos  111400000.0   \n",
       "6      7    LikeNastyaofficial                Juguetes  110400000.0   \n",
       "7      8           VladandNiki     Animación, Juguetes  105500000.0   \n",
       "8      9       zeemusiccompany          Música y baile  102600000.0   \n",
       "9     10                   WWE             Videojuegos   98100000.0   \n",
       "10    11             BLACKPINK          Música y baile   92200000.0   \n",
       "11    12    GoldminesTelefilms                  Unknow   92100000.0   \n",
       "12    13               SonySAB    Películas, Animación   87200000.0   \n",
       "13    14  5MinuteCraftsYouTube               Películas   80500000.0   \n",
       "14    15                   BTS          Música y baile   77000000.0   \n",
       "15    16                 zeetv                  Unknow   74700000.0   \n",
       "16    17            HYBELABELS          Música y baile   73400000.0   \n",
       "17    18              Pinkfong     Animación, Juguetes   71100000.0   \n",
       "18    19              ChuChuTV                Juguetes   68800000.0   \n",
       "19    20              colorstv                  Unknow   68700000.0   \n",
       "\n",
       "           Country      Visits      Likes  Comments  \\\n",
       "0            India    111300.0     3200.0     120.0   \n",
       "1   Estados Unidos  95400000.0  5400000.0   16600.0   \n",
       "2          Unknown   4100000.0    21600.0       0.0   \n",
       "3            India     23300.0      239.0       9.0   \n",
       "4          Unknown   4100000.0     8800.0       0.0   \n",
       "5   Estados Unidos   2900000.0   182000.0    8100.0   \n",
       "6          Unknown   4100000.0    14500.0       0.0   \n",
       "7          Unknown   5500000.0    17300.0       0.0   \n",
       "8            India     46700.0     1800.0      34.0   \n",
       "9   Estados Unidos    148200.0     4600.0     189.0   \n",
       "10  Estados Unidos   1500000.0   183500.0    6300.0   \n",
       "11           India     23400.0      261.0      12.0   \n",
       "12           India     33300.0      562.0      15.0   \n",
       "13           India    101100.0      574.0      25.0   \n",
       "14           India    916400.0   166600.0    3400.0   \n",
       "15           India      2900.0      134.0       0.0   \n",
       "16  Estados Unidos    341100.0    47200.0     716.0   \n",
       "17         Unknown    337700.0      363.0       0.0   \n",
       "18         Unknown    475200.0    11000.0       0.0   \n",
       "19           India     13700.0      206.0       2.0   \n",
       "\n",
       "                                                Links  \n",
       "0   http://youtube.com/channel/UCq-Fj5jknLsUf-MWSy...  \n",
       "1   http://youtube.com/channel/UCX6OQ3DkcsbYNE6H8u...  \n",
       "2   http://youtube.com/channel/UCbCmjCuTUZos6Inko4...  \n",
       "3   http://youtube.com/channel/UCpEhnqL0y41EpW2TvW...  \n",
       "4   http://youtube.com/channel/UCk8GzjMOrta8yxDcKf...  \n",
       "5   http://youtube.com/channel/UC-lHJZR3Gqxm24_Vd_...  \n",
       "6   http://youtube.com/channel/UCJplp5SjeGSdVdwsfb...  \n",
       "7   http://youtube.com/channel/UCvlE5gTbOvjiolFlEm...  \n",
       "8   http://youtube.com/channel/UCFFbwnve3yF62-tVXk...  \n",
       "9   http://youtube.com/channel/UCJ5v_MCY6GNUBTO8-D...  \n",
       "10  http://youtube.com/channel/UCOmHUn--16B90oW2L6...  \n",
       "11  http://youtube.com/channel/UCyoXW-Dse7fURq30EW...  \n",
       "12  http://youtube.com/channel/UC6-F5tO8uklgE9Zy8I...  \n",
       "13  http://youtube.com/channel/UC295-Dw_tDNtZXFeAP...  \n",
       "14  http://youtube.com/channel/UCLkAepWjdylmXSltof...  \n",
       "15  http://youtube.com/channel/UCppHT7SZKKvar4Oc9J...  \n",
       "16  http://youtube.com/channel/UC3IZKseVpdzPSBaWxB...  \n",
       "17  http://youtube.com/channel/UCcdwLMPsaU2ezNSJU1...  \n",
       "18  http://youtube.com/channel/UCBnZ16ahKA2DZ_T5W0...  \n",
       "19  http://youtube.com/channel/UC55IWqFLDH1Xp7iu1_...  "
      ]
     },
     "execution_count": 34,
     "metadata": {},
     "output_type": "execute_result"
    }
   ],
   "source": [
    "df.head(20)"
   ]
  },
  {
   "cell_type": "code",
   "execution_count": 35,
   "id": "6c0fa395-f686-4792-a051-6fd1bcd821db",
   "metadata": {},
   "outputs": [
    {
     "data": {
      "text/plain": [
       "array(['India', 'Estados Unidos', 'Unknown', 'Brasil', 'México', 'Rusia',\n",
       "       'Pakistán', 'Filipinas', 'Indonesia', 'Tailandia', 'Francia',\n",
       "       'Colombia', 'Iraq', 'Japón', 'Argentina', 'Ecuador', 'El Salvador',\n",
       "       'Turquía', 'Arabia Saudita', 'Bangladesh', 'Reino Unido',\n",
       "       'Argelia', 'España', 'República de Corea', 'Egipto', 'Irán',\n",
       "       'Marruecos', 'Jordania', 'Singapur', 'Perú'], dtype=object)"
      ]
     },
     "execution_count": 35,
     "metadata": {},
     "output_type": "execute_result"
    }
   ],
   "source": [
    "df.Country.unique()"
   ]
  },
  {
   "cell_type": "code",
   "execution_count": 36,
   "id": "5b87dc52-914e-4ed5-9902-96d89e73a7c7",
   "metadata": {},
   "outputs": [
    {
     "data": {
      "text/plain": [
       "array(['Música y baile', 'Videojuegos, Humor', 'Educación', 'Unknow',\n",
       "       'Animación, Juguetes', 'Películas, Videojuegos', 'Juguetes',\n",
       "       'Videojuegos', 'Películas, Animación', 'Películas',\n",
       "       'Noticias y Política', 'Animación, Humor', 'Películas, Humor',\n",
       "       'Películas, Juguetes', 'Música y baile, Películas',\n",
       "       'Música y baile, Animación', 'Vlogs diarios',\n",
       "       'Videojuegos, Juguetes', 'Animación, Videojuegos',\n",
       "       'Música y baile, Humor', 'Animación', 'Ciencia y tecnología',\n",
       "       'Fitness, Salud y autoayuda', 'Belleza, Moda', 'Humor',\n",
       "       'Diseño/arte', 'Comida y bebida', 'Viajes, Espectáculos',\n",
       "       'Deportes', 'Fitness', 'Comida y bebida, Salud y autoayuda',\n",
       "       'Salud y autoayuda', 'DIY y Life Hacks, Juguetes',\n",
       "       'AnimaciónHumorEducación', 'Educación, Juguetes',\n",
       "       'Música y baile, Juguetes', 'Juguetes, Coches y vehículos',\n",
       "       'Animales y mascotas', 'Belleza', 'ASMR', 'Moda',\n",
       "       'DIY y Life Hacks', 'Diseño/arte, Belleza', 'Coches y vehículos',\n",
       "       'Animación, Humor, Juguetes', 'Misterio', 'ASMR, Comida y bebida',\n",
       "       'Comida y bebida, Juguetes'], dtype=object)"
      ]
     },
     "execution_count": 36,
     "metadata": {},
     "output_type": "execute_result"
    }
   ],
   "source": [
    "df.Categories.unique()"
   ]
  },
  {
   "cell_type": "code",
   "execution_count": 38,
   "id": "effd64d9-52ca-4871-ba45-6e44e168ae64",
   "metadata": {},
   "outputs": [],
   "source": [
    "df1 = df.drop(['Visits', 'Comments', 'Links'], axis='columns')[:20]"
   ]
  },
  {
   "cell_type": "code",
   "execution_count": 39,
   "id": "a4bbb8d7-4a0e-45e8-86d1-d470a5a2a062",
   "metadata": {},
   "outputs": [
    {
     "data": {
      "text/html": [
       "<div>\n",
       "<style scoped>\n",
       "    .dataframe tbody tr th:only-of-type {\n",
       "        vertical-align: middle;\n",
       "    }\n",
       "\n",
       "    .dataframe tbody tr th {\n",
       "        vertical-align: top;\n",
       "    }\n",
       "\n",
       "    .dataframe thead th {\n",
       "        text-align: right;\n",
       "    }\n",
       "</style>\n",
       "<table border=\"1\" class=\"dataframe\">\n",
       "  <thead>\n",
       "    <tr style=\"text-align: right;\">\n",
       "      <th></th>\n",
       "      <th>Rank</th>\n",
       "      <th>Username</th>\n",
       "      <th>Categories</th>\n",
       "      <th>Suscribers</th>\n",
       "      <th>Country</th>\n",
       "      <th>Likes</th>\n",
       "    </tr>\n",
       "  </thead>\n",
       "  <tbody>\n",
       "    <tr>\n",
       "      <th>0</th>\n",
       "      <td>1</td>\n",
       "      <td>tseries</td>\n",
       "      <td>Música y baile</td>\n",
       "      <td>253500000.0</td>\n",
       "      <td>India</td>\n",
       "      <td>3200.0</td>\n",
       "    </tr>\n",
       "    <tr>\n",
       "      <th>1</th>\n",
       "      <td>2</td>\n",
       "      <td>MrBeast</td>\n",
       "      <td>Videojuegos, Humor</td>\n",
       "      <td>210100000.0</td>\n",
       "      <td>Estados Unidos</td>\n",
       "      <td>5400000.0</td>\n",
       "    </tr>\n",
       "    <tr>\n",
       "      <th>2</th>\n",
       "      <td>3</td>\n",
       "      <td>CoComelon</td>\n",
       "      <td>Educación</td>\n",
       "      <td>168100000.0</td>\n",
       "      <td>Unknown</td>\n",
       "      <td>21600.0</td>\n",
       "    </tr>\n",
       "    <tr>\n",
       "      <th>3</th>\n",
       "      <td>4</td>\n",
       "      <td>SETIndia</td>\n",
       "      <td>Unknow</td>\n",
       "      <td>165400000.0</td>\n",
       "      <td>India</td>\n",
       "      <td>239.0</td>\n",
       "    </tr>\n",
       "    <tr>\n",
       "      <th>4</th>\n",
       "      <td>5</td>\n",
       "      <td>KidsDianaShow</td>\n",
       "      <td>Animación, Juguetes</td>\n",
       "      <td>116500000.0</td>\n",
       "      <td>Unknown</td>\n",
       "      <td>8800.0</td>\n",
       "    </tr>\n",
       "    <tr>\n",
       "      <th>5</th>\n",
       "      <td>6</td>\n",
       "      <td>PewDiePie</td>\n",
       "      <td>Películas, Videojuegos</td>\n",
       "      <td>111400000.0</td>\n",
       "      <td>Estados Unidos</td>\n",
       "      <td>182000.0</td>\n",
       "    </tr>\n",
       "    <tr>\n",
       "      <th>6</th>\n",
       "      <td>7</td>\n",
       "      <td>LikeNastyaofficial</td>\n",
       "      <td>Juguetes</td>\n",
       "      <td>110400000.0</td>\n",
       "      <td>Unknown</td>\n",
       "      <td>14500.0</td>\n",
       "    </tr>\n",
       "    <tr>\n",
       "      <th>7</th>\n",
       "      <td>8</td>\n",
       "      <td>VladandNiki</td>\n",
       "      <td>Animación, Juguetes</td>\n",
       "      <td>105500000.0</td>\n",
       "      <td>Unknown</td>\n",
       "      <td>17300.0</td>\n",
       "    </tr>\n",
       "    <tr>\n",
       "      <th>8</th>\n",
       "      <td>9</td>\n",
       "      <td>zeemusiccompany</td>\n",
       "      <td>Música y baile</td>\n",
       "      <td>102600000.0</td>\n",
       "      <td>India</td>\n",
       "      <td>1800.0</td>\n",
       "    </tr>\n",
       "    <tr>\n",
       "      <th>9</th>\n",
       "      <td>10</td>\n",
       "      <td>WWE</td>\n",
       "      <td>Videojuegos</td>\n",
       "      <td>98100000.0</td>\n",
       "      <td>Estados Unidos</td>\n",
       "      <td>4600.0</td>\n",
       "    </tr>\n",
       "    <tr>\n",
       "      <th>10</th>\n",
       "      <td>11</td>\n",
       "      <td>BLACKPINK</td>\n",
       "      <td>Música y baile</td>\n",
       "      <td>92200000.0</td>\n",
       "      <td>Estados Unidos</td>\n",
       "      <td>183500.0</td>\n",
       "    </tr>\n",
       "    <tr>\n",
       "      <th>11</th>\n",
       "      <td>12</td>\n",
       "      <td>GoldminesTelefilms</td>\n",
       "      <td>Unknow</td>\n",
       "      <td>92100000.0</td>\n",
       "      <td>India</td>\n",
       "      <td>261.0</td>\n",
       "    </tr>\n",
       "    <tr>\n",
       "      <th>12</th>\n",
       "      <td>13</td>\n",
       "      <td>SonySAB</td>\n",
       "      <td>Películas, Animación</td>\n",
       "      <td>87200000.0</td>\n",
       "      <td>India</td>\n",
       "      <td>562.0</td>\n",
       "    </tr>\n",
       "    <tr>\n",
       "      <th>13</th>\n",
       "      <td>14</td>\n",
       "      <td>5MinuteCraftsYouTube</td>\n",
       "      <td>Películas</td>\n",
       "      <td>80500000.0</td>\n",
       "      <td>India</td>\n",
       "      <td>574.0</td>\n",
       "    </tr>\n",
       "    <tr>\n",
       "      <th>14</th>\n",
       "      <td>15</td>\n",
       "      <td>BTS</td>\n",
       "      <td>Música y baile</td>\n",
       "      <td>77000000.0</td>\n",
       "      <td>India</td>\n",
       "      <td>166600.0</td>\n",
       "    </tr>\n",
       "    <tr>\n",
       "      <th>15</th>\n",
       "      <td>16</td>\n",
       "      <td>zeetv</td>\n",
       "      <td>Unknow</td>\n",
       "      <td>74700000.0</td>\n",
       "      <td>India</td>\n",
       "      <td>134.0</td>\n",
       "    </tr>\n",
       "    <tr>\n",
       "      <th>16</th>\n",
       "      <td>17</td>\n",
       "      <td>HYBELABELS</td>\n",
       "      <td>Música y baile</td>\n",
       "      <td>73400000.0</td>\n",
       "      <td>Estados Unidos</td>\n",
       "      <td>47200.0</td>\n",
       "    </tr>\n",
       "    <tr>\n",
       "      <th>17</th>\n",
       "      <td>18</td>\n",
       "      <td>Pinkfong</td>\n",
       "      <td>Animación, Juguetes</td>\n",
       "      <td>71100000.0</td>\n",
       "      <td>Unknown</td>\n",
       "      <td>363.0</td>\n",
       "    </tr>\n",
       "    <tr>\n",
       "      <th>18</th>\n",
       "      <td>19</td>\n",
       "      <td>ChuChuTV</td>\n",
       "      <td>Juguetes</td>\n",
       "      <td>68800000.0</td>\n",
       "      <td>Unknown</td>\n",
       "      <td>11000.0</td>\n",
       "    </tr>\n",
       "    <tr>\n",
       "      <th>19</th>\n",
       "      <td>20</td>\n",
       "      <td>colorstv</td>\n",
       "      <td>Unknow</td>\n",
       "      <td>68700000.0</td>\n",
       "      <td>India</td>\n",
       "      <td>206.0</td>\n",
       "    </tr>\n",
       "  </tbody>\n",
       "</table>\n",
       "</div>"
      ],
      "text/plain": [
       "    Rank              Username              Categories   Suscribers  \\\n",
       "0      1               tseries          Música y baile  253500000.0   \n",
       "1      2               MrBeast      Videojuegos, Humor  210100000.0   \n",
       "2      3             CoComelon               Educación  168100000.0   \n",
       "3      4              SETIndia                  Unknow  165400000.0   \n",
       "4      5         KidsDianaShow     Animación, Juguetes  116500000.0   \n",
       "5      6             PewDiePie  Películas, Videojuegos  111400000.0   \n",
       "6      7    LikeNastyaofficial                Juguetes  110400000.0   \n",
       "7      8           VladandNiki     Animación, Juguetes  105500000.0   \n",
       "8      9       zeemusiccompany          Música y baile  102600000.0   \n",
       "9     10                   WWE             Videojuegos   98100000.0   \n",
       "10    11             BLACKPINK          Música y baile   92200000.0   \n",
       "11    12    GoldminesTelefilms                  Unknow   92100000.0   \n",
       "12    13               SonySAB    Películas, Animación   87200000.0   \n",
       "13    14  5MinuteCraftsYouTube               Películas   80500000.0   \n",
       "14    15                   BTS          Música y baile   77000000.0   \n",
       "15    16                 zeetv                  Unknow   74700000.0   \n",
       "16    17            HYBELABELS          Música y baile   73400000.0   \n",
       "17    18              Pinkfong     Animación, Juguetes   71100000.0   \n",
       "18    19              ChuChuTV                Juguetes   68800000.0   \n",
       "19    20              colorstv                  Unknow   68700000.0   \n",
       "\n",
       "           Country      Likes  \n",
       "0            India     3200.0  \n",
       "1   Estados Unidos  5400000.0  \n",
       "2          Unknown    21600.0  \n",
       "3            India      239.0  \n",
       "4          Unknown     8800.0  \n",
       "5   Estados Unidos   182000.0  \n",
       "6          Unknown    14500.0  \n",
       "7          Unknown    17300.0  \n",
       "8            India     1800.0  \n",
       "9   Estados Unidos     4600.0  \n",
       "10  Estados Unidos   183500.0  \n",
       "11           India      261.0  \n",
       "12           India      562.0  \n",
       "13           India      574.0  \n",
       "14           India   166600.0  \n",
       "15           India      134.0  \n",
       "16  Estados Unidos    47200.0  \n",
       "17         Unknown      363.0  \n",
       "18         Unknown    11000.0  \n",
       "19           India      206.0  "
      ]
     },
     "execution_count": 39,
     "metadata": {},
     "output_type": "execute_result"
    }
   ],
   "source": [
    "df1"
   ]
  },
  {
   "cell_type": "code",
   "execution_count": 50,
   "id": "a0eab9e5-9ac7-4ed7-8fb0-2b84beb6307e",
   "metadata": {},
   "outputs": [
    {
     "data": {
      "text/html": [
       "<div>\n",
       "<style scoped>\n",
       "    .dataframe tbody tr th:only-of-type {\n",
       "        vertical-align: middle;\n",
       "    }\n",
       "\n",
       "    .dataframe tbody tr th {\n",
       "        vertical-align: top;\n",
       "    }\n",
       "\n",
       "    .dataframe thead th {\n",
       "        text-align: right;\n",
       "    }\n",
       "</style>\n",
       "<table border=\"1\" class=\"dataframe\">\n",
       "  <thead>\n",
       "    <tr style=\"text-align: right;\">\n",
       "      <th></th>\n",
       "      <th>Rank</th>\n",
       "      <th>Username</th>\n",
       "      <th>Categories</th>\n",
       "      <th>Suscribers</th>\n",
       "      <th>Country</th>\n",
       "      <th>Likes</th>\n",
       "    </tr>\n",
       "  </thead>\n",
       "  <tbody>\n",
       "    <tr>\n",
       "      <th>0</th>\n",
       "      <td>1</td>\n",
       "      <td>tseries</td>\n",
       "      <td>Música y baile</td>\n",
       "      <td>253500000.0</td>\n",
       "      <td>India</td>\n",
       "      <td>3200.0</td>\n",
       "    </tr>\n",
       "    <tr>\n",
       "      <th>1</th>\n",
       "      <td>2</td>\n",
       "      <td>MrBeast</td>\n",
       "      <td>Videojuegos, Humor</td>\n",
       "      <td>210100000.0</td>\n",
       "      <td>Estados Unidos</td>\n",
       "      <td>5400000.0</td>\n",
       "    </tr>\n",
       "    <tr>\n",
       "      <th>2</th>\n",
       "      <td>3</td>\n",
       "      <td>CoComelon</td>\n",
       "      <td>Educación</td>\n",
       "      <td>168100000.0</td>\n",
       "      <td>Unknown</td>\n",
       "      <td>21600.0</td>\n",
       "    </tr>\n",
       "    <tr>\n",
       "      <th>3</th>\n",
       "      <td>4</td>\n",
       "      <td>SETIndia</td>\n",
       "      <td>Unknow</td>\n",
       "      <td>165400000.0</td>\n",
       "      <td>India</td>\n",
       "      <td>239.0</td>\n",
       "    </tr>\n",
       "    <tr>\n",
       "      <th>4</th>\n",
       "      <td>5</td>\n",
       "      <td>KidsDianaShow</td>\n",
       "      <td>Animación, Juguetes</td>\n",
       "      <td>116500000.0</td>\n",
       "      <td>Unknown</td>\n",
       "      <td>8800.0</td>\n",
       "    </tr>\n",
       "    <tr>\n",
       "      <th>5</th>\n",
       "      <td>6</td>\n",
       "      <td>PewDiePie</td>\n",
       "      <td>Películas, Videojuegos</td>\n",
       "      <td>111400000.0</td>\n",
       "      <td>Estados Unidos</td>\n",
       "      <td>182000.0</td>\n",
       "    </tr>\n",
       "    <tr>\n",
       "      <th>6</th>\n",
       "      <td>7</td>\n",
       "      <td>LikeNastyaofficial</td>\n",
       "      <td>Juguetes</td>\n",
       "      <td>110400000.0</td>\n",
       "      <td>Unknown</td>\n",
       "      <td>14500.0</td>\n",
       "    </tr>\n",
       "    <tr>\n",
       "      <th>7</th>\n",
       "      <td>8</td>\n",
       "      <td>VladandNiki</td>\n",
       "      <td>Animación, Juguetes</td>\n",
       "      <td>105500000.0</td>\n",
       "      <td>Unknown</td>\n",
       "      <td>17300.0</td>\n",
       "    </tr>\n",
       "    <tr>\n",
       "      <th>8</th>\n",
       "      <td>9</td>\n",
       "      <td>zeemusiccompany</td>\n",
       "      <td>Música y baile</td>\n",
       "      <td>102600000.0</td>\n",
       "      <td>India</td>\n",
       "      <td>1800.0</td>\n",
       "    </tr>\n",
       "    <tr>\n",
       "      <th>9</th>\n",
       "      <td>10</td>\n",
       "      <td>WWE</td>\n",
       "      <td>Videojuegos</td>\n",
       "      <td>98100000.0</td>\n",
       "      <td>Estados Unidos</td>\n",
       "      <td>4600.0</td>\n",
       "    </tr>\n",
       "    <tr>\n",
       "      <th>10</th>\n",
       "      <td>11</td>\n",
       "      <td>BLACKPINK</td>\n",
       "      <td>Música y baile</td>\n",
       "      <td>92200000.0</td>\n",
       "      <td>Estados Unidos</td>\n",
       "      <td>183500.0</td>\n",
       "    </tr>\n",
       "    <tr>\n",
       "      <th>11</th>\n",
       "      <td>12</td>\n",
       "      <td>GoldminesTelefilms</td>\n",
       "      <td>Unknow</td>\n",
       "      <td>92100000.0</td>\n",
       "      <td>India</td>\n",
       "      <td>261.0</td>\n",
       "    </tr>\n",
       "    <tr>\n",
       "      <th>12</th>\n",
       "      <td>13</td>\n",
       "      <td>SonySAB</td>\n",
       "      <td>Películas, Animación</td>\n",
       "      <td>87200000.0</td>\n",
       "      <td>India</td>\n",
       "      <td>562.0</td>\n",
       "    </tr>\n",
       "    <tr>\n",
       "      <th>13</th>\n",
       "      <td>14</td>\n",
       "      <td>5MinuteCraftsYouTube</td>\n",
       "      <td>Películas</td>\n",
       "      <td>80500000.0</td>\n",
       "      <td>India</td>\n",
       "      <td>574.0</td>\n",
       "    </tr>\n",
       "    <tr>\n",
       "      <th>14</th>\n",
       "      <td>15</td>\n",
       "      <td>BTS</td>\n",
       "      <td>Música y baile</td>\n",
       "      <td>77000000.0</td>\n",
       "      <td>India</td>\n",
       "      <td>166600.0</td>\n",
       "    </tr>\n",
       "    <tr>\n",
       "      <th>15</th>\n",
       "      <td>16</td>\n",
       "      <td>zeetv</td>\n",
       "      <td>Unknow</td>\n",
       "      <td>74700000.0</td>\n",
       "      <td>India</td>\n",
       "      <td>134.0</td>\n",
       "    </tr>\n",
       "    <tr>\n",
       "      <th>16</th>\n",
       "      <td>17</td>\n",
       "      <td>HYBELABELS</td>\n",
       "      <td>Música y baile</td>\n",
       "      <td>73400000.0</td>\n",
       "      <td>Estados Unidos</td>\n",
       "      <td>47200.0</td>\n",
       "    </tr>\n",
       "    <tr>\n",
       "      <th>17</th>\n",
       "      <td>18</td>\n",
       "      <td>Pinkfong</td>\n",
       "      <td>Animación, Juguetes</td>\n",
       "      <td>71100000.0</td>\n",
       "      <td>Unknown</td>\n",
       "      <td>363.0</td>\n",
       "    </tr>\n",
       "    <tr>\n",
       "      <th>18</th>\n",
       "      <td>19</td>\n",
       "      <td>ChuChuTV</td>\n",
       "      <td>Juguetes</td>\n",
       "      <td>68800000.0</td>\n",
       "      <td>Unknown</td>\n",
       "      <td>11000.0</td>\n",
       "    </tr>\n",
       "    <tr>\n",
       "      <th>19</th>\n",
       "      <td>20</td>\n",
       "      <td>colorstv</td>\n",
       "      <td>Unknow</td>\n",
       "      <td>68700000.0</td>\n",
       "      <td>India</td>\n",
       "      <td>206.0</td>\n",
       "    </tr>\n",
       "  </tbody>\n",
       "</table>\n",
       "</div>"
      ],
      "text/plain": [
       "    Rank              Username              Categories   Suscribers  \\\n",
       "0      1               tseries          Música y baile  253500000.0   \n",
       "1      2               MrBeast      Videojuegos, Humor  210100000.0   \n",
       "2      3             CoComelon               Educación  168100000.0   \n",
       "3      4              SETIndia                  Unknow  165400000.0   \n",
       "4      5         KidsDianaShow     Animación, Juguetes  116500000.0   \n",
       "5      6             PewDiePie  Películas, Videojuegos  111400000.0   \n",
       "6      7    LikeNastyaofficial                Juguetes  110400000.0   \n",
       "7      8           VladandNiki     Animación, Juguetes  105500000.0   \n",
       "8      9       zeemusiccompany          Música y baile  102600000.0   \n",
       "9     10                   WWE             Videojuegos   98100000.0   \n",
       "10    11             BLACKPINK          Música y baile   92200000.0   \n",
       "11    12    GoldminesTelefilms                  Unknow   92100000.0   \n",
       "12    13               SonySAB    Películas, Animación   87200000.0   \n",
       "13    14  5MinuteCraftsYouTube               Películas   80500000.0   \n",
       "14    15                   BTS          Música y baile   77000000.0   \n",
       "15    16                 zeetv                  Unknow   74700000.0   \n",
       "16    17            HYBELABELS          Música y baile   73400000.0   \n",
       "17    18              Pinkfong     Animación, Juguetes   71100000.0   \n",
       "18    19              ChuChuTV                Juguetes   68800000.0   \n",
       "19    20              colorstv                  Unknow   68700000.0   \n",
       "\n",
       "           Country      Likes  \n",
       "0            India     3200.0  \n",
       "1   Estados Unidos  5400000.0  \n",
       "2          Unknown    21600.0  \n",
       "3            India      239.0  \n",
       "4          Unknown     8800.0  \n",
       "5   Estados Unidos   182000.0  \n",
       "6          Unknown    14500.0  \n",
       "7          Unknown    17300.0  \n",
       "8            India     1800.0  \n",
       "9   Estados Unidos     4600.0  \n",
       "10  Estados Unidos   183500.0  \n",
       "11           India      261.0  \n",
       "12           India      562.0  \n",
       "13           India      574.0  \n",
       "14           India   166600.0  \n",
       "15           India      134.0  \n",
       "16  Estados Unidos    47200.0  \n",
       "17         Unknown      363.0  \n",
       "18         Unknown    11000.0  \n",
       "19           India      206.0  "
      ]
     },
     "execution_count": 50,
     "metadata": {},
     "output_type": "execute_result"
    }
   ],
   "source": [
    "df1"
   ]
  },
  {
   "cell_type": "code",
   "execution_count": 57,
   "id": "40ef901e-79ea-4559-83d2-34f2213986f2",
   "metadata": {},
   "outputs": [
    {
     "data": {
      "application/vnd.plotly.v1+json": {
       "config": {
        "plotlyServerURL": "https://plot.ly"
       },
       "data": [
        {
         "alignmentgroup": "True",
         "hovertemplate": "Username=%{x}<br>Suscribers=%{y}<extra></extra>",
         "legendgroup": "tseries",
         "marker": {
          "color": "#636efa",
          "pattern": {
           "shape": ""
          }
         },
         "name": "tseries",
         "offsetgroup": "tseries",
         "orientation": "v",
         "showlegend": true,
         "textposition": "auto",
         "type": "bar",
         "x": [
          "tseries"
         ],
         "xaxis": "x",
         "y": [
          253500000
         ],
         "yaxis": "y"
        },
        {
         "alignmentgroup": "True",
         "hovertemplate": "Username=%{x}<br>Suscribers=%{y}<extra></extra>",
         "legendgroup": "MrBeast",
         "marker": {
          "color": "#EF553B",
          "pattern": {
           "shape": ""
          }
         },
         "name": "MrBeast",
         "offsetgroup": "MrBeast",
         "orientation": "v",
         "showlegend": true,
         "textposition": "auto",
         "type": "bar",
         "x": [
          "MrBeast"
         ],
         "xaxis": "x",
         "y": [
          210100000
         ],
         "yaxis": "y"
        },
        {
         "alignmentgroup": "True",
         "hovertemplate": "Username=%{x}<br>Suscribers=%{y}<extra></extra>",
         "legendgroup": "CoComelon",
         "marker": {
          "color": "#00cc96",
          "pattern": {
           "shape": ""
          }
         },
         "name": "CoComelon",
         "offsetgroup": "CoComelon",
         "orientation": "v",
         "showlegend": true,
         "textposition": "auto",
         "type": "bar",
         "x": [
          "CoComelon"
         ],
         "xaxis": "x",
         "y": [
          168100000
         ],
         "yaxis": "y"
        },
        {
         "alignmentgroup": "True",
         "hovertemplate": "Username=%{x}<br>Suscribers=%{y}<extra></extra>",
         "legendgroup": "SETIndia",
         "marker": {
          "color": "#ab63fa",
          "pattern": {
           "shape": ""
          }
         },
         "name": "SETIndia",
         "offsetgroup": "SETIndia",
         "orientation": "v",
         "showlegend": true,
         "textposition": "auto",
         "type": "bar",
         "x": [
          "SETIndia"
         ],
         "xaxis": "x",
         "y": [
          165400000
         ],
         "yaxis": "y"
        },
        {
         "alignmentgroup": "True",
         "hovertemplate": "Username=%{x}<br>Suscribers=%{y}<extra></extra>",
         "legendgroup": "KidsDianaShow",
         "marker": {
          "color": "#FFA15A",
          "pattern": {
           "shape": ""
          }
         },
         "name": "KidsDianaShow",
         "offsetgroup": "KidsDianaShow",
         "orientation": "v",
         "showlegend": true,
         "textposition": "auto",
         "type": "bar",
         "x": [
          "KidsDianaShow"
         ],
         "xaxis": "x",
         "y": [
          116500000
         ],
         "yaxis": "y"
        },
        {
         "alignmentgroup": "True",
         "hovertemplate": "Username=%{x}<br>Suscribers=%{y}<extra></extra>",
         "legendgroup": "PewDiePie",
         "marker": {
          "color": "#19d3f3",
          "pattern": {
           "shape": ""
          }
         },
         "name": "PewDiePie",
         "offsetgroup": "PewDiePie",
         "orientation": "v",
         "showlegend": true,
         "textposition": "auto",
         "type": "bar",
         "x": [
          "PewDiePie"
         ],
         "xaxis": "x",
         "y": [
          111400000
         ],
         "yaxis": "y"
        },
        {
         "alignmentgroup": "True",
         "hovertemplate": "Username=%{x}<br>Suscribers=%{y}<extra></extra>",
         "legendgroup": "LikeNastyaofficial",
         "marker": {
          "color": "#FF6692",
          "pattern": {
           "shape": ""
          }
         },
         "name": "LikeNastyaofficial",
         "offsetgroup": "LikeNastyaofficial",
         "orientation": "v",
         "showlegend": true,
         "textposition": "auto",
         "type": "bar",
         "x": [
          "LikeNastyaofficial"
         ],
         "xaxis": "x",
         "y": [
          110400000
         ],
         "yaxis": "y"
        },
        {
         "alignmentgroup": "True",
         "hovertemplate": "Username=%{x}<br>Suscribers=%{y}<extra></extra>",
         "legendgroup": "VladandNiki",
         "marker": {
          "color": "#B6E880",
          "pattern": {
           "shape": ""
          }
         },
         "name": "VladandNiki",
         "offsetgroup": "VladandNiki",
         "orientation": "v",
         "showlegend": true,
         "textposition": "auto",
         "type": "bar",
         "x": [
          "VladandNiki"
         ],
         "xaxis": "x",
         "y": [
          105500000
         ],
         "yaxis": "y"
        },
        {
         "alignmentgroup": "True",
         "hovertemplate": "Username=%{x}<br>Suscribers=%{y}<extra></extra>",
         "legendgroup": "zeemusiccompany",
         "marker": {
          "color": "#FF97FF",
          "pattern": {
           "shape": ""
          }
         },
         "name": "zeemusiccompany",
         "offsetgroup": "zeemusiccompany",
         "orientation": "v",
         "showlegend": true,
         "textposition": "auto",
         "type": "bar",
         "x": [
          "zeemusiccompany"
         ],
         "xaxis": "x",
         "y": [
          102600000
         ],
         "yaxis": "y"
        },
        {
         "alignmentgroup": "True",
         "hovertemplate": "Username=%{x}<br>Suscribers=%{y}<extra></extra>",
         "legendgroup": "WWE",
         "marker": {
          "color": "#FECB52",
          "pattern": {
           "shape": ""
          }
         },
         "name": "WWE",
         "offsetgroup": "WWE",
         "orientation": "v",
         "showlegend": true,
         "textposition": "auto",
         "type": "bar",
         "x": [
          "WWE"
         ],
         "xaxis": "x",
         "y": [
          98100000
         ],
         "yaxis": "y"
        },
        {
         "alignmentgroup": "True",
         "hovertemplate": "Username=%{x}<br>Suscribers=%{y}<extra></extra>",
         "legendgroup": "BLACKPINK",
         "marker": {
          "color": "#636efa",
          "pattern": {
           "shape": ""
          }
         },
         "name": "BLACKPINK",
         "offsetgroup": "BLACKPINK",
         "orientation": "v",
         "showlegend": true,
         "textposition": "auto",
         "type": "bar",
         "x": [
          "BLACKPINK"
         ],
         "xaxis": "x",
         "y": [
          92200000
         ],
         "yaxis": "y"
        },
        {
         "alignmentgroup": "True",
         "hovertemplate": "Username=%{x}<br>Suscribers=%{y}<extra></extra>",
         "legendgroup": "GoldminesTelefilms",
         "marker": {
          "color": "#EF553B",
          "pattern": {
           "shape": ""
          }
         },
         "name": "GoldminesTelefilms",
         "offsetgroup": "GoldminesTelefilms",
         "orientation": "v",
         "showlegend": true,
         "textposition": "auto",
         "type": "bar",
         "x": [
          "GoldminesTelefilms"
         ],
         "xaxis": "x",
         "y": [
          92100000
         ],
         "yaxis": "y"
        },
        {
         "alignmentgroup": "True",
         "hovertemplate": "Username=%{x}<br>Suscribers=%{y}<extra></extra>",
         "legendgroup": "SonySAB",
         "marker": {
          "color": "#00cc96",
          "pattern": {
           "shape": ""
          }
         },
         "name": "SonySAB",
         "offsetgroup": "SonySAB",
         "orientation": "v",
         "showlegend": true,
         "textposition": "auto",
         "type": "bar",
         "x": [
          "SonySAB"
         ],
         "xaxis": "x",
         "y": [
          87200000
         ],
         "yaxis": "y"
        },
        {
         "alignmentgroup": "True",
         "hovertemplate": "Username=%{x}<br>Suscribers=%{y}<extra></extra>",
         "legendgroup": "5MinuteCraftsYouTube",
         "marker": {
          "color": "#ab63fa",
          "pattern": {
           "shape": ""
          }
         },
         "name": "5MinuteCraftsYouTube",
         "offsetgroup": "5MinuteCraftsYouTube",
         "orientation": "v",
         "showlegend": true,
         "textposition": "auto",
         "type": "bar",
         "x": [
          "5MinuteCraftsYouTube"
         ],
         "xaxis": "x",
         "y": [
          80500000
         ],
         "yaxis": "y"
        },
        {
         "alignmentgroup": "True",
         "hovertemplate": "Username=%{x}<br>Suscribers=%{y}<extra></extra>",
         "legendgroup": "BTS",
         "marker": {
          "color": "#FFA15A",
          "pattern": {
           "shape": ""
          }
         },
         "name": "BTS",
         "offsetgroup": "BTS",
         "orientation": "v",
         "showlegend": true,
         "textposition": "auto",
         "type": "bar",
         "x": [
          "BTS"
         ],
         "xaxis": "x",
         "y": [
          77000000
         ],
         "yaxis": "y"
        },
        {
         "alignmentgroup": "True",
         "hovertemplate": "Username=%{x}<br>Suscribers=%{y}<extra></extra>",
         "legendgroup": "zeetv",
         "marker": {
          "color": "#19d3f3",
          "pattern": {
           "shape": ""
          }
         },
         "name": "zeetv",
         "offsetgroup": "zeetv",
         "orientation": "v",
         "showlegend": true,
         "textposition": "auto",
         "type": "bar",
         "x": [
          "zeetv"
         ],
         "xaxis": "x",
         "y": [
          74700000
         ],
         "yaxis": "y"
        },
        {
         "alignmentgroup": "True",
         "hovertemplate": "Username=%{x}<br>Suscribers=%{y}<extra></extra>",
         "legendgroup": "HYBELABELS",
         "marker": {
          "color": "#FF6692",
          "pattern": {
           "shape": ""
          }
         },
         "name": "HYBELABELS",
         "offsetgroup": "HYBELABELS",
         "orientation": "v",
         "showlegend": true,
         "textposition": "auto",
         "type": "bar",
         "x": [
          "HYBELABELS"
         ],
         "xaxis": "x",
         "y": [
          73400000
         ],
         "yaxis": "y"
        },
        {
         "alignmentgroup": "True",
         "hovertemplate": "Username=%{x}<br>Suscribers=%{y}<extra></extra>",
         "legendgroup": "Pinkfong",
         "marker": {
          "color": "#B6E880",
          "pattern": {
           "shape": ""
          }
         },
         "name": "Pinkfong",
         "offsetgroup": "Pinkfong",
         "orientation": "v",
         "showlegend": true,
         "textposition": "auto",
         "type": "bar",
         "x": [
          "Pinkfong"
         ],
         "xaxis": "x",
         "y": [
          71100000
         ],
         "yaxis": "y"
        },
        {
         "alignmentgroup": "True",
         "hovertemplate": "Username=%{x}<br>Suscribers=%{y}<extra></extra>",
         "legendgroup": "ChuChuTV",
         "marker": {
          "color": "#FF97FF",
          "pattern": {
           "shape": ""
          }
         },
         "name": "ChuChuTV",
         "offsetgroup": "ChuChuTV",
         "orientation": "v",
         "showlegend": true,
         "textposition": "auto",
         "type": "bar",
         "x": [
          "ChuChuTV"
         ],
         "xaxis": "x",
         "y": [
          68800000
         ],
         "yaxis": "y"
        },
        {
         "alignmentgroup": "True",
         "hovertemplate": "Username=%{x}<br>Suscribers=%{y}<extra></extra>",
         "legendgroup": "colorstv",
         "marker": {
          "color": "#FECB52",
          "pattern": {
           "shape": ""
          }
         },
         "name": "colorstv",
         "offsetgroup": "colorstv",
         "orientation": "v",
         "showlegend": true,
         "textposition": "auto",
         "type": "bar",
         "x": [
          "colorstv"
         ],
         "xaxis": "x",
         "y": [
          68700000
         ],
         "yaxis": "y"
        }
       ],
       "layout": {
        "barmode": "relative",
        "legend": {
         "title": {
          "text": "Username"
         },
         "tracegroupgap": 0
        },
        "template": {
         "data": {
          "bar": [
           {
            "error_x": {
             "color": "#2a3f5f"
            },
            "error_y": {
             "color": "#2a3f5f"
            },
            "marker": {
             "line": {
              "color": "#E5ECF6",
              "width": 0.5
             },
             "pattern": {
              "fillmode": "overlay",
              "size": 10,
              "solidity": 0.2
             }
            },
            "type": "bar"
           }
          ],
          "barpolar": [
           {
            "marker": {
             "line": {
              "color": "#E5ECF6",
              "width": 0.5
             },
             "pattern": {
              "fillmode": "overlay",
              "size": 10,
              "solidity": 0.2
             }
            },
            "type": "barpolar"
           }
          ],
          "carpet": [
           {
            "aaxis": {
             "endlinecolor": "#2a3f5f",
             "gridcolor": "white",
             "linecolor": "white",
             "minorgridcolor": "white",
             "startlinecolor": "#2a3f5f"
            },
            "baxis": {
             "endlinecolor": "#2a3f5f",
             "gridcolor": "white",
             "linecolor": "white",
             "minorgridcolor": "white",
             "startlinecolor": "#2a3f5f"
            },
            "type": "carpet"
           }
          ],
          "choropleth": [
           {
            "colorbar": {
             "outlinewidth": 0,
             "ticks": ""
            },
            "type": "choropleth"
           }
          ],
          "contour": [
           {
            "colorbar": {
             "outlinewidth": 0,
             "ticks": ""
            },
            "colorscale": [
             [
              0,
              "#0d0887"
             ],
             [
              0.1111111111111111,
              "#46039f"
             ],
             [
              0.2222222222222222,
              "#7201a8"
             ],
             [
              0.3333333333333333,
              "#9c179e"
             ],
             [
              0.4444444444444444,
              "#bd3786"
             ],
             [
              0.5555555555555556,
              "#d8576b"
             ],
             [
              0.6666666666666666,
              "#ed7953"
             ],
             [
              0.7777777777777778,
              "#fb9f3a"
             ],
             [
              0.8888888888888888,
              "#fdca26"
             ],
             [
              1,
              "#f0f921"
             ]
            ],
            "type": "contour"
           }
          ],
          "contourcarpet": [
           {
            "colorbar": {
             "outlinewidth": 0,
             "ticks": ""
            },
            "type": "contourcarpet"
           }
          ],
          "heatmap": [
           {
            "colorbar": {
             "outlinewidth": 0,
             "ticks": ""
            },
            "colorscale": [
             [
              0,
              "#0d0887"
             ],
             [
              0.1111111111111111,
              "#46039f"
             ],
             [
              0.2222222222222222,
              "#7201a8"
             ],
             [
              0.3333333333333333,
              "#9c179e"
             ],
             [
              0.4444444444444444,
              "#bd3786"
             ],
             [
              0.5555555555555556,
              "#d8576b"
             ],
             [
              0.6666666666666666,
              "#ed7953"
             ],
             [
              0.7777777777777778,
              "#fb9f3a"
             ],
             [
              0.8888888888888888,
              "#fdca26"
             ],
             [
              1,
              "#f0f921"
             ]
            ],
            "type": "heatmap"
           }
          ],
          "heatmapgl": [
           {
            "colorbar": {
             "outlinewidth": 0,
             "ticks": ""
            },
            "colorscale": [
             [
              0,
              "#0d0887"
             ],
             [
              0.1111111111111111,
              "#46039f"
             ],
             [
              0.2222222222222222,
              "#7201a8"
             ],
             [
              0.3333333333333333,
              "#9c179e"
             ],
             [
              0.4444444444444444,
              "#bd3786"
             ],
             [
              0.5555555555555556,
              "#d8576b"
             ],
             [
              0.6666666666666666,
              "#ed7953"
             ],
             [
              0.7777777777777778,
              "#fb9f3a"
             ],
             [
              0.8888888888888888,
              "#fdca26"
             ],
             [
              1,
              "#f0f921"
             ]
            ],
            "type": "heatmapgl"
           }
          ],
          "histogram": [
           {
            "marker": {
             "pattern": {
              "fillmode": "overlay",
              "size": 10,
              "solidity": 0.2
             }
            },
            "type": "histogram"
           }
          ],
          "histogram2d": [
           {
            "colorbar": {
             "outlinewidth": 0,
             "ticks": ""
            },
            "colorscale": [
             [
              0,
              "#0d0887"
             ],
             [
              0.1111111111111111,
              "#46039f"
             ],
             [
              0.2222222222222222,
              "#7201a8"
             ],
             [
              0.3333333333333333,
              "#9c179e"
             ],
             [
              0.4444444444444444,
              "#bd3786"
             ],
             [
              0.5555555555555556,
              "#d8576b"
             ],
             [
              0.6666666666666666,
              "#ed7953"
             ],
             [
              0.7777777777777778,
              "#fb9f3a"
             ],
             [
              0.8888888888888888,
              "#fdca26"
             ],
             [
              1,
              "#f0f921"
             ]
            ],
            "type": "histogram2d"
           }
          ],
          "histogram2dcontour": [
           {
            "colorbar": {
             "outlinewidth": 0,
             "ticks": ""
            },
            "colorscale": [
             [
              0,
              "#0d0887"
             ],
             [
              0.1111111111111111,
              "#46039f"
             ],
             [
              0.2222222222222222,
              "#7201a8"
             ],
             [
              0.3333333333333333,
              "#9c179e"
             ],
             [
              0.4444444444444444,
              "#bd3786"
             ],
             [
              0.5555555555555556,
              "#d8576b"
             ],
             [
              0.6666666666666666,
              "#ed7953"
             ],
             [
              0.7777777777777778,
              "#fb9f3a"
             ],
             [
              0.8888888888888888,
              "#fdca26"
             ],
             [
              1,
              "#f0f921"
             ]
            ],
            "type": "histogram2dcontour"
           }
          ],
          "mesh3d": [
           {
            "colorbar": {
             "outlinewidth": 0,
             "ticks": ""
            },
            "type": "mesh3d"
           }
          ],
          "parcoords": [
           {
            "line": {
             "colorbar": {
              "outlinewidth": 0,
              "ticks": ""
             }
            },
            "type": "parcoords"
           }
          ],
          "pie": [
           {
            "automargin": true,
            "type": "pie"
           }
          ],
          "scatter": [
           {
            "fillpattern": {
             "fillmode": "overlay",
             "size": 10,
             "solidity": 0.2
            },
            "type": "scatter"
           }
          ],
          "scatter3d": [
           {
            "line": {
             "colorbar": {
              "outlinewidth": 0,
              "ticks": ""
             }
            },
            "marker": {
             "colorbar": {
              "outlinewidth": 0,
              "ticks": ""
             }
            },
            "type": "scatter3d"
           }
          ],
          "scattercarpet": [
           {
            "marker": {
             "colorbar": {
              "outlinewidth": 0,
              "ticks": ""
             }
            },
            "type": "scattercarpet"
           }
          ],
          "scattergeo": [
           {
            "marker": {
             "colorbar": {
              "outlinewidth": 0,
              "ticks": ""
             }
            },
            "type": "scattergeo"
           }
          ],
          "scattergl": [
           {
            "marker": {
             "colorbar": {
              "outlinewidth": 0,
              "ticks": ""
             }
            },
            "type": "scattergl"
           }
          ],
          "scattermapbox": [
           {
            "marker": {
             "colorbar": {
              "outlinewidth": 0,
              "ticks": ""
             }
            },
            "type": "scattermapbox"
           }
          ],
          "scatterpolar": [
           {
            "marker": {
             "colorbar": {
              "outlinewidth": 0,
              "ticks": ""
             }
            },
            "type": "scatterpolar"
           }
          ],
          "scatterpolargl": [
           {
            "marker": {
             "colorbar": {
              "outlinewidth": 0,
              "ticks": ""
             }
            },
            "type": "scatterpolargl"
           }
          ],
          "scatterternary": [
           {
            "marker": {
             "colorbar": {
              "outlinewidth": 0,
              "ticks": ""
             }
            },
            "type": "scatterternary"
           }
          ],
          "surface": [
           {
            "colorbar": {
             "outlinewidth": 0,
             "ticks": ""
            },
            "colorscale": [
             [
              0,
              "#0d0887"
             ],
             [
              0.1111111111111111,
              "#46039f"
             ],
             [
              0.2222222222222222,
              "#7201a8"
             ],
             [
              0.3333333333333333,
              "#9c179e"
             ],
             [
              0.4444444444444444,
              "#bd3786"
             ],
             [
              0.5555555555555556,
              "#d8576b"
             ],
             [
              0.6666666666666666,
              "#ed7953"
             ],
             [
              0.7777777777777778,
              "#fb9f3a"
             ],
             [
              0.8888888888888888,
              "#fdca26"
             ],
             [
              1,
              "#f0f921"
             ]
            ],
            "type": "surface"
           }
          ],
          "table": [
           {
            "cells": {
             "fill": {
              "color": "#EBF0F8"
             },
             "line": {
              "color": "white"
             }
            },
            "header": {
             "fill": {
              "color": "#C8D4E3"
             },
             "line": {
              "color": "white"
             }
            },
            "type": "table"
           }
          ]
         },
         "layout": {
          "annotationdefaults": {
           "arrowcolor": "#2a3f5f",
           "arrowhead": 0,
           "arrowwidth": 1
          },
          "autotypenumbers": "strict",
          "coloraxis": {
           "colorbar": {
            "outlinewidth": 0,
            "ticks": ""
           }
          },
          "colorscale": {
           "diverging": [
            [
             0,
             "#8e0152"
            ],
            [
             0.1,
             "#c51b7d"
            ],
            [
             0.2,
             "#de77ae"
            ],
            [
             0.3,
             "#f1b6da"
            ],
            [
             0.4,
             "#fde0ef"
            ],
            [
             0.5,
             "#f7f7f7"
            ],
            [
             0.6,
             "#e6f5d0"
            ],
            [
             0.7,
             "#b8e186"
            ],
            [
             0.8,
             "#7fbc41"
            ],
            [
             0.9,
             "#4d9221"
            ],
            [
             1,
             "#276419"
            ]
           ],
           "sequential": [
            [
             0,
             "#0d0887"
            ],
            [
             0.1111111111111111,
             "#46039f"
            ],
            [
             0.2222222222222222,
             "#7201a8"
            ],
            [
             0.3333333333333333,
             "#9c179e"
            ],
            [
             0.4444444444444444,
             "#bd3786"
            ],
            [
             0.5555555555555556,
             "#d8576b"
            ],
            [
             0.6666666666666666,
             "#ed7953"
            ],
            [
             0.7777777777777778,
             "#fb9f3a"
            ],
            [
             0.8888888888888888,
             "#fdca26"
            ],
            [
             1,
             "#f0f921"
            ]
           ],
           "sequentialminus": [
            [
             0,
             "#0d0887"
            ],
            [
             0.1111111111111111,
             "#46039f"
            ],
            [
             0.2222222222222222,
             "#7201a8"
            ],
            [
             0.3333333333333333,
             "#9c179e"
            ],
            [
             0.4444444444444444,
             "#bd3786"
            ],
            [
             0.5555555555555556,
             "#d8576b"
            ],
            [
             0.6666666666666666,
             "#ed7953"
            ],
            [
             0.7777777777777778,
             "#fb9f3a"
            ],
            [
             0.8888888888888888,
             "#fdca26"
            ],
            [
             1,
             "#f0f921"
            ]
           ]
          },
          "colorway": [
           "#636efa",
           "#EF553B",
           "#00cc96",
           "#ab63fa",
           "#FFA15A",
           "#19d3f3",
           "#FF6692",
           "#B6E880",
           "#FF97FF",
           "#FECB52"
          ],
          "font": {
           "color": "#2a3f5f"
          },
          "geo": {
           "bgcolor": "white",
           "lakecolor": "white",
           "landcolor": "#E5ECF6",
           "showlakes": true,
           "showland": true,
           "subunitcolor": "white"
          },
          "hoverlabel": {
           "align": "left"
          },
          "hovermode": "closest",
          "mapbox": {
           "style": "light"
          },
          "paper_bgcolor": "white",
          "plot_bgcolor": "#E5ECF6",
          "polar": {
           "angularaxis": {
            "gridcolor": "white",
            "linecolor": "white",
            "ticks": ""
           },
           "bgcolor": "#E5ECF6",
           "radialaxis": {
            "gridcolor": "white",
            "linecolor": "white",
            "ticks": ""
           }
          },
          "scene": {
           "xaxis": {
            "backgroundcolor": "#E5ECF6",
            "gridcolor": "white",
            "gridwidth": 2,
            "linecolor": "white",
            "showbackground": true,
            "ticks": "",
            "zerolinecolor": "white"
           },
           "yaxis": {
            "backgroundcolor": "#E5ECF6",
            "gridcolor": "white",
            "gridwidth": 2,
            "linecolor": "white",
            "showbackground": true,
            "ticks": "",
            "zerolinecolor": "white"
           },
           "zaxis": {
            "backgroundcolor": "#E5ECF6",
            "gridcolor": "white",
            "gridwidth": 2,
            "linecolor": "white",
            "showbackground": true,
            "ticks": "",
            "zerolinecolor": "white"
           }
          },
          "shapedefaults": {
           "line": {
            "color": "#2a3f5f"
           }
          },
          "ternary": {
           "aaxis": {
            "gridcolor": "white",
            "linecolor": "white",
            "ticks": ""
           },
           "baxis": {
            "gridcolor": "white",
            "linecolor": "white",
            "ticks": ""
           },
           "bgcolor": "#E5ECF6",
           "caxis": {
            "gridcolor": "white",
            "linecolor": "white",
            "ticks": ""
           }
          },
          "title": {
           "x": 0.05
          },
          "xaxis": {
           "automargin": true,
           "gridcolor": "white",
           "linecolor": "white",
           "ticks": "",
           "title": {
            "standoff": 15
           },
           "zerolinecolor": "white",
           "zerolinewidth": 2
          },
          "yaxis": {
           "automargin": true,
           "gridcolor": "white",
           "linecolor": "white",
           "ticks": "",
           "title": {
            "standoff": 15
           },
           "zerolinecolor": "white",
           "zerolinewidth": 2
          }
         }
        },
        "title": {
         "text": "Analysis of top 20 YouTubers from all over the World on the basis of Subscribers"
        },
        "xaxis": {
         "anchor": "y",
         "categoryarray": [
          "tseries",
          "MrBeast",
          "CoComelon",
          "SETIndia",
          "KidsDianaShow",
          "PewDiePie",
          "LikeNastyaofficial",
          "VladandNiki",
          "zeemusiccompany",
          "WWE",
          "BLACKPINK",
          "GoldminesTelefilms",
          "SonySAB",
          "5MinuteCraftsYouTube",
          "BTS",
          "zeetv",
          "HYBELABELS",
          "Pinkfong",
          "ChuChuTV",
          "colorstv"
         ],
         "categoryorder": "array",
         "domain": [
          0,
          1
         ],
         "title": {
          "text": "Username"
         }
        },
        "yaxis": {
         "anchor": "x",
         "domain": [
          0,
          1
         ],
         "title": {
          "text": "Suscribers"
         }
        }
       }
      },
      "text/html": [
       "<div>                            <div id=\"482b23f8-720f-418d-85c6-04f126adda1a\" class=\"plotly-graph-div\" style=\"height:525px; width:100%;\"></div>            <script type=\"text/javascript\">                require([\"plotly\"], function(Plotly) {                    window.PLOTLYENV=window.PLOTLYENV || {};                                    if (document.getElementById(\"482b23f8-720f-418d-85c6-04f126adda1a\")) {                    Plotly.newPlot(                        \"482b23f8-720f-418d-85c6-04f126adda1a\",                        [{\"alignmentgroup\":\"True\",\"hovertemplate\":\"Username=%{x}\\u003cbr\\u003eSuscribers=%{y}\\u003cextra\\u003e\\u003c\\u002fextra\\u003e\",\"legendgroup\":\"tseries\",\"marker\":{\"color\":\"#636efa\",\"pattern\":{\"shape\":\"\"}},\"name\":\"tseries\",\"offsetgroup\":\"tseries\",\"orientation\":\"v\",\"showlegend\":true,\"textposition\":\"auto\",\"x\":[\"tseries\"],\"xaxis\":\"x\",\"y\":[253500000.0],\"yaxis\":\"y\",\"type\":\"bar\"},{\"alignmentgroup\":\"True\",\"hovertemplate\":\"Username=%{x}\\u003cbr\\u003eSuscribers=%{y}\\u003cextra\\u003e\\u003c\\u002fextra\\u003e\",\"legendgroup\":\"MrBeast\",\"marker\":{\"color\":\"#EF553B\",\"pattern\":{\"shape\":\"\"}},\"name\":\"MrBeast\",\"offsetgroup\":\"MrBeast\",\"orientation\":\"v\",\"showlegend\":true,\"textposition\":\"auto\",\"x\":[\"MrBeast\"],\"xaxis\":\"x\",\"y\":[210100000.0],\"yaxis\":\"y\",\"type\":\"bar\"},{\"alignmentgroup\":\"True\",\"hovertemplate\":\"Username=%{x}\\u003cbr\\u003eSuscribers=%{y}\\u003cextra\\u003e\\u003c\\u002fextra\\u003e\",\"legendgroup\":\"CoComelon\",\"marker\":{\"color\":\"#00cc96\",\"pattern\":{\"shape\":\"\"}},\"name\":\"CoComelon\",\"offsetgroup\":\"CoComelon\",\"orientation\":\"v\",\"showlegend\":true,\"textposition\":\"auto\",\"x\":[\"CoComelon\"],\"xaxis\":\"x\",\"y\":[168100000.0],\"yaxis\":\"y\",\"type\":\"bar\"},{\"alignmentgroup\":\"True\",\"hovertemplate\":\"Username=%{x}\\u003cbr\\u003eSuscribers=%{y}\\u003cextra\\u003e\\u003c\\u002fextra\\u003e\",\"legendgroup\":\"SETIndia\",\"marker\":{\"color\":\"#ab63fa\",\"pattern\":{\"shape\":\"\"}},\"name\":\"SETIndia\",\"offsetgroup\":\"SETIndia\",\"orientation\":\"v\",\"showlegend\":true,\"textposition\":\"auto\",\"x\":[\"SETIndia\"],\"xaxis\":\"x\",\"y\":[165400000.0],\"yaxis\":\"y\",\"type\":\"bar\"},{\"alignmentgroup\":\"True\",\"hovertemplate\":\"Username=%{x}\\u003cbr\\u003eSuscribers=%{y}\\u003cextra\\u003e\\u003c\\u002fextra\\u003e\",\"legendgroup\":\"KidsDianaShow\",\"marker\":{\"color\":\"#FFA15A\",\"pattern\":{\"shape\":\"\"}},\"name\":\"KidsDianaShow\",\"offsetgroup\":\"KidsDianaShow\",\"orientation\":\"v\",\"showlegend\":true,\"textposition\":\"auto\",\"x\":[\"KidsDianaShow\"],\"xaxis\":\"x\",\"y\":[116500000.0],\"yaxis\":\"y\",\"type\":\"bar\"},{\"alignmentgroup\":\"True\",\"hovertemplate\":\"Username=%{x}\\u003cbr\\u003eSuscribers=%{y}\\u003cextra\\u003e\\u003c\\u002fextra\\u003e\",\"legendgroup\":\"PewDiePie\",\"marker\":{\"color\":\"#19d3f3\",\"pattern\":{\"shape\":\"\"}},\"name\":\"PewDiePie\",\"offsetgroup\":\"PewDiePie\",\"orientation\":\"v\",\"showlegend\":true,\"textposition\":\"auto\",\"x\":[\"PewDiePie\"],\"xaxis\":\"x\",\"y\":[111400000.0],\"yaxis\":\"y\",\"type\":\"bar\"},{\"alignmentgroup\":\"True\",\"hovertemplate\":\"Username=%{x}\\u003cbr\\u003eSuscribers=%{y}\\u003cextra\\u003e\\u003c\\u002fextra\\u003e\",\"legendgroup\":\"LikeNastyaofficial\",\"marker\":{\"color\":\"#FF6692\",\"pattern\":{\"shape\":\"\"}},\"name\":\"LikeNastyaofficial\",\"offsetgroup\":\"LikeNastyaofficial\",\"orientation\":\"v\",\"showlegend\":true,\"textposition\":\"auto\",\"x\":[\"LikeNastyaofficial\"],\"xaxis\":\"x\",\"y\":[110400000.0],\"yaxis\":\"y\",\"type\":\"bar\"},{\"alignmentgroup\":\"True\",\"hovertemplate\":\"Username=%{x}\\u003cbr\\u003eSuscribers=%{y}\\u003cextra\\u003e\\u003c\\u002fextra\\u003e\",\"legendgroup\":\"VladandNiki\",\"marker\":{\"color\":\"#B6E880\",\"pattern\":{\"shape\":\"\"}},\"name\":\"VladandNiki\",\"offsetgroup\":\"VladandNiki\",\"orientation\":\"v\",\"showlegend\":true,\"textposition\":\"auto\",\"x\":[\"VladandNiki\"],\"xaxis\":\"x\",\"y\":[105500000.0],\"yaxis\":\"y\",\"type\":\"bar\"},{\"alignmentgroup\":\"True\",\"hovertemplate\":\"Username=%{x}\\u003cbr\\u003eSuscribers=%{y}\\u003cextra\\u003e\\u003c\\u002fextra\\u003e\",\"legendgroup\":\"zeemusiccompany\",\"marker\":{\"color\":\"#FF97FF\",\"pattern\":{\"shape\":\"\"}},\"name\":\"zeemusiccompany\",\"offsetgroup\":\"zeemusiccompany\",\"orientation\":\"v\",\"showlegend\":true,\"textposition\":\"auto\",\"x\":[\"zeemusiccompany\"],\"xaxis\":\"x\",\"y\":[102600000.0],\"yaxis\":\"y\",\"type\":\"bar\"},{\"alignmentgroup\":\"True\",\"hovertemplate\":\"Username=%{x}\\u003cbr\\u003eSuscribers=%{y}\\u003cextra\\u003e\\u003c\\u002fextra\\u003e\",\"legendgroup\":\"WWE\",\"marker\":{\"color\":\"#FECB52\",\"pattern\":{\"shape\":\"\"}},\"name\":\"WWE\",\"offsetgroup\":\"WWE\",\"orientation\":\"v\",\"showlegend\":true,\"textposition\":\"auto\",\"x\":[\"WWE\"],\"xaxis\":\"x\",\"y\":[98100000.0],\"yaxis\":\"y\",\"type\":\"bar\"},{\"alignmentgroup\":\"True\",\"hovertemplate\":\"Username=%{x}\\u003cbr\\u003eSuscribers=%{y}\\u003cextra\\u003e\\u003c\\u002fextra\\u003e\",\"legendgroup\":\"BLACKPINK\",\"marker\":{\"color\":\"#636efa\",\"pattern\":{\"shape\":\"\"}},\"name\":\"BLACKPINK\",\"offsetgroup\":\"BLACKPINK\",\"orientation\":\"v\",\"showlegend\":true,\"textposition\":\"auto\",\"x\":[\"BLACKPINK\"],\"xaxis\":\"x\",\"y\":[92200000.0],\"yaxis\":\"y\",\"type\":\"bar\"},{\"alignmentgroup\":\"True\",\"hovertemplate\":\"Username=%{x}\\u003cbr\\u003eSuscribers=%{y}\\u003cextra\\u003e\\u003c\\u002fextra\\u003e\",\"legendgroup\":\"GoldminesTelefilms\",\"marker\":{\"color\":\"#EF553B\",\"pattern\":{\"shape\":\"\"}},\"name\":\"GoldminesTelefilms\",\"offsetgroup\":\"GoldminesTelefilms\",\"orientation\":\"v\",\"showlegend\":true,\"textposition\":\"auto\",\"x\":[\"GoldminesTelefilms\"],\"xaxis\":\"x\",\"y\":[92100000.0],\"yaxis\":\"y\",\"type\":\"bar\"},{\"alignmentgroup\":\"True\",\"hovertemplate\":\"Username=%{x}\\u003cbr\\u003eSuscribers=%{y}\\u003cextra\\u003e\\u003c\\u002fextra\\u003e\",\"legendgroup\":\"SonySAB\",\"marker\":{\"color\":\"#00cc96\",\"pattern\":{\"shape\":\"\"}},\"name\":\"SonySAB\",\"offsetgroup\":\"SonySAB\",\"orientation\":\"v\",\"showlegend\":true,\"textposition\":\"auto\",\"x\":[\"SonySAB\"],\"xaxis\":\"x\",\"y\":[87200000.0],\"yaxis\":\"y\",\"type\":\"bar\"},{\"alignmentgroup\":\"True\",\"hovertemplate\":\"Username=%{x}\\u003cbr\\u003eSuscribers=%{y}\\u003cextra\\u003e\\u003c\\u002fextra\\u003e\",\"legendgroup\":\"5MinuteCraftsYouTube\",\"marker\":{\"color\":\"#ab63fa\",\"pattern\":{\"shape\":\"\"}},\"name\":\"5MinuteCraftsYouTube\",\"offsetgroup\":\"5MinuteCraftsYouTube\",\"orientation\":\"v\",\"showlegend\":true,\"textposition\":\"auto\",\"x\":[\"5MinuteCraftsYouTube\"],\"xaxis\":\"x\",\"y\":[80500000.0],\"yaxis\":\"y\",\"type\":\"bar\"},{\"alignmentgroup\":\"True\",\"hovertemplate\":\"Username=%{x}\\u003cbr\\u003eSuscribers=%{y}\\u003cextra\\u003e\\u003c\\u002fextra\\u003e\",\"legendgroup\":\"BTS\",\"marker\":{\"color\":\"#FFA15A\",\"pattern\":{\"shape\":\"\"}},\"name\":\"BTS\",\"offsetgroup\":\"BTS\",\"orientation\":\"v\",\"showlegend\":true,\"textposition\":\"auto\",\"x\":[\"BTS\"],\"xaxis\":\"x\",\"y\":[77000000.0],\"yaxis\":\"y\",\"type\":\"bar\"},{\"alignmentgroup\":\"True\",\"hovertemplate\":\"Username=%{x}\\u003cbr\\u003eSuscribers=%{y}\\u003cextra\\u003e\\u003c\\u002fextra\\u003e\",\"legendgroup\":\"zeetv\",\"marker\":{\"color\":\"#19d3f3\",\"pattern\":{\"shape\":\"\"}},\"name\":\"zeetv\",\"offsetgroup\":\"zeetv\",\"orientation\":\"v\",\"showlegend\":true,\"textposition\":\"auto\",\"x\":[\"zeetv\"],\"xaxis\":\"x\",\"y\":[74700000.0],\"yaxis\":\"y\",\"type\":\"bar\"},{\"alignmentgroup\":\"True\",\"hovertemplate\":\"Username=%{x}\\u003cbr\\u003eSuscribers=%{y}\\u003cextra\\u003e\\u003c\\u002fextra\\u003e\",\"legendgroup\":\"HYBELABELS\",\"marker\":{\"color\":\"#FF6692\",\"pattern\":{\"shape\":\"\"}},\"name\":\"HYBELABELS\",\"offsetgroup\":\"HYBELABELS\",\"orientation\":\"v\",\"showlegend\":true,\"textposition\":\"auto\",\"x\":[\"HYBELABELS\"],\"xaxis\":\"x\",\"y\":[73400000.0],\"yaxis\":\"y\",\"type\":\"bar\"},{\"alignmentgroup\":\"True\",\"hovertemplate\":\"Username=%{x}\\u003cbr\\u003eSuscribers=%{y}\\u003cextra\\u003e\\u003c\\u002fextra\\u003e\",\"legendgroup\":\"Pinkfong\",\"marker\":{\"color\":\"#B6E880\",\"pattern\":{\"shape\":\"\"}},\"name\":\"Pinkfong\",\"offsetgroup\":\"Pinkfong\",\"orientation\":\"v\",\"showlegend\":true,\"textposition\":\"auto\",\"x\":[\"Pinkfong\"],\"xaxis\":\"x\",\"y\":[71100000.0],\"yaxis\":\"y\",\"type\":\"bar\"},{\"alignmentgroup\":\"True\",\"hovertemplate\":\"Username=%{x}\\u003cbr\\u003eSuscribers=%{y}\\u003cextra\\u003e\\u003c\\u002fextra\\u003e\",\"legendgroup\":\"ChuChuTV\",\"marker\":{\"color\":\"#FF97FF\",\"pattern\":{\"shape\":\"\"}},\"name\":\"ChuChuTV\",\"offsetgroup\":\"ChuChuTV\",\"orientation\":\"v\",\"showlegend\":true,\"textposition\":\"auto\",\"x\":[\"ChuChuTV\"],\"xaxis\":\"x\",\"y\":[68800000.0],\"yaxis\":\"y\",\"type\":\"bar\"},{\"alignmentgroup\":\"True\",\"hovertemplate\":\"Username=%{x}\\u003cbr\\u003eSuscribers=%{y}\\u003cextra\\u003e\\u003c\\u002fextra\\u003e\",\"legendgroup\":\"colorstv\",\"marker\":{\"color\":\"#FECB52\",\"pattern\":{\"shape\":\"\"}},\"name\":\"colorstv\",\"offsetgroup\":\"colorstv\",\"orientation\":\"v\",\"showlegend\":true,\"textposition\":\"auto\",\"x\":[\"colorstv\"],\"xaxis\":\"x\",\"y\":[68700000.0],\"yaxis\":\"y\",\"type\":\"bar\"}],                        {\"template\":{\"data\":{\"histogram2dcontour\":[{\"type\":\"histogram2dcontour\",\"colorbar\":{\"outlinewidth\":0,\"ticks\":\"\"},\"colorscale\":[[0.0,\"#0d0887\"],[0.1111111111111111,\"#46039f\"],[0.2222222222222222,\"#7201a8\"],[0.3333333333333333,\"#9c179e\"],[0.4444444444444444,\"#bd3786\"],[0.5555555555555556,\"#d8576b\"],[0.6666666666666666,\"#ed7953\"],[0.7777777777777778,\"#fb9f3a\"],[0.8888888888888888,\"#fdca26\"],[1.0,\"#f0f921\"]]}],\"choropleth\":[{\"type\":\"choropleth\",\"colorbar\":{\"outlinewidth\":0,\"ticks\":\"\"}}],\"histogram2d\":[{\"type\":\"histogram2d\",\"colorbar\":{\"outlinewidth\":0,\"ticks\":\"\"},\"colorscale\":[[0.0,\"#0d0887\"],[0.1111111111111111,\"#46039f\"],[0.2222222222222222,\"#7201a8\"],[0.3333333333333333,\"#9c179e\"],[0.4444444444444444,\"#bd3786\"],[0.5555555555555556,\"#d8576b\"],[0.6666666666666666,\"#ed7953\"],[0.7777777777777778,\"#fb9f3a\"],[0.8888888888888888,\"#fdca26\"],[1.0,\"#f0f921\"]]}],\"heatmap\":[{\"type\":\"heatmap\",\"colorbar\":{\"outlinewidth\":0,\"ticks\":\"\"},\"colorscale\":[[0.0,\"#0d0887\"],[0.1111111111111111,\"#46039f\"],[0.2222222222222222,\"#7201a8\"],[0.3333333333333333,\"#9c179e\"],[0.4444444444444444,\"#bd3786\"],[0.5555555555555556,\"#d8576b\"],[0.6666666666666666,\"#ed7953\"],[0.7777777777777778,\"#fb9f3a\"],[0.8888888888888888,\"#fdca26\"],[1.0,\"#f0f921\"]]}],\"heatmapgl\":[{\"type\":\"heatmapgl\",\"colorbar\":{\"outlinewidth\":0,\"ticks\":\"\"},\"colorscale\":[[0.0,\"#0d0887\"],[0.1111111111111111,\"#46039f\"],[0.2222222222222222,\"#7201a8\"],[0.3333333333333333,\"#9c179e\"],[0.4444444444444444,\"#bd3786\"],[0.5555555555555556,\"#d8576b\"],[0.6666666666666666,\"#ed7953\"],[0.7777777777777778,\"#fb9f3a\"],[0.8888888888888888,\"#fdca26\"],[1.0,\"#f0f921\"]]}],\"contourcarpet\":[{\"type\":\"contourcarpet\",\"colorbar\":{\"outlinewidth\":0,\"ticks\":\"\"}}],\"contour\":[{\"type\":\"contour\",\"colorbar\":{\"outlinewidth\":0,\"ticks\":\"\"},\"colorscale\":[[0.0,\"#0d0887\"],[0.1111111111111111,\"#46039f\"],[0.2222222222222222,\"#7201a8\"],[0.3333333333333333,\"#9c179e\"],[0.4444444444444444,\"#bd3786\"],[0.5555555555555556,\"#d8576b\"],[0.6666666666666666,\"#ed7953\"],[0.7777777777777778,\"#fb9f3a\"],[0.8888888888888888,\"#fdca26\"],[1.0,\"#f0f921\"]]}],\"surface\":[{\"type\":\"surface\",\"colorbar\":{\"outlinewidth\":0,\"ticks\":\"\"},\"colorscale\":[[0.0,\"#0d0887\"],[0.1111111111111111,\"#46039f\"],[0.2222222222222222,\"#7201a8\"],[0.3333333333333333,\"#9c179e\"],[0.4444444444444444,\"#bd3786\"],[0.5555555555555556,\"#d8576b\"],[0.6666666666666666,\"#ed7953\"],[0.7777777777777778,\"#fb9f3a\"],[0.8888888888888888,\"#fdca26\"],[1.0,\"#f0f921\"]]}],\"mesh3d\":[{\"type\":\"mesh3d\",\"colorbar\":{\"outlinewidth\":0,\"ticks\":\"\"}}],\"scatter\":[{\"fillpattern\":{\"fillmode\":\"overlay\",\"size\":10,\"solidity\":0.2},\"type\":\"scatter\"}],\"parcoords\":[{\"type\":\"parcoords\",\"line\":{\"colorbar\":{\"outlinewidth\":0,\"ticks\":\"\"}}}],\"scatterpolargl\":[{\"type\":\"scatterpolargl\",\"marker\":{\"colorbar\":{\"outlinewidth\":0,\"ticks\":\"\"}}}],\"bar\":[{\"error_x\":{\"color\":\"#2a3f5f\"},\"error_y\":{\"color\":\"#2a3f5f\"},\"marker\":{\"line\":{\"color\":\"#E5ECF6\",\"width\":0.5},\"pattern\":{\"fillmode\":\"overlay\",\"size\":10,\"solidity\":0.2}},\"type\":\"bar\"}],\"scattergeo\":[{\"type\":\"scattergeo\",\"marker\":{\"colorbar\":{\"outlinewidth\":0,\"ticks\":\"\"}}}],\"scatterpolar\":[{\"type\":\"scatterpolar\",\"marker\":{\"colorbar\":{\"outlinewidth\":0,\"ticks\":\"\"}}}],\"histogram\":[{\"marker\":{\"pattern\":{\"fillmode\":\"overlay\",\"size\":10,\"solidity\":0.2}},\"type\":\"histogram\"}],\"scattergl\":[{\"type\":\"scattergl\",\"marker\":{\"colorbar\":{\"outlinewidth\":0,\"ticks\":\"\"}}}],\"scatter3d\":[{\"type\":\"scatter3d\",\"line\":{\"colorbar\":{\"outlinewidth\":0,\"ticks\":\"\"}},\"marker\":{\"colorbar\":{\"outlinewidth\":0,\"ticks\":\"\"}}}],\"scattermapbox\":[{\"type\":\"scattermapbox\",\"marker\":{\"colorbar\":{\"outlinewidth\":0,\"ticks\":\"\"}}}],\"scatterternary\":[{\"type\":\"scatterternary\",\"marker\":{\"colorbar\":{\"outlinewidth\":0,\"ticks\":\"\"}}}],\"scattercarpet\":[{\"type\":\"scattercarpet\",\"marker\":{\"colorbar\":{\"outlinewidth\":0,\"ticks\":\"\"}}}],\"carpet\":[{\"aaxis\":{\"endlinecolor\":\"#2a3f5f\",\"gridcolor\":\"white\",\"linecolor\":\"white\",\"minorgridcolor\":\"white\",\"startlinecolor\":\"#2a3f5f\"},\"baxis\":{\"endlinecolor\":\"#2a3f5f\",\"gridcolor\":\"white\",\"linecolor\":\"white\",\"minorgridcolor\":\"white\",\"startlinecolor\":\"#2a3f5f\"},\"type\":\"carpet\"}],\"table\":[{\"cells\":{\"fill\":{\"color\":\"#EBF0F8\"},\"line\":{\"color\":\"white\"}},\"header\":{\"fill\":{\"color\":\"#C8D4E3\"},\"line\":{\"color\":\"white\"}},\"type\":\"table\"}],\"barpolar\":[{\"marker\":{\"line\":{\"color\":\"#E5ECF6\",\"width\":0.5},\"pattern\":{\"fillmode\":\"overlay\",\"size\":10,\"solidity\":0.2}},\"type\":\"barpolar\"}],\"pie\":[{\"automargin\":true,\"type\":\"pie\"}]},\"layout\":{\"autotypenumbers\":\"strict\",\"colorway\":[\"#636efa\",\"#EF553B\",\"#00cc96\",\"#ab63fa\",\"#FFA15A\",\"#19d3f3\",\"#FF6692\",\"#B6E880\",\"#FF97FF\",\"#FECB52\"],\"font\":{\"color\":\"#2a3f5f\"},\"hovermode\":\"closest\",\"hoverlabel\":{\"align\":\"left\"},\"paper_bgcolor\":\"white\",\"plot_bgcolor\":\"#E5ECF6\",\"polar\":{\"bgcolor\":\"#E5ECF6\",\"angularaxis\":{\"gridcolor\":\"white\",\"linecolor\":\"white\",\"ticks\":\"\"},\"radialaxis\":{\"gridcolor\":\"white\",\"linecolor\":\"white\",\"ticks\":\"\"}},\"ternary\":{\"bgcolor\":\"#E5ECF6\",\"aaxis\":{\"gridcolor\":\"white\",\"linecolor\":\"white\",\"ticks\":\"\"},\"baxis\":{\"gridcolor\":\"white\",\"linecolor\":\"white\",\"ticks\":\"\"},\"caxis\":{\"gridcolor\":\"white\",\"linecolor\":\"white\",\"ticks\":\"\"}},\"coloraxis\":{\"colorbar\":{\"outlinewidth\":0,\"ticks\":\"\"}},\"colorscale\":{\"sequential\":[[0.0,\"#0d0887\"],[0.1111111111111111,\"#46039f\"],[0.2222222222222222,\"#7201a8\"],[0.3333333333333333,\"#9c179e\"],[0.4444444444444444,\"#bd3786\"],[0.5555555555555556,\"#d8576b\"],[0.6666666666666666,\"#ed7953\"],[0.7777777777777778,\"#fb9f3a\"],[0.8888888888888888,\"#fdca26\"],[1.0,\"#f0f921\"]],\"sequentialminus\":[[0.0,\"#0d0887\"],[0.1111111111111111,\"#46039f\"],[0.2222222222222222,\"#7201a8\"],[0.3333333333333333,\"#9c179e\"],[0.4444444444444444,\"#bd3786\"],[0.5555555555555556,\"#d8576b\"],[0.6666666666666666,\"#ed7953\"],[0.7777777777777778,\"#fb9f3a\"],[0.8888888888888888,\"#fdca26\"],[1.0,\"#f0f921\"]],\"diverging\":[[0,\"#8e0152\"],[0.1,\"#c51b7d\"],[0.2,\"#de77ae\"],[0.3,\"#f1b6da\"],[0.4,\"#fde0ef\"],[0.5,\"#f7f7f7\"],[0.6,\"#e6f5d0\"],[0.7,\"#b8e186\"],[0.8,\"#7fbc41\"],[0.9,\"#4d9221\"],[1,\"#276419\"]]},\"xaxis\":{\"gridcolor\":\"white\",\"linecolor\":\"white\",\"ticks\":\"\",\"title\":{\"standoff\":15},\"zerolinecolor\":\"white\",\"automargin\":true,\"zerolinewidth\":2},\"yaxis\":{\"gridcolor\":\"white\",\"linecolor\":\"white\",\"ticks\":\"\",\"title\":{\"standoff\":15},\"zerolinecolor\":\"white\",\"automargin\":true,\"zerolinewidth\":2},\"scene\":{\"xaxis\":{\"backgroundcolor\":\"#E5ECF6\",\"gridcolor\":\"white\",\"linecolor\":\"white\",\"showbackground\":true,\"ticks\":\"\",\"zerolinecolor\":\"white\",\"gridwidth\":2},\"yaxis\":{\"backgroundcolor\":\"#E5ECF6\",\"gridcolor\":\"white\",\"linecolor\":\"white\",\"showbackground\":true,\"ticks\":\"\",\"zerolinecolor\":\"white\",\"gridwidth\":2},\"zaxis\":{\"backgroundcolor\":\"#E5ECF6\",\"gridcolor\":\"white\",\"linecolor\":\"white\",\"showbackground\":true,\"ticks\":\"\",\"zerolinecolor\":\"white\",\"gridwidth\":2}},\"shapedefaults\":{\"line\":{\"color\":\"#2a3f5f\"}},\"annotationdefaults\":{\"arrowcolor\":\"#2a3f5f\",\"arrowhead\":0,\"arrowwidth\":1},\"geo\":{\"bgcolor\":\"white\",\"landcolor\":\"#E5ECF6\",\"subunitcolor\":\"white\",\"showland\":true,\"showlakes\":true,\"lakecolor\":\"white\"},\"title\":{\"x\":0.05},\"mapbox\":{\"style\":\"light\"}}},\"xaxis\":{\"anchor\":\"y\",\"domain\":[0.0,1.0],\"title\":{\"text\":\"Username\"},\"categoryorder\":\"array\",\"categoryarray\":[\"tseries\",\"MrBeast\",\"CoComelon\",\"SETIndia\",\"KidsDianaShow\",\"PewDiePie\",\"LikeNastyaofficial\",\"VladandNiki\",\"zeemusiccompany\",\"WWE\",\"BLACKPINK\",\"GoldminesTelefilms\",\"SonySAB\",\"5MinuteCraftsYouTube\",\"BTS\",\"zeetv\",\"HYBELABELS\",\"Pinkfong\",\"ChuChuTV\",\"colorstv\"]},\"yaxis\":{\"anchor\":\"x\",\"domain\":[0.0,1.0],\"title\":{\"text\":\"Suscribers\"}},\"legend\":{\"title\":{\"text\":\"Username\"},\"tracegroupgap\":0},\"title\":{\"text\":\"Analysis of top 20 YouTubers from all over the World on the basis of Subscribers\"},\"barmode\":\"relative\"},                        {\"responsive\": true}                    ).then(function(){\n",
       "                            \n",
       "var gd = document.getElementById('482b23f8-720f-418d-85c6-04f126adda1a');\n",
       "var x = new MutationObserver(function (mutations, observer) {{\n",
       "        var display = window.getComputedStyle(gd).display;\n",
       "        if (!display || display === 'none') {{\n",
       "            console.log([gd, 'removed!']);\n",
       "            Plotly.purge(gd);\n",
       "            observer.disconnect();\n",
       "        }}\n",
       "}});\n",
       "\n",
       "// Listen for the removal of the full notebook cells\n",
       "var notebookContainer = gd.closest('#notebook-container');\n",
       "if (notebookContainer) {{\n",
       "    x.observe(notebookContainer, {childList: true});\n",
       "}}\n",
       "\n",
       "// Listen for the clearing of the current output cell\n",
       "var outputEl = gd.closest('.output');\n",
       "if (outputEl) {{\n",
       "    x.observe(outputEl, {childList: true});\n",
       "}}\n",
       "\n",
       "                        })                };                });            </script>        </div>"
      ]
     },
     "metadata": {},
     "output_type": "display_data"
    }
   ],
   "source": [
    "fig = px.bar(df1, x=\"Username\", y=\"Suscribers\", color=\"Username\", title=\"Analysis of top 20 YouTubers from all over the World on the basis of Subscribers\")\n",
    "fig.show()"
   ]
  },
  {
   "cell_type": "code",
   "execution_count": 58,
   "id": "592b5e52-266c-4576-97c0-b4eb9d3e0f9d",
   "metadata": {},
   "outputs": [
    {
     "data": {
      "text/html": [
       "<div>\n",
       "<style scoped>\n",
       "    .dataframe tbody tr th:only-of-type {\n",
       "        vertical-align: middle;\n",
       "    }\n",
       "\n",
       "    .dataframe tbody tr th {\n",
       "        vertical-align: top;\n",
       "    }\n",
       "\n",
       "    .dataframe thead th {\n",
       "        text-align: right;\n",
       "    }\n",
       "</style>\n",
       "<table border=\"1\" class=\"dataframe\">\n",
       "  <thead>\n",
       "    <tr style=\"text-align: right;\">\n",
       "      <th></th>\n",
       "      <th>Rank</th>\n",
       "      <th>Username</th>\n",
       "      <th>Categories</th>\n",
       "      <th>Suscribers</th>\n",
       "      <th>Country</th>\n",
       "      <th>Likes</th>\n",
       "    </tr>\n",
       "  </thead>\n",
       "  <tbody>\n",
       "    <tr>\n",
       "      <th>0</th>\n",
       "      <td>1</td>\n",
       "      <td>tseries</td>\n",
       "      <td>Música y baile</td>\n",
       "      <td>253500000.0</td>\n",
       "      <td>India</td>\n",
       "      <td>3200.0</td>\n",
       "    </tr>\n",
       "    <tr>\n",
       "      <th>1</th>\n",
       "      <td>2</td>\n",
       "      <td>MrBeast</td>\n",
       "      <td>Videojuegos, Humor</td>\n",
       "      <td>210100000.0</td>\n",
       "      <td>Estados Unidos</td>\n",
       "      <td>5400000.0</td>\n",
       "    </tr>\n",
       "    <tr>\n",
       "      <th>2</th>\n",
       "      <td>3</td>\n",
       "      <td>CoComelon</td>\n",
       "      <td>Educación</td>\n",
       "      <td>168100000.0</td>\n",
       "      <td>Unknown</td>\n",
       "      <td>21600.0</td>\n",
       "    </tr>\n",
       "    <tr>\n",
       "      <th>3</th>\n",
       "      <td>4</td>\n",
       "      <td>SETIndia</td>\n",
       "      <td>Unknow</td>\n",
       "      <td>165400000.0</td>\n",
       "      <td>India</td>\n",
       "      <td>239.0</td>\n",
       "    </tr>\n",
       "    <tr>\n",
       "      <th>4</th>\n",
       "      <td>5</td>\n",
       "      <td>KidsDianaShow</td>\n",
       "      <td>Animación, Juguetes</td>\n",
       "      <td>116500000.0</td>\n",
       "      <td>Unknown</td>\n",
       "      <td>8800.0</td>\n",
       "    </tr>\n",
       "  </tbody>\n",
       "</table>\n",
       "</div>"
      ],
      "text/plain": [
       "   Rank       Username           Categories   Suscribers         Country  \\\n",
       "0     1        tseries       Música y baile  253500000.0           India   \n",
       "1     2        MrBeast   Videojuegos, Humor  210100000.0  Estados Unidos   \n",
       "2     3      CoComelon            Educación  168100000.0         Unknown   \n",
       "3     4       SETIndia               Unknow  165400000.0           India   \n",
       "4     5  KidsDianaShow  Animación, Juguetes  116500000.0         Unknown   \n",
       "\n",
       "       Likes  \n",
       "0     3200.0  \n",
       "1  5400000.0  \n",
       "2    21600.0  \n",
       "3      239.0  \n",
       "4     8800.0  "
      ]
     },
     "execution_count": 58,
     "metadata": {},
     "output_type": "execute_result"
    }
   ],
   "source": [
    "df1.head()"
   ]
  },
  {
   "cell_type": "code",
   "execution_count": 59,
   "id": "b8cf28dd-7cec-4942-845b-dcbbb1f00983",
   "metadata": {},
   "outputs": [
    {
     "data": {
      "text/html": [
       "<div>\n",
       "<style scoped>\n",
       "    .dataframe tbody tr th:only-of-type {\n",
       "        vertical-align: middle;\n",
       "    }\n",
       "\n",
       "    .dataframe tbody tr th {\n",
       "        vertical-align: top;\n",
       "    }\n",
       "\n",
       "    .dataframe thead th {\n",
       "        text-align: right;\n",
       "    }\n",
       "</style>\n",
       "<table border=\"1\" class=\"dataframe\">\n",
       "  <thead>\n",
       "    <tr style=\"text-align: right;\">\n",
       "      <th></th>\n",
       "      <th>Rank</th>\n",
       "      <th>Suscribers</th>\n",
       "      <th>Likes</th>\n",
       "    </tr>\n",
       "  </thead>\n",
       "  <tbody>\n",
       "    <tr>\n",
       "      <th>count</th>\n",
       "      <td>20.00000</td>\n",
       "      <td>2.000000e+01</td>\n",
       "      <td>2.000000e+01</td>\n",
       "    </tr>\n",
       "    <tr>\n",
       "      <th>mean</th>\n",
       "      <td>10.50000</td>\n",
       "      <td>1.113650e+08</td>\n",
       "      <td>3.032220e+05</td>\n",
       "    </tr>\n",
       "    <tr>\n",
       "      <th>std</th>\n",
       "      <td>5.91608</td>\n",
       "      <td>5.020961e+07</td>\n",
       "      <td>1.201296e+06</td>\n",
       "    </tr>\n",
       "    <tr>\n",
       "      <th>min</th>\n",
       "      <td>1.00000</td>\n",
       "      <td>6.870000e+07</td>\n",
       "      <td>1.340000e+02</td>\n",
       "    </tr>\n",
       "    <tr>\n",
       "      <th>25%</th>\n",
       "      <td>5.75000</td>\n",
       "      <td>7.642500e+07</td>\n",
       "      <td>5.122500e+02</td>\n",
       "    </tr>\n",
       "    <tr>\n",
       "      <th>50%</th>\n",
       "      <td>10.50000</td>\n",
       "      <td>9.515000e+07</td>\n",
       "      <td>6.700000e+03</td>\n",
       "    </tr>\n",
       "    <tr>\n",
       "      <th>75%</th>\n",
       "      <td>15.25000</td>\n",
       "      <td>1.126750e+08</td>\n",
       "      <td>2.800000e+04</td>\n",
       "    </tr>\n",
       "    <tr>\n",
       "      <th>max</th>\n",
       "      <td>20.00000</td>\n",
       "      <td>2.535000e+08</td>\n",
       "      <td>5.400000e+06</td>\n",
       "    </tr>\n",
       "  </tbody>\n",
       "</table>\n",
       "</div>"
      ],
      "text/plain": [
       "           Rank    Suscribers         Likes\n",
       "count  20.00000  2.000000e+01  2.000000e+01\n",
       "mean   10.50000  1.113650e+08  3.032220e+05\n",
       "std     5.91608  5.020961e+07  1.201296e+06\n",
       "min     1.00000  6.870000e+07  1.340000e+02\n",
       "25%     5.75000  7.642500e+07  5.122500e+02\n",
       "50%    10.50000  9.515000e+07  6.700000e+03\n",
       "75%    15.25000  1.126750e+08  2.800000e+04\n",
       "max    20.00000  2.535000e+08  5.400000e+06"
      ]
     },
     "execution_count": 59,
     "metadata": {},
     "output_type": "execute_result"
    }
   ],
   "source": [
    "df1.describe()"
   ]
  },
  {
   "cell_type": "code",
   "execution_count": 60,
   "id": "98317cb1-4567-4756-8a10-4eded8b17d7e",
   "metadata": {},
   "outputs": [
    {
     "name": "stdout",
     "output_type": "stream",
     "text": [
      "<class 'pandas.core.frame.DataFrame'>\n",
      "RangeIndex: 20 entries, 0 to 19\n",
      "Data columns (total 6 columns):\n",
      " #   Column      Non-Null Count  Dtype  \n",
      "---  ------      --------------  -----  \n",
      " 0   Rank        20 non-null     int32  \n",
      " 1   Username    20 non-null     object \n",
      " 2   Categories  20 non-null     object \n",
      " 3   Suscribers  20 non-null     float64\n",
      " 4   Country     20 non-null     object \n",
      " 5   Likes       20 non-null     float64\n",
      "dtypes: float64(2), int32(1), object(3)\n",
      "memory usage: 1012.0+ bytes\n"
     ]
    }
   ],
   "source": [
    "df1.info()"
   ]
  },
  {
   "cell_type": "code",
   "execution_count": 61,
   "id": "f7450d7f-b613-472d-a8fe-2cfa724f578c",
   "metadata": {},
   "outputs": [
    {
     "name": "stdout",
     "output_type": "stream",
     "text": [
      "Name: plotly\n",
      "Version: 5.18.0\n",
      "Summary: An open-source, interactive data visualization library for Python\n",
      "Home-page: https://plotly.com/python/\n",
      "Author: Chris P\n",
      "Author-email: chris@plot.ly\n",
      "License: MIT\n",
      "Location: C:\\Users\\20111\\Desktop\\datascience\\.cariolab\\Lib\\site-packages\n",
      "Requires: packaging, tenacity\n",
      "Required-by: \n",
      "Note: you may need to restart the kernel to use updated packages.\n"
     ]
    }
   ],
   "source": [
    "pip show plotly"
   ]
  },
  {
   "cell_type": "code",
   "execution_count": 5,
   "id": "6da09f5a-1379-4cbd-8cc1-24847ec4eb23",
   "metadata": {},
   "outputs": [
    {
     "ename": "NameError",
     "evalue": "name 'df1' is not defined",
     "output_type": "error",
     "traceback": [
      "\u001b[1;31m---------------------------------------------------------------------------\u001b[0m",
      "\u001b[1;31mNameError\u001b[0m                                 Traceback (most recent call last)",
      "Cell \u001b[1;32mIn[5], line 1\u001b[0m\n\u001b[1;32m----> 1\u001b[0m fig \u001b[38;5;241m=\u001b[39m px\u001b[38;5;241m.\u001b[39mbar(\u001b[43mdf1\u001b[49m, x\u001b[38;5;241m=\u001b[39m\u001b[38;5;124m\"\u001b[39m\u001b[38;5;124mUsername\u001b[39m\u001b[38;5;124m\"\u001b[39m, y\u001b[38;5;241m=\u001b[39m\u001b[38;5;124m\"\u001b[39m\u001b[38;5;124mSuscribers\u001b[39m\u001b[38;5;124m\"\u001b[39m, color\u001b[38;5;241m=\u001b[39m\u001b[38;5;124m\"\u001b[39m\u001b[38;5;124mUsername\u001b[39m\u001b[38;5;124m\"\u001b[39m, title\u001b[38;5;241m=\u001b[39m\u001b[38;5;124m\"\u001b[39m\u001b[38;5;124mAnalysis of top 20 YouTubers from all over the World on the basis of Subscribers\u001b[39m\u001b[38;5;124m\"\u001b[39m)\n\u001b[0;32m      2\u001b[0m fig\u001b[38;5;241m.\u001b[39mshow()\n",
      "\u001b[1;31mNameError\u001b[0m: name 'df1' is not defined"
     ]
    }
   ],
   "source": [
    "fig = px.bar(df1, x=\"Username\", y=\"Suscribers\", color=\"Username\", title=\"Analysis of top 20 YouTubers from all over the World on the basis of Subscribers\")\n",
    "fig.show()\n"
   ]
  },
  {
   "cell_type": "code",
   "execution_count": 6,
   "id": "d68048ce-8419-4187-975e-e19d1e708d25",
   "metadata": {},
   "outputs": [
    {
     "ename": "NameError",
     "evalue": "name 'df1' is not defined",
     "output_type": "error",
     "traceback": [
      "\u001b[1;31m---------------------------------------------------------------------------\u001b[0m",
      "\u001b[1;31mNameError\u001b[0m                                 Traceback (most recent call last)",
      "Cell \u001b[1;32mIn[6], line 1\u001b[0m\n\u001b[1;32m----> 1\u001b[0m \u001b[43mdf1\u001b[49m\n",
      "\u001b[1;31mNameError\u001b[0m: name 'df1' is not defined"
     ]
    }
   ],
   "source": [
    "df1"
   ]
  },
  {
   "cell_type": "code",
   "execution_count": 7,
   "id": "6dcab724-e83c-4c34-ab64-a2b9fb2dfc3e",
   "metadata": {},
   "outputs": [
    {
     "ename": "NameError",
     "evalue": "name 'df' is not defined",
     "output_type": "error",
     "traceback": [
      "\u001b[1;31m---------------------------------------------------------------------------\u001b[0m",
      "\u001b[1;31mNameError\u001b[0m                                 Traceback (most recent call last)",
      "Cell \u001b[1;32mIn[7], line 1\u001b[0m\n\u001b[1;32m----> 1\u001b[0m \u001b[43mdf\u001b[49m\u001b[38;5;241m.\u001b[39mhead()\n",
      "\u001b[1;31mNameError\u001b[0m: name 'df' is not defined"
     ]
    }
   ],
   "source": [
    "df.head()"
   ]
  },
  {
   "cell_type": "code",
   "execution_count": 8,
   "id": "8c87fbb4-9bd3-4cd6-b2f9-bc52570e8ab9",
   "metadata": {},
   "outputs": [
    {
     "ename": "NameError",
     "evalue": "name 'df' is not defined",
     "output_type": "error",
     "traceback": [
      "\u001b[1;31m---------------------------------------------------------------------------\u001b[0m",
      "\u001b[1;31mNameError\u001b[0m                                 Traceback (most recent call last)",
      "Cell \u001b[1;32mIn[8], line 1\u001b[0m\n\u001b[1;32m----> 1\u001b[0m \u001b[43mdf\u001b[49m\n",
      "\u001b[1;31mNameError\u001b[0m: name 'df' is not defined"
     ]
    }
   ],
   "source": [
    "df"
   ]
  },
  {
   "cell_type": "code",
   "execution_count": null,
   "id": "34454ad8-b20c-47cf-b2f5-def160224d0e",
   "metadata": {},
   "outputs": [],
   "source": []
  }
 ],
 "metadata": {
  "kernelspec": {
   "display_name": "Python (.cairolab)",
   "language": "python",
   "name": ".cairolab"
  },
  "language_info": {
   "codemirror_mode": {
    "name": "ipython",
    "version": 3
   },
   "file_extension": ".py",
   "mimetype": "text/x-python",
   "name": "python",
   "nbconvert_exporter": "python",
   "pygments_lexer": "ipython3",
   "version": "3.11.2"
  }
 },
 "nbformat": 4,
 "nbformat_minor": 5
}
