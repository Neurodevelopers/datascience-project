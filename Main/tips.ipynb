{
 "cells": [
  {
   "cell_type": "markdown",
   "id": "ba7b5252-8ca6-4aee-8b9f-a05fe012ec95",
   "metadata": {},
   "source": [
    "# Create Twitter API \n",
    "https://developer.twitter.com/en"
   ]
  },
  {
   "cell_type": "code",
   "execution_count": null,
   "id": "e6503d57-0c78-4b24-bd2a-91d724c3b9ae",
   "metadata": {},
   "outputs": [],
   "source": []
  }
 ],
 "metadata": {
  "kernelspec": {
   "display_name": "Python (.cairolab)",
   "language": "python",
   "name": ".cairolab"
  },
  "language_info": {
   "codemirror_mode": {
    "name": "ipython",
    "version": 3
   },
   "file_extension": ".py",
   "mimetype": "text/x-python",
   "name": "python",
   "nbconvert_exporter": "python",
   "pygments_lexer": "ipython3",
   "version": "3.11.2"
  }
 },
 "nbformat": 4,
 "nbformat_minor": 5
}
