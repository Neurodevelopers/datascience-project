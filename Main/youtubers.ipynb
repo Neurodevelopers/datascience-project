{
 "cells": [
  {
   "cell_type": "code",
   "execution_count": 3,
   "id": "88043364-c872-46f1-92a3-3a16f10ed4bc",
   "metadata": {},
   "outputs": [],
   "source": [
    "import pandas as pd  # Pandas: توفر هياكل بيانات وأدوات تحليل البيانات (مثل DataFrame).\n",
    "import numpy as np   # NumPy: يدعم المصفوفات والماتريكس متعددة الأبعاد والكبيرة، مع الوظائف الرياضية للتعامل مع هذه المصفوفات.\n",
    "import matplotlib.pyplot as plt  # Matplotlib: مكتبة رسم بياني لإنشاء رسومات ثابتة وتفاعلية ومتحركة في Python.\n",
    "import seaborn as sns  # Seaborn: تعتمد على Matplotlib وتوفر واجهة عالية المستوى لرسم رسوم بيانية إحصائية جذابة ومعلوماتية.\n"
   ]
  },
  {
   "cell_type": "code",
   "execution_count": 8,
   "id": "992f0256-e6ab-4697-acff-1bcf00b4ed5d",
   "metadata": {},
   "outputs": [],
   "source": [
    "data = pd.read_csv(\"youtubers_df.csv\")"
   ]
  },
  {
   "cell_type": "code",
   "execution_count": 9,
   "id": "a7214f5b-9a09-4249-bc5e-72ba71201710",
   "metadata": {},
   "outputs": [
    {
     "data": {
      "text/html": [
       "<div>\n",
       "<style scoped>\n",
       "    .dataframe tbody tr th:only-of-type {\n",
       "        vertical-align: middle;\n",
       "    }\n",
       "\n",
       "    .dataframe tbody tr th {\n",
       "        vertical-align: top;\n",
       "    }\n",
       "\n",
       "    .dataframe thead th {\n",
       "        text-align: right;\n",
       "    }\n",
       "</style>\n",
       "<table border=\"1\" class=\"dataframe\">\n",
       "  <thead>\n",
       "    <tr style=\"text-align: right;\">\n",
       "      <th></th>\n",
       "      <th>Rank</th>\n",
       "      <th>Username</th>\n",
       "      <th>Categories</th>\n",
       "      <th>Suscribers</th>\n",
       "      <th>Country</th>\n",
       "      <th>Visits</th>\n",
       "      <th>Likes</th>\n",
       "      <th>Comments</th>\n",
       "      <th>Links</th>\n",
       "    </tr>\n",
       "  </thead>\n",
       "  <tbody>\n",
       "    <tr>\n",
       "      <th>0</th>\n",
       "      <td>1</td>\n",
       "      <td>tseries</td>\n",
       "      <td>Música y baile</td>\n",
       "      <td>253500000.0</td>\n",
       "      <td>India</td>\n",
       "      <td>111300.0</td>\n",
       "      <td>3200.0</td>\n",
       "      <td>120.0</td>\n",
       "      <td>http://youtube.com/channel/UCq-Fj5jknLsUf-MWSy...</td>\n",
       "    </tr>\n",
       "    <tr>\n",
       "      <th>1</th>\n",
       "      <td>2</td>\n",
       "      <td>MrBeast</td>\n",
       "      <td>Videojuegos, Humor</td>\n",
       "      <td>210100000.0</td>\n",
       "      <td>Estados Unidos</td>\n",
       "      <td>95400000.0</td>\n",
       "      <td>5400000.0</td>\n",
       "      <td>16600.0</td>\n",
       "      <td>http://youtube.com/channel/UCX6OQ3DkcsbYNE6H8u...</td>\n",
       "    </tr>\n",
       "    <tr>\n",
       "      <th>2</th>\n",
       "      <td>3</td>\n",
       "      <td>CoComelon</td>\n",
       "      <td>Educación</td>\n",
       "      <td>168100000.0</td>\n",
       "      <td>Unknown</td>\n",
       "      <td>4100000.0</td>\n",
       "      <td>21600.0</td>\n",
       "      <td>0.0</td>\n",
       "      <td>http://youtube.com/channel/UCbCmjCuTUZos6Inko4...</td>\n",
       "    </tr>\n",
       "    <tr>\n",
       "      <th>3</th>\n",
       "      <td>4</td>\n",
       "      <td>SETIndia</td>\n",
       "      <td>NaN</td>\n",
       "      <td>165400000.0</td>\n",
       "      <td>India</td>\n",
       "      <td>23300.0</td>\n",
       "      <td>239.0</td>\n",
       "      <td>9.0</td>\n",
       "      <td>http://youtube.com/channel/UCpEhnqL0y41EpW2TvW...</td>\n",
       "    </tr>\n",
       "    <tr>\n",
       "      <th>4</th>\n",
       "      <td>5</td>\n",
       "      <td>KidsDianaShow</td>\n",
       "      <td>Animación, Juguetes</td>\n",
       "      <td>116500000.0</td>\n",
       "      <td>Unknown</td>\n",
       "      <td>4100000.0</td>\n",
       "      <td>8800.0</td>\n",
       "      <td>0.0</td>\n",
       "      <td>http://youtube.com/channel/UCk8GzjMOrta8yxDcKf...</td>\n",
       "    </tr>\n",
       "  </tbody>\n",
       "</table>\n",
       "</div>"
      ],
      "text/plain": [
       "  Rank       Username           Categories   Suscribers         Country  \\\n",
       "0    1        tseries       Música y baile  253500000.0           India   \n",
       "1    2        MrBeast   Videojuegos, Humor  210100000.0  Estados Unidos   \n",
       "2    3      CoComelon            Educación  168100000.0         Unknown   \n",
       "3    4       SETIndia                  NaN  165400000.0           India   \n",
       "4    5  KidsDianaShow  Animación, Juguetes  116500000.0         Unknown   \n",
       "\n",
       "       Visits      Likes  Comments  \\\n",
       "0    111300.0     3200.0     120.0   \n",
       "1  95400000.0  5400000.0   16600.0   \n",
       "2   4100000.0    21600.0       0.0   \n",
       "3     23300.0      239.0       9.0   \n",
       "4   4100000.0     8800.0       0.0   \n",
       "\n",
       "                                               Links  \n",
       "0  http://youtube.com/channel/UCq-Fj5jknLsUf-MWSy...  \n",
       "1  http://youtube.com/channel/UCX6OQ3DkcsbYNE6H8u...  \n",
       "2  http://youtube.com/channel/UCbCmjCuTUZos6Inko4...  \n",
       "3  http://youtube.com/channel/UCpEhnqL0y41EpW2TvW...  \n",
       "4  http://youtube.com/channel/UCk8GzjMOrta8yxDcKf...  "
      ]
     },
     "execution_count": 9,
     "metadata": {},
     "output_type": "execute_result"
    }
   ],
   "source": [
    "# عرض أول 5 صفوف من DataFrame 'data' للحصول على نظرة عامة على هيكل ومحتويات مجموعة البيانات.\n",
    "data.head()\n"
   ]
  },
  {
   "cell_type": "markdown",
   "id": "b7b2bc84-4185-4f51-b93a-15b1e4497392",
   "metadata": {},
   "source": [
    "# Data Cleaning"
   ]
  },
  {
   "cell_type": "code",
   "execution_count": 10,
   "id": "a7f4ba13-209e-4ea1-a58a-7a38eca3fec6",
   "metadata": {},
   "outputs": [
    {
     "data": {
      "text/plain": [
       "Rank            0\n",
       "Username        0\n",
       "Categories    324\n",
       "Suscribers      0\n",
       "Country         0\n",
       "Visits          0\n",
       "Likes           0\n",
       "Comments        0\n",
       "Links           0\n",
       "dtype: int64"
      ]
     },
     "execution_count": 10,
     "metadata": {},
     "output_type": "execute_result"
    }
   ],
   "source": [
    "# احسب وعرض عدد القيم المفقودة في كل عمود من DataFrame 'data'.\n",
    "data.isnull().sum()\n"
   ]
  },
  {
   "cell_type": "markdown",
   "id": "21766b80-3ded-4055-846d-97a8f74e48e2",
   "metadata": {},
   "source": [
    "### 1. تحليل عمود 'الفئات'\r\n",
    "- **فهم طبيعة عمود 'الفئات'**: هل هي بيانات تصنيفية؟ هل الفئات ضرورية لتحليلك؟\r\n",
    "- **تحديد سبب القيم المفقودة**: هل هي مفقودة فعلاً، أم أنها مُشفرة بطريقة ما (مثلاً، ممثلة كفراغات، 'NaN'، 'None'، إلخ.)؟\r\n",
    "؟\r\n"
   ]
  },
  {
   "cell_type": "markdown",
   "id": "177f9f78-cc86-437d-a24b-7d601c5176db",
   "metadata": {},
   "source": [
    "### 2. اتخاذ قرار بشأن استراتيجية للتعامل مع البيانات المفقودة\n",
    "- **الخيار أ: إزالة الصفوف التي تحتوي على 'فئات' مفقودة**: إذا كان عدد القيم المفقودة ليس كبيرًا بالمقارنة مع حجم مجموعة البيانات بأكملها وإذا كانت هذه القيم ليست حاسمة، فيمكنك إزالة هذه الصفوف.\n"
   ]
  },
  {
   "cell_type": "markdown",
   "id": "fe08098d-f060-4f9b-aed3-141168f702d0",
   "metadata": {},
   "source": [
    "### الخيار ب: ملء القيم المفقودة\n",
    "- إذا كانت 'الفئات' مهمة، ففكر في ملء القيم المفقودة:\n",
    "  - باستخدام قيمة عنصر نائب مثل 'غير معروف' أو 'أخرى'.\n",
    "  - استنادًا إلى اتجاهات البيانات الأخرى (مثل أكثر الفئات شيوعًا، أو استخدام نموذج للتنبؤ بالفئة المفقودة).\n"
   ]
  },
  {
   "cell_type": "markdown",
   "id": "c216dbb5-d4ba-472a-8ba9-7640f0af016e",
   "metadata": {},
   "source": [
    "# Practice"
   ]
  },
  {
   "cell_type": "code",
   "execution_count": 13,
   "id": "afdee0ce-793d-4223-9385-1d8d16916586",
   "metadata": {},
   "outputs": [
    {
     "data": {
      "text/html": [
       "<div>\n",
       "<style scoped>\n",
       "    .dataframe tbody tr th:only-of-type {\n",
       "        vertical-align: middle;\n",
       "    }\n",
       "\n",
       "    .dataframe tbody tr th {\n",
       "        vertical-align: top;\n",
       "    }\n",
       "\n",
       "    .dataframe thead th {\n",
       "        text-align: right;\n",
       "    }\n",
       "</style>\n",
       "<table border=\"1\" class=\"dataframe\">\n",
       "  <thead>\n",
       "    <tr style=\"text-align: right;\">\n",
       "      <th></th>\n",
       "      <th>Suscribers</th>\n",
       "      <th>Visits</th>\n",
       "      <th>Likes</th>\n",
       "      <th>Comments</th>\n",
       "    </tr>\n",
       "  </thead>\n",
       "  <tbody>\n",
       "    <tr>\n",
       "      <th>count</th>\n",
       "      <td>1.000000e+03</td>\n",
       "      <td>1.000000e+03</td>\n",
       "      <td>1.000000e+03</td>\n",
       "      <td>1000.000000</td>\n",
       "    </tr>\n",
       "    <tr>\n",
       "      <th>mean</th>\n",
       "      <td>2.260980e+07</td>\n",
       "      <td>1.063825e+06</td>\n",
       "      <td>4.917148e+04</td>\n",
       "      <td>1866.295000</td>\n",
       "    </tr>\n",
       "    <tr>\n",
       "      <th>std</th>\n",
       "      <td>1.733998e+07</td>\n",
       "      <td>3.729356e+06</td>\n",
       "      <td>2.107156e+05</td>\n",
       "      <td>20503.291953</td>\n",
       "    </tr>\n",
       "    <tr>\n",
       "      <th>min</th>\n",
       "      <td>1.230000e+07</td>\n",
       "      <td>0.000000e+00</td>\n",
       "      <td>0.000000e+00</td>\n",
       "      <td>0.000000</td>\n",
       "    </tr>\n",
       "    <tr>\n",
       "      <th>25%</th>\n",
       "      <td>1.430000e+07</td>\n",
       "      <td>3.310000e+04</td>\n",
       "      <td>4.792500e+02</td>\n",
       "      <td>3.000000</td>\n",
       "    </tr>\n",
       "    <tr>\n",
       "      <th>50%</th>\n",
       "      <td>1.730000e+07</td>\n",
       "      <td>1.932000e+05</td>\n",
       "      <td>3.400000e+03</td>\n",
       "      <td>70.000000</td>\n",
       "    </tr>\n",
       "    <tr>\n",
       "      <th>75%</th>\n",
       "      <td>2.442500e+07</td>\n",
       "      <td>8.844500e+05</td>\n",
       "      <td>3.080000e+04</td>\n",
       "      <td>458.250000</td>\n",
       "    </tr>\n",
       "    <tr>\n",
       "      <th>max</th>\n",
       "      <td>2.535000e+08</td>\n",
       "      <td>9.540000e+07</td>\n",
       "      <td>5.400000e+06</td>\n",
       "      <td>532000.000000</td>\n",
       "    </tr>\n",
       "  </tbody>\n",
       "</table>\n",
       "</div>"
      ],
      "text/plain": [
       "         Suscribers        Visits         Likes       Comments\n",
       "count  1.000000e+03  1.000000e+03  1.000000e+03    1000.000000\n",
       "mean   2.260980e+07  1.063825e+06  4.917148e+04    1866.295000\n",
       "std    1.733998e+07  3.729356e+06  2.107156e+05   20503.291953\n",
       "min    1.230000e+07  0.000000e+00  0.000000e+00       0.000000\n",
       "25%    1.430000e+07  3.310000e+04  4.792500e+02       3.000000\n",
       "50%    1.730000e+07  1.932000e+05  3.400000e+03      70.000000\n",
       "75%    2.442500e+07  8.844500e+05  3.080000e+04     458.250000\n",
       "max    2.535000e+08  9.540000e+07  5.400000e+06  532000.000000"
      ]
     },
     "execution_count": 13,
     "metadata": {},
     "output_type": "execute_result"
    }
   ],
   "source": [
    "data.describe()"
   ]
  },
  {
   "cell_type": "code",
   "execution_count": 14,
   "id": "ddddbe6e-0e2c-43e8-b66a-ce4a11cd4575",
   "metadata": {},
   "outputs": [
    {
     "name": "stdout",
     "output_type": "stream",
     "text": [
      "The DataFrame has 1000 rows and 9 columns.\n"
     ]
    }
   ],
   "source": [
    "rows, columns = data.shape\n",
    "print(f\"The DataFrame has {rows} rows and {columns} columns.\")"
   ]
  },
  {
   "cell_type": "code",
   "execution_count": 15,
   "id": "124bf23a-0955-4001-a45f-aba757eee86c",
   "metadata": {},
   "outputs": [
    {
     "name": "stdout",
     "output_type": "stream",
     "text": [
      "The DataFrame has 1000 rows.\n"
     ]
    }
   ],
   "source": [
    "number_of_rows = len(data)\n",
    "print(f\"The DataFrame has {number_of_rows} rows.\")"
   ]
  },
  {
   "cell_type": "code",
   "execution_count": 16,
   "id": "02c1ca06-6f1f-4219-be23-4c715b624977",
   "metadata": {},
   "outputs": [
    {
     "name": "stdout",
     "output_type": "stream",
     "text": [
      "<class 'pandas.core.frame.DataFrame'>\n",
      "RangeIndex: 1000 entries, 0 to 999\n",
      "Data columns (total 9 columns):\n",
      " #   Column      Non-Null Count  Dtype  \n",
      "---  ------      --------------  -----  \n",
      " 0   Rank        1000 non-null   object \n",
      " 1   Username    1000 non-null   object \n",
      " 2   Categories  676 non-null    object \n",
      " 3   Suscribers  1000 non-null   float64\n",
      " 4   Country     1000 non-null   object \n",
      " 5   Visits      1000 non-null   float64\n",
      " 6   Likes       1000 non-null   float64\n",
      " 7   Comments    1000 non-null   float64\n",
      " 8   Links       1000 non-null   object \n",
      "dtypes: float64(4), object(5)\n",
      "memory usage: 70.4+ KB\n"
     ]
    }
   ],
   "source": [
    "data.info()"
   ]
  },
  {
   "cell_type": "markdown",
   "id": "7a5d6dc2-0fae-4f32-b175-e75a75d0c08c",
   "metadata": {},
   "source": [
    "# Option A: Fill missing 'Categories' with 'Unknown'\n",
    "data['Categories'].fillna('Unknown', inplace=True)\n"
   ]
  },
  {
   "cell_type": "code",
   "execution_count": 17,
   "id": "da210b5c-b6d3-430b-8df0-f65d0b95483f",
   "metadata": {},
   "outputs": [],
   "source": [
    "# Option A: Remove rows with missing 'Categories'\n",
    "data = data.dropna(subset=['Categories'])\n"
   ]
  },
  {
   "cell_type": "code",
   "execution_count": 19,
   "id": "d27648ac-85fa-4ded-9faa-ddf3045a642f",
   "metadata": {},
   "outputs": [
    {
     "name": "stdout",
     "output_type": "stream",
     "text": [
      "<class 'pandas.core.frame.DataFrame'>\n",
      "Index: 676 entries, 0 to 999\n",
      "Data columns (total 9 columns):\n",
      " #   Column      Non-Null Count  Dtype  \n",
      "---  ------      --------------  -----  \n",
      " 0   Rank        676 non-null    object \n",
      " 1   Username    676 non-null    object \n",
      " 2   Categories  676 non-null    object \n",
      " 3   Suscribers  676 non-null    float64\n",
      " 4   Country     676 non-null    object \n",
      " 5   Visits      676 non-null    float64\n",
      " 6   Likes       676 non-null    float64\n",
      " 7   Comments    676 non-null    float64\n",
      " 8   Links       676 non-null    object \n",
      "dtypes: float64(4), object(5)\n",
      "memory usage: 52.8+ KB\n"
     ]
    }
   ],
   "source": [
    "data.info()"
   ]
  },
  {
   "cell_type": "code",
   "execution_count": 22,
   "id": "5c042ff0-fc73-4446-abd4-9247051584c4",
   "metadata": {},
   "outputs": [],
   "source": [
    "data.loc[:, 'Rank'] = pd.to_numeric(data['Rank'], errors='coerce')\n"
   ]
  },
  {
   "cell_type": "code",
   "execution_count": 24,
   "id": "32bd9747-f110-4e68-9c5d-e4fa772a28e0",
   "metadata": {},
   "outputs": [
    {
     "name": "stderr",
     "output_type": "stream",
     "text": [
      "C:\\Users\\20111\\AppData\\Local\\Temp\\ipykernel_38960\\2282015914.py:1: SettingWithCopyWarning: \n",
      "A value is trying to be set on a copy of a slice from a DataFrame\n",
      "\n",
      "See the caveats in the documentation: https://pandas.pydata.org/pandas-docs/stable/user_guide/indexing.html#returning-a-view-versus-a-copy\n",
      "  data.drop_duplicates(inplace=True)\n"
     ]
    }
   ],
   "source": [
    "data.drop_duplicates(inplace=True)"
   ]
  },
  {
   "cell_type": "code",
   "execution_count": 25,
   "id": "993f9681-e1f0-4e7b-ac1d-e661c50b46f7",
   "metadata": {},
   "outputs": [
    {
     "name": "stderr",
     "output_type": "stream",
     "text": [
      "C:\\Users\\20111\\AppData\\Local\\Temp\\ipykernel_38960\\2282015914.py:1: SettingWithCopyWarning: \n",
      "A value is trying to be set on a copy of a slice from a DataFrame\n",
      "\n",
      "See the caveats in the documentation: https://pandas.pydata.org/pandas-docs/stable/user_guide/indexing.html#returning-a-view-versus-a-copy\n",
      "  data.drop_duplicates(inplace=True)\n"
     ]
    }
   ],
   "source": [
    "data.drop_duplicates(inplace=True)"
   ]
  },
  {
   "cell_type": "code",
   "execution_count": 26,
   "id": "27e10ca7-30bd-49b8-9b78-0185bba97da8",
   "metadata": {},
   "outputs": [
    {
     "name": "stderr",
     "output_type": "stream",
     "text": [
      "C:\\Users\\20111\\AppData\\Local\\Temp\\ipykernel_38960\\3261567408.py:1: SettingWithCopyWarning: \n",
      "A value is trying to be set on a copy of a slice from a DataFrame\n",
      "\n",
      "See the caveats in the documentation: https://pandas.pydata.org/pandas-docs/stable/user_guide/indexing.html#returning-a-view-versus-a-copy\n",
      "  data.drop_duplicates(inplace=True, ignore_index=True)\n"
     ]
    }
   ],
   "source": [
    "data.drop_duplicates(inplace=True, ignore_index=True)"
   ]
  },
  {
   "cell_type": "code",
   "execution_count": 27,
   "id": "72e8fe8d-aa91-4c28-9ef5-178f815349c9",
   "metadata": {},
   "outputs": [
    {
     "name": "stderr",
     "output_type": "stream",
     "text": [
      "C:\\Users\\20111\\AppData\\Local\\Temp\\ipykernel_38960\\3260154609.py:1: SettingWithCopyWarning: \n",
      "A value is trying to be set on a copy of a slice from a DataFrame\n",
      "\n",
      "See the caveats in the documentation: https://pandas.pydata.org/pandas-docs/stable/user_guide/indexing.html#returning-a-view-versus-a-copy\n",
      "  data.drop_duplicates(inplace=True, ignore_index=True)\n"
     ]
    }
   ],
   "source": [
    "data.drop_duplicates(inplace=True, ignore_index=True)\n"
   ]
  },
  {
   "cell_type": "code",
   "execution_count": 28,
   "id": "0b201b45-e724-4a61-a03b-f9ccbf4e06e0",
   "metadata": {},
   "outputs": [],
   "source": [
    "data = data.loc[~data.duplicated(keep='first'), :].reset_index(drop=True)\n"
   ]
  },
  {
   "cell_type": "code",
   "execution_count": 29,
   "id": "f417f97e-b230-48a9-9d6b-dc015b28c0e8",
   "metadata": {},
   "outputs": [],
   "source": [
    "data['Country'] = data['Country'].str.strip()"
   ]
  },
  {
   "cell_type": "code",
   "execution_count": 30,
   "id": "52baf9a1-71be-48ad-b141-d6e60ccc8f73",
   "metadata": {},
   "outputs": [],
   "source": [
    "data['Suscribers'] = data['Suscribers'].astype(int)\n",
    "data['Visits'] = data['Visits'].astype(int)\n",
    "data['Likes'] = data['Likes'].astype(int)\n",
    "data['Comments'] = data['Comments'].astype(int)\n"
   ]
  },
  {
   "cell_type": "code",
   "execution_count": 31,
   "id": "5fb4a33f-c131-4f85-92f7-3d7ab9a32f1f",
   "metadata": {},
   "outputs": [],
   "source": [
    "data.to_csv('cleaned_data.csv', index=False)"
   ]
  },
  {
   "cell_type": "code",
   "execution_count": 32,
   "id": "8bc1924d-e21f-4e80-9ea0-2d300db6a5bc",
   "metadata": {},
   "outputs": [],
   "source": [
    "df = pd.read_csv('cleaned_data.csv')"
   ]
  },
  {
   "cell_type": "code",
   "execution_count": 33,
   "id": "53f7c33b-a9c7-40f3-89bf-f581b020017d",
   "metadata": {},
   "outputs": [
    {
     "data": {
      "text/html": [
       "<div>\n",
       "<style scoped>\n",
       "    .dataframe tbody tr th:only-of-type {\n",
       "        vertical-align: middle;\n",
       "    }\n",
       "\n",
       "    .dataframe tbody tr th {\n",
       "        vertical-align: top;\n",
       "    }\n",
       "\n",
       "    .dataframe thead th {\n",
       "        text-align: right;\n",
       "    }\n",
       "</style>\n",
       "<table border=\"1\" class=\"dataframe\">\n",
       "  <thead>\n",
       "    <tr style=\"text-align: right;\">\n",
       "      <th></th>\n",
       "      <th>Rank</th>\n",
       "      <th>Username</th>\n",
       "      <th>Categories</th>\n",
       "      <th>Suscribers</th>\n",
       "      <th>Country</th>\n",
       "      <th>Visits</th>\n",
       "      <th>Likes</th>\n",
       "      <th>Comments</th>\n",
       "      <th>Links</th>\n",
       "    </tr>\n",
       "  </thead>\n",
       "  <tbody>\n",
       "    <tr>\n",
       "      <th>0</th>\n",
       "      <td>1.0</td>\n",
       "      <td>tseries</td>\n",
       "      <td>Música y baile</td>\n",
       "      <td>253500000</td>\n",
       "      <td>India</td>\n",
       "      <td>111300</td>\n",
       "      <td>3200</td>\n",
       "      <td>120</td>\n",
       "      <td>http://youtube.com/channel/UCq-Fj5jknLsUf-MWSy...</td>\n",
       "    </tr>\n",
       "    <tr>\n",
       "      <th>1</th>\n",
       "      <td>2.0</td>\n",
       "      <td>MrBeast</td>\n",
       "      <td>Videojuegos, Humor</td>\n",
       "      <td>210100000</td>\n",
       "      <td>Estados Unidos</td>\n",
       "      <td>95400000</td>\n",
       "      <td>5400000</td>\n",
       "      <td>16600</td>\n",
       "      <td>http://youtube.com/channel/UCX6OQ3DkcsbYNE6H8u...</td>\n",
       "    </tr>\n",
       "    <tr>\n",
       "      <th>2</th>\n",
       "      <td>3.0</td>\n",
       "      <td>CoComelon</td>\n",
       "      <td>Educación</td>\n",
       "      <td>168100000</td>\n",
       "      <td>Unknown</td>\n",
       "      <td>4100000</td>\n",
       "      <td>21600</td>\n",
       "      <td>0</td>\n",
       "      <td>http://youtube.com/channel/UCbCmjCuTUZos6Inko4...</td>\n",
       "    </tr>\n",
       "    <tr>\n",
       "      <th>3</th>\n",
       "      <td>5.0</td>\n",
       "      <td>KidsDianaShow</td>\n",
       "      <td>Animación, Juguetes</td>\n",
       "      <td>116500000</td>\n",
       "      <td>Unknown</td>\n",
       "      <td>4100000</td>\n",
       "      <td>8800</td>\n",
       "      <td>0</td>\n",
       "      <td>http://youtube.com/channel/UCk8GzjMOrta8yxDcKf...</td>\n",
       "    </tr>\n",
       "    <tr>\n",
       "      <th>4</th>\n",
       "      <td>NaN</td>\n",
       "      <td>PewDiePie</td>\n",
       "      <td>Películas, Videojuegos</td>\n",
       "      <td>111400000</td>\n",
       "      <td>Estados Unidos</td>\n",
       "      <td>2900000</td>\n",
       "      <td>182000</td>\n",
       "      <td>8100</td>\n",
       "      <td>http://youtube.com/channel/UC-lHJZR3Gqxm24_Vd_...</td>\n",
       "    </tr>\n",
       "  </tbody>\n",
       "</table>\n",
       "</div>"
      ],
      "text/plain": [
       "   Rank       Username              Categories  Suscribers         Country  \\\n",
       "0   1.0        tseries          Música y baile   253500000           India   \n",
       "1   2.0        MrBeast      Videojuegos, Humor   210100000  Estados Unidos   \n",
       "2   3.0      CoComelon               Educación   168100000         Unknown   \n",
       "3   5.0  KidsDianaShow     Animación, Juguetes   116500000         Unknown   \n",
       "4   NaN      PewDiePie  Películas, Videojuegos   111400000  Estados Unidos   \n",
       "\n",
       "     Visits    Likes  Comments  \\\n",
       "0    111300     3200       120   \n",
       "1  95400000  5400000     16600   \n",
       "2   4100000    21600         0   \n",
       "3   4100000     8800         0   \n",
       "4   2900000   182000      8100   \n",
       "\n",
       "                                               Links  \n",
       "0  http://youtube.com/channel/UCq-Fj5jknLsUf-MWSy...  \n",
       "1  http://youtube.com/channel/UCX6OQ3DkcsbYNE6H8u...  \n",
       "2  http://youtube.com/channel/UCbCmjCuTUZos6Inko4...  \n",
       "3  http://youtube.com/channel/UCk8GzjMOrta8yxDcKf...  \n",
       "4  http://youtube.com/channel/UC-lHJZR3Gqxm24_Vd_...  "
      ]
     },
     "execution_count": 33,
     "metadata": {},
     "output_type": "execute_result"
    }
   ],
   "source": [
    "df.head()"
   ]
  },
  {
   "cell_type": "code",
   "execution_count": 34,
   "id": "830d9e72-5f3e-471f-89fd-1628e7fb9d78",
   "metadata": {},
   "outputs": [],
   "source": [
    "data.dropna(subset=['Rank'], inplace=True)"
   ]
  },
  {
   "cell_type": "code",
   "execution_count": 35,
   "id": "e911ed52-749b-4e60-8aca-c617eba5dcc7",
   "metadata": {},
   "outputs": [
    {
     "data": {
      "text/html": [
       "<div>\n",
       "<style scoped>\n",
       "    .dataframe tbody tr th:only-of-type {\n",
       "        vertical-align: middle;\n",
       "    }\n",
       "\n",
       "    .dataframe tbody tr th {\n",
       "        vertical-align: top;\n",
       "    }\n",
       "\n",
       "    .dataframe thead th {\n",
       "        text-align: right;\n",
       "    }\n",
       "</style>\n",
       "<table border=\"1\" class=\"dataframe\">\n",
       "  <thead>\n",
       "    <tr style=\"text-align: right;\">\n",
       "      <th></th>\n",
       "      <th>Rank</th>\n",
       "      <th>Username</th>\n",
       "      <th>Categories</th>\n",
       "      <th>Suscribers</th>\n",
       "      <th>Country</th>\n",
       "      <th>Visits</th>\n",
       "      <th>Likes</th>\n",
       "      <th>Comments</th>\n",
       "      <th>Links</th>\n",
       "    </tr>\n",
       "  </thead>\n",
       "  <tbody>\n",
       "    <tr>\n",
       "      <th>0</th>\n",
       "      <td>1.0</td>\n",
       "      <td>tseries</td>\n",
       "      <td>Música y baile</td>\n",
       "      <td>253500000</td>\n",
       "      <td>India</td>\n",
       "      <td>111300</td>\n",
       "      <td>3200</td>\n",
       "      <td>120</td>\n",
       "      <td>http://youtube.com/channel/UCq-Fj5jknLsUf-MWSy...</td>\n",
       "    </tr>\n",
       "    <tr>\n",
       "      <th>1</th>\n",
       "      <td>2.0</td>\n",
       "      <td>MrBeast</td>\n",
       "      <td>Videojuegos, Humor</td>\n",
       "      <td>210100000</td>\n",
       "      <td>Estados Unidos</td>\n",
       "      <td>95400000</td>\n",
       "      <td>5400000</td>\n",
       "      <td>16600</td>\n",
       "      <td>http://youtube.com/channel/UCX6OQ3DkcsbYNE6H8u...</td>\n",
       "    </tr>\n",
       "    <tr>\n",
       "      <th>2</th>\n",
       "      <td>3.0</td>\n",
       "      <td>CoComelon</td>\n",
       "      <td>Educación</td>\n",
       "      <td>168100000</td>\n",
       "      <td>Unknown</td>\n",
       "      <td>4100000</td>\n",
       "      <td>21600</td>\n",
       "      <td>0</td>\n",
       "      <td>http://youtube.com/channel/UCbCmjCuTUZos6Inko4...</td>\n",
       "    </tr>\n",
       "    <tr>\n",
       "      <th>3</th>\n",
       "      <td>5.0</td>\n",
       "      <td>KidsDianaShow</td>\n",
       "      <td>Animación, Juguetes</td>\n",
       "      <td>116500000</td>\n",
       "      <td>Unknown</td>\n",
       "      <td>4100000</td>\n",
       "      <td>8800</td>\n",
       "      <td>0</td>\n",
       "      <td>http://youtube.com/channel/UCk8GzjMOrta8yxDcKf...</td>\n",
       "    </tr>\n",
       "    <tr>\n",
       "      <th>4</th>\n",
       "      <td>NaN</td>\n",
       "      <td>PewDiePie</td>\n",
       "      <td>Películas, Videojuegos</td>\n",
       "      <td>111400000</td>\n",
       "      <td>Estados Unidos</td>\n",
       "      <td>2900000</td>\n",
       "      <td>182000</td>\n",
       "      <td>8100</td>\n",
       "      <td>http://youtube.com/channel/UC-lHJZR3Gqxm24_Vd_...</td>\n",
       "    </tr>\n",
       "  </tbody>\n",
       "</table>\n",
       "</div>"
      ],
      "text/plain": [
       "   Rank       Username              Categories  Suscribers         Country  \\\n",
       "0   1.0        tseries          Música y baile   253500000           India   \n",
       "1   2.0        MrBeast      Videojuegos, Humor   210100000  Estados Unidos   \n",
       "2   3.0      CoComelon               Educación   168100000         Unknown   \n",
       "3   5.0  KidsDianaShow     Animación, Juguetes   116500000         Unknown   \n",
       "4   NaN      PewDiePie  Películas, Videojuegos   111400000  Estados Unidos   \n",
       "\n",
       "     Visits    Likes  Comments  \\\n",
       "0    111300     3200       120   \n",
       "1  95400000  5400000     16600   \n",
       "2   4100000    21600         0   \n",
       "3   4100000     8800         0   \n",
       "4   2900000   182000      8100   \n",
       "\n",
       "                                               Links  \n",
       "0  http://youtube.com/channel/UCq-Fj5jknLsUf-MWSy...  \n",
       "1  http://youtube.com/channel/UCX6OQ3DkcsbYNE6H8u...  \n",
       "2  http://youtube.com/channel/UCbCmjCuTUZos6Inko4...  \n",
       "3  http://youtube.com/channel/UCk8GzjMOrta8yxDcKf...  \n",
       "4  http://youtube.com/channel/UC-lHJZR3Gqxm24_Vd_...  "
      ]
     },
     "execution_count": 35,
     "metadata": {},
     "output_type": "execute_result"
    }
   ],
   "source": [
    "df.head()"
   ]
  },
  {
   "cell_type": "code",
   "execution_count": 36,
   "id": "fd0db69d-a2e8-487b-89ae-fd570f55f0eb",
   "metadata": {},
   "outputs": [
    {
     "ename": "NameError",
     "evalue": "name 'isna' is not defined",
     "output_type": "error",
     "traceback": [
      "\u001b[1;31m---------------------------------------------------------------------------\u001b[0m",
      "\u001b[1;31mNameError\u001b[0m                                 Traceback (most recent call last)",
      "Cell \u001b[1;32mIn[36], line 1\u001b[0m\n\u001b[1;32m----> 1\u001b[0m nan_rank_rows \u001b[38;5;241m=\u001b[39m data[data[\u001b[38;5;124m'\u001b[39m\u001b[38;5;124mRank\u001b[39m\u001b[38;5;124m'\u001b[39m],\u001b[43misna\u001b[49m()]\n",
      "\u001b[1;31mNameError\u001b[0m: name 'isna' is not defined"
     ]
    }
   ],
   "source": [
    "nan_rank_rows = data[data['Rank'],isna()]"
   ]
  },
  {
   "cell_type": "code",
   "execution_count": 37,
   "id": "9f3f3719-1b86-4d3d-9976-520fdd46bc3c",
   "metadata": {},
   "outputs": [
    {
     "name": "stdout",
     "output_type": "stream",
     "text": [
      "Empty DataFrame\n",
      "Columns: [Rank, Username, Categories, Suscribers, Country, Visits, Likes, Comments, Links]\n",
      "Index: []\n"
     ]
    }
   ],
   "source": [
    "nan_rank_rows = data[data['Rank'].isna()]\n",
    "print(nan_rank_rows)"
   ]
  },
  {
   "cell_type": "code",
   "execution_count": 38,
   "id": "471e71b2-5064-472c-98bc-e1d6166efe99",
   "metadata": {},
   "outputs": [
    {
     "data": {
      "text/html": [
       "<div>\n",
       "<style scoped>\n",
       "    .dataframe tbody tr th:only-of-type {\n",
       "        vertical-align: middle;\n",
       "    }\n",
       "\n",
       "    .dataframe tbody tr th {\n",
       "        vertical-align: top;\n",
       "    }\n",
       "\n",
       "    .dataframe thead th {\n",
       "        text-align: right;\n",
       "    }\n",
       "</style>\n",
       "<table border=\"1\" class=\"dataframe\">\n",
       "  <thead>\n",
       "    <tr style=\"text-align: right;\">\n",
       "      <th></th>\n",
       "      <th>Rank</th>\n",
       "      <th>Username</th>\n",
       "      <th>Categories</th>\n",
       "      <th>Suscribers</th>\n",
       "      <th>Country</th>\n",
       "      <th>Visits</th>\n",
       "      <th>Likes</th>\n",
       "      <th>Comments</th>\n",
       "      <th>Links</th>\n",
       "    </tr>\n",
       "  </thead>\n",
       "  <tbody>\n",
       "    <tr>\n",
       "      <th>0</th>\n",
       "      <td>1.0</td>\n",
       "      <td>tseries</td>\n",
       "      <td>Música y baile</td>\n",
       "      <td>253500000</td>\n",
       "      <td>India</td>\n",
       "      <td>111300</td>\n",
       "      <td>3200</td>\n",
       "      <td>120</td>\n",
       "      <td>http://youtube.com/channel/UCq-Fj5jknLsUf-MWSy...</td>\n",
       "    </tr>\n",
       "    <tr>\n",
       "      <th>1</th>\n",
       "      <td>2.0</td>\n",
       "      <td>MrBeast</td>\n",
       "      <td>Videojuegos, Humor</td>\n",
       "      <td>210100000</td>\n",
       "      <td>Estados Unidos</td>\n",
       "      <td>95400000</td>\n",
       "      <td>5400000</td>\n",
       "      <td>16600</td>\n",
       "      <td>http://youtube.com/channel/UCX6OQ3DkcsbYNE6H8u...</td>\n",
       "    </tr>\n",
       "    <tr>\n",
       "      <th>2</th>\n",
       "      <td>3.0</td>\n",
       "      <td>CoComelon</td>\n",
       "      <td>Educación</td>\n",
       "      <td>168100000</td>\n",
       "      <td>Unknown</td>\n",
       "      <td>4100000</td>\n",
       "      <td>21600</td>\n",
       "      <td>0</td>\n",
       "      <td>http://youtube.com/channel/UCbCmjCuTUZos6Inko4...</td>\n",
       "    </tr>\n",
       "    <tr>\n",
       "      <th>3</th>\n",
       "      <td>5.0</td>\n",
       "      <td>KidsDianaShow</td>\n",
       "      <td>Animación, Juguetes</td>\n",
       "      <td>116500000</td>\n",
       "      <td>Unknown</td>\n",
       "      <td>4100000</td>\n",
       "      <td>8800</td>\n",
       "      <td>0</td>\n",
       "      <td>http://youtube.com/channel/UCk8GzjMOrta8yxDcKf...</td>\n",
       "    </tr>\n",
       "    <tr>\n",
       "      <th>4</th>\n",
       "      <td>NaN</td>\n",
       "      <td>PewDiePie</td>\n",
       "      <td>Películas, Videojuegos</td>\n",
       "      <td>111400000</td>\n",
       "      <td>Estados Unidos</td>\n",
       "      <td>2900000</td>\n",
       "      <td>182000</td>\n",
       "      <td>8100</td>\n",
       "      <td>http://youtube.com/channel/UC-lHJZR3Gqxm24_Vd_...</td>\n",
       "    </tr>\n",
       "  </tbody>\n",
       "</table>\n",
       "</div>"
      ],
      "text/plain": [
       "   Rank       Username              Categories  Suscribers         Country  \\\n",
       "0   1.0        tseries          Música y baile   253500000           India   \n",
       "1   2.0        MrBeast      Videojuegos, Humor   210100000  Estados Unidos   \n",
       "2   3.0      CoComelon               Educación   168100000         Unknown   \n",
       "3   5.0  KidsDianaShow     Animación, Juguetes   116500000         Unknown   \n",
       "4   NaN      PewDiePie  Películas, Videojuegos   111400000  Estados Unidos   \n",
       "\n",
       "     Visits    Likes  Comments  \\\n",
       "0    111300     3200       120   \n",
       "1  95400000  5400000     16600   \n",
       "2   4100000    21600         0   \n",
       "3   4100000     8800         0   \n",
       "4   2900000   182000      8100   \n",
       "\n",
       "                                               Links  \n",
       "0  http://youtube.com/channel/UCq-Fj5jknLsUf-MWSy...  \n",
       "1  http://youtube.com/channel/UCX6OQ3DkcsbYNE6H8u...  \n",
       "2  http://youtube.com/channel/UCbCmjCuTUZos6Inko4...  \n",
       "3  http://youtube.com/channel/UCk8GzjMOrta8yxDcKf...  \n",
       "4  http://youtube.com/channel/UC-lHJZR3Gqxm24_Vd_...  "
      ]
     },
     "execution_count": 38,
     "metadata": {},
     "output_type": "execute_result"
    }
   ],
   "source": [
    "df.head()"
   ]
  },
  {
   "cell_type": "code",
   "execution_count": 39,
   "id": "d93b2c46-79cf-457b-83e8-69ea60c18eb2",
   "metadata": {},
   "outputs": [],
   "source": [
    "data.to_csv('cleaned_data.csv', index=False)"
   ]
  },
  {
   "cell_type": "code",
   "execution_count": 40,
   "id": "f4291aed-a1c3-4dd2-b68c-554b5f89dead",
   "metadata": {},
   "outputs": [
    {
     "data": {
      "text/html": [
       "<div>\n",
       "<style scoped>\n",
       "    .dataframe tbody tr th:only-of-type {\n",
       "        vertical-align: middle;\n",
       "    }\n",
       "\n",
       "    .dataframe tbody tr th {\n",
       "        vertical-align: top;\n",
       "    }\n",
       "\n",
       "    .dataframe thead th {\n",
       "        text-align: right;\n",
       "    }\n",
       "</style>\n",
       "<table border=\"1\" class=\"dataframe\">\n",
       "  <thead>\n",
       "    <tr style=\"text-align: right;\">\n",
       "      <th></th>\n",
       "      <th>Rank</th>\n",
       "      <th>Username</th>\n",
       "      <th>Categories</th>\n",
       "      <th>Suscribers</th>\n",
       "      <th>Country</th>\n",
       "      <th>Visits</th>\n",
       "      <th>Likes</th>\n",
       "      <th>Comments</th>\n",
       "      <th>Links</th>\n",
       "    </tr>\n",
       "  </thead>\n",
       "  <tbody>\n",
       "    <tr>\n",
       "      <th>0</th>\n",
       "      <td>1.0</td>\n",
       "      <td>tseries</td>\n",
       "      <td>Música y baile</td>\n",
       "      <td>253500000</td>\n",
       "      <td>India</td>\n",
       "      <td>111300</td>\n",
       "      <td>3200</td>\n",
       "      <td>120</td>\n",
       "      <td>http://youtube.com/channel/UCq-Fj5jknLsUf-MWSy...</td>\n",
       "    </tr>\n",
       "    <tr>\n",
       "      <th>1</th>\n",
       "      <td>2.0</td>\n",
       "      <td>MrBeast</td>\n",
       "      <td>Videojuegos, Humor</td>\n",
       "      <td>210100000</td>\n",
       "      <td>Estados Unidos</td>\n",
       "      <td>95400000</td>\n",
       "      <td>5400000</td>\n",
       "      <td>16600</td>\n",
       "      <td>http://youtube.com/channel/UCX6OQ3DkcsbYNE6H8u...</td>\n",
       "    </tr>\n",
       "    <tr>\n",
       "      <th>2</th>\n",
       "      <td>3.0</td>\n",
       "      <td>CoComelon</td>\n",
       "      <td>Educación</td>\n",
       "      <td>168100000</td>\n",
       "      <td>Unknown</td>\n",
       "      <td>4100000</td>\n",
       "      <td>21600</td>\n",
       "      <td>0</td>\n",
       "      <td>http://youtube.com/channel/UCbCmjCuTUZos6Inko4...</td>\n",
       "    </tr>\n",
       "    <tr>\n",
       "      <th>3</th>\n",
       "      <td>5.0</td>\n",
       "      <td>KidsDianaShow</td>\n",
       "      <td>Animación, Juguetes</td>\n",
       "      <td>116500000</td>\n",
       "      <td>Unknown</td>\n",
       "      <td>4100000</td>\n",
       "      <td>8800</td>\n",
       "      <td>0</td>\n",
       "      <td>http://youtube.com/channel/UCk8GzjMOrta8yxDcKf...</td>\n",
       "    </tr>\n",
       "    <tr>\n",
       "      <th>4</th>\n",
       "      <td>NaN</td>\n",
       "      <td>PewDiePie</td>\n",
       "      <td>Películas, Videojuegos</td>\n",
       "      <td>111400000</td>\n",
       "      <td>Estados Unidos</td>\n",
       "      <td>2900000</td>\n",
       "      <td>182000</td>\n",
       "      <td>8100</td>\n",
       "      <td>http://youtube.com/channel/UC-lHJZR3Gqxm24_Vd_...</td>\n",
       "    </tr>\n",
       "  </tbody>\n",
       "</table>\n",
       "</div>"
      ],
      "text/plain": [
       "   Rank       Username              Categories  Suscribers         Country  \\\n",
       "0   1.0        tseries          Música y baile   253500000           India   \n",
       "1   2.0        MrBeast      Videojuegos, Humor   210100000  Estados Unidos   \n",
       "2   3.0      CoComelon               Educación   168100000         Unknown   \n",
       "3   5.0  KidsDianaShow     Animación, Juguetes   116500000         Unknown   \n",
       "4   NaN      PewDiePie  Películas, Videojuegos   111400000  Estados Unidos   \n",
       "\n",
       "     Visits    Likes  Comments  \\\n",
       "0    111300     3200       120   \n",
       "1  95400000  5400000     16600   \n",
       "2   4100000    21600         0   \n",
       "3   4100000     8800         0   \n",
       "4   2900000   182000      8100   \n",
       "\n",
       "                                               Links  \n",
       "0  http://youtube.com/channel/UCq-Fj5jknLsUf-MWSy...  \n",
       "1  http://youtube.com/channel/UCX6OQ3DkcsbYNE6H8u...  \n",
       "2  http://youtube.com/channel/UCbCmjCuTUZos6Inko4...  \n",
       "3  http://youtube.com/channel/UCk8GzjMOrta8yxDcKf...  \n",
       "4  http://youtube.com/channel/UC-lHJZR3Gqxm24_Vd_...  "
      ]
     },
     "execution_count": 40,
     "metadata": {},
     "output_type": "execute_result"
    }
   ],
   "source": [
    "df.head()"
   ]
  },
  {
   "cell_type": "code",
   "execution_count": 41,
   "id": "c3e20ede-e706-4b57-9bf3-43a38a3fa136",
   "metadata": {},
   "outputs": [
    {
     "name": "stdout",
     "output_type": "stream",
     "text": [
      "Empty DataFrame\n",
      "Columns: [Rank, Username, Categories, Suscribers, Country, Visits, Likes, Comments, Links]\n",
      "Index: []\n"
     ]
    }
   ],
   "source": [
    "nan_rank_rows = data[data['Rank'].isna()]\n",
    "print(nan_rank_rows)"
   ]
  },
  {
   "cell_type": "code",
   "execution_count": 42,
   "id": "fe794d0d-c528-4806-9109-00dcc03cc9f9",
   "metadata": {},
   "outputs": [
    {
     "name": "stdout",
     "output_type": "stream",
     "text": [
      "<class 'pandas.core.frame.DataFrame'>\n",
      "RangeIndex: 676 entries, 0 to 675\n",
      "Data columns (total 9 columns):\n",
      " #   Column      Non-Null Count  Dtype  \n",
      "---  ------      --------------  -----  \n",
      " 0   Rank        473 non-null    float64\n",
      " 1   Username    676 non-null    object \n",
      " 2   Categories  676 non-null    object \n",
      " 3   Suscribers  676 non-null    int64  \n",
      " 4   Country     676 non-null    object \n",
      " 5   Visits      676 non-null    int64  \n",
      " 6   Likes       676 non-null    int64  \n",
      " 7   Comments    676 non-null    int64  \n",
      " 8   Links       676 non-null    object \n",
      "dtypes: float64(1), int64(4), object(4)\n",
      "memory usage: 47.7+ KB\n"
     ]
    }
   ],
   "source": [
    "df.info()"
   ]
  },
  {
   "cell_type": "code",
   "execution_count": 43,
   "id": "77f24103-a5a9-4fc2-9652-cdcd6f913155",
   "metadata": {},
   "outputs": [
    {
     "name": "stdout",
     "output_type": "stream",
     "text": [
      "<class 'pandas.core.frame.DataFrame'>\n",
      "Index: 473 entries, 0 to 675\n",
      "Data columns (total 9 columns):\n",
      " #   Column      Non-Null Count  Dtype  \n",
      "---  ------      --------------  -----  \n",
      " 0   Rank        473 non-null    float64\n",
      " 1   Username    473 non-null    object \n",
      " 2   Categories  473 non-null    object \n",
      " 3   Suscribers  473 non-null    int32  \n",
      " 4   Country     473 non-null    object \n",
      " 5   Visits      473 non-null    int32  \n",
      " 6   Likes       473 non-null    int32  \n",
      " 7   Comments    473 non-null    int32  \n",
      " 8   Links       473 non-null    object \n",
      "dtypes: float64(1), int32(4), object(4)\n",
      "memory usage: 29.6+ KB\n"
     ]
    }
   ],
   "source": [
    "data.info()"
   ]
  },
  {
   "cell_type": "code",
   "execution_count": 44,
   "id": "4446aab1-5c3d-4442-960c-154ddefc1d70",
   "metadata": {},
   "outputs": [
    {
     "data": {
      "text/html": [
       "<div>\n",
       "<style scoped>\n",
       "    .dataframe tbody tr th:only-of-type {\n",
       "        vertical-align: middle;\n",
       "    }\n",
       "\n",
       "    .dataframe tbody tr th {\n",
       "        vertical-align: top;\n",
       "    }\n",
       "\n",
       "    .dataframe thead th {\n",
       "        text-align: right;\n",
       "    }\n",
       "</style>\n",
       "<table border=\"1\" class=\"dataframe\">\n",
       "  <thead>\n",
       "    <tr style=\"text-align: right;\">\n",
       "      <th></th>\n",
       "      <th>Rank</th>\n",
       "      <th>Username</th>\n",
       "      <th>Categories</th>\n",
       "      <th>Suscribers</th>\n",
       "      <th>Country</th>\n",
       "      <th>Visits</th>\n",
       "      <th>Likes</th>\n",
       "      <th>Comments</th>\n",
       "      <th>Links</th>\n",
       "    </tr>\n",
       "  </thead>\n",
       "  <tbody>\n",
       "    <tr>\n",
       "      <th>0</th>\n",
       "      <td>1.0</td>\n",
       "      <td>tseries</td>\n",
       "      <td>Música y baile</td>\n",
       "      <td>253500000</td>\n",
       "      <td>India</td>\n",
       "      <td>111300</td>\n",
       "      <td>3200</td>\n",
       "      <td>120</td>\n",
       "      <td>http://youtube.com/channel/UCq-Fj5jknLsUf-MWSy...</td>\n",
       "    </tr>\n",
       "    <tr>\n",
       "      <th>1</th>\n",
       "      <td>2.0</td>\n",
       "      <td>MrBeast</td>\n",
       "      <td>Videojuegos, Humor</td>\n",
       "      <td>210100000</td>\n",
       "      <td>Estados Unidos</td>\n",
       "      <td>95400000</td>\n",
       "      <td>5400000</td>\n",
       "      <td>16600</td>\n",
       "      <td>http://youtube.com/channel/UCX6OQ3DkcsbYNE6H8u...</td>\n",
       "    </tr>\n",
       "    <tr>\n",
       "      <th>2</th>\n",
       "      <td>3.0</td>\n",
       "      <td>CoComelon</td>\n",
       "      <td>Educación</td>\n",
       "      <td>168100000</td>\n",
       "      <td>Unknown</td>\n",
       "      <td>4100000</td>\n",
       "      <td>21600</td>\n",
       "      <td>0</td>\n",
       "      <td>http://youtube.com/channel/UCbCmjCuTUZos6Inko4...</td>\n",
       "    </tr>\n",
       "    <tr>\n",
       "      <th>3</th>\n",
       "      <td>5.0</td>\n",
       "      <td>KidsDianaShow</td>\n",
       "      <td>Animación, Juguetes</td>\n",
       "      <td>116500000</td>\n",
       "      <td>Unknown</td>\n",
       "      <td>4100000</td>\n",
       "      <td>8800</td>\n",
       "      <td>0</td>\n",
       "      <td>http://youtube.com/channel/UCk8GzjMOrta8yxDcKf...</td>\n",
       "    </tr>\n",
       "    <tr>\n",
       "      <th>5</th>\n",
       "      <td>7.0</td>\n",
       "      <td>LikeNastyaofficial</td>\n",
       "      <td>Juguetes</td>\n",
       "      <td>110400000</td>\n",
       "      <td>Unknown</td>\n",
       "      <td>4100000</td>\n",
       "      <td>14500</td>\n",
       "      <td>0</td>\n",
       "      <td>http://youtube.com/channel/UCJplp5SjeGSdVdwsfb...</td>\n",
       "    </tr>\n",
       "  </tbody>\n",
       "</table>\n",
       "</div>"
      ],
      "text/plain": [
       "   Rank            Username           Categories  Suscribers         Country  \\\n",
       "0   1.0             tseries       Música y baile   253500000           India   \n",
       "1   2.0             MrBeast   Videojuegos, Humor   210100000  Estados Unidos   \n",
       "2   3.0           CoComelon            Educación   168100000         Unknown   \n",
       "3   5.0       KidsDianaShow  Animación, Juguetes   116500000         Unknown   \n",
       "5   7.0  LikeNastyaofficial             Juguetes   110400000         Unknown   \n",
       "\n",
       "     Visits    Likes  Comments  \\\n",
       "0    111300     3200       120   \n",
       "1  95400000  5400000     16600   \n",
       "2   4100000    21600         0   \n",
       "3   4100000     8800         0   \n",
       "5   4100000    14500         0   \n",
       "\n",
       "                                               Links  \n",
       "0  http://youtube.com/channel/UCq-Fj5jknLsUf-MWSy...  \n",
       "1  http://youtube.com/channel/UCX6OQ3DkcsbYNE6H8u...  \n",
       "2  http://youtube.com/channel/UCbCmjCuTUZos6Inko4...  \n",
       "3  http://youtube.com/channel/UCk8GzjMOrta8yxDcKf...  \n",
       "5  http://youtube.com/channel/UCJplp5SjeGSdVdwsfb...  "
      ]
     },
     "execution_count": 44,
     "metadata": {},
     "output_type": "execute_result"
    }
   ],
   "source": [
    "data.head()"
   ]
  },
  {
   "cell_type": "code",
   "execution_count": 1,
   "id": "27fcdf60-3d09-46be-bd97-90c6d8c52033",
   "metadata": {},
   "outputs": [
    {
     "ename": "NameError",
     "evalue": "name 'file' is not defined",
     "output_type": "error",
     "traceback": [
      "\u001b[1;31m---------------------------------------------------------------------------\u001b[0m",
      "\u001b[1;31mNameError\u001b[0m                                 Traceback (most recent call last)",
      "Cell \u001b[1;32mIn[1], line 3\u001b[0m\n\u001b[0;32m      1\u001b[0m \u001b[38;5;66;03m# First, identify the categories in the Categories columns. Note that some channels are more than one category.\u001b[39;00m\n\u001b[0;32m      2\u001b[0m cat_list \u001b[38;5;241m=\u001b[39m []\n\u001b[1;32m----> 3\u001b[0m \u001b[38;5;28;01mfor\u001b[39;00m i \u001b[38;5;129;01min\u001b[39;00m \u001b[43mfile\u001b[49m[\u001b[38;5;124m'\u001b[39m\u001b[38;5;124mCategories\u001b[39m\u001b[38;5;124m'\u001b[39m]:\n\u001b[0;32m      4\u001b[0m     split_list \u001b[38;5;241m=\u001b[39m []\n\u001b[0;32m      5\u001b[0m     split_list \u001b[38;5;241m=\u001b[39m i\u001b[38;5;241m.\u001b[39msplit(\u001b[38;5;124m'\u001b[39m\u001b[38;5;124m,\u001b[39m\u001b[38;5;124m'\u001b[39m)\n",
      "\u001b[1;31mNameError\u001b[0m: name 'file' is not defined"
     ]
    }
   ],
   "source": [
    "# First, identify the categories in the Categories columns. Note that some channels are more than one category.\n",
    "cat_list = []\n",
    "for i in file['Categories']:\n",
    "    split_list = []\n",
    "    split_list = i.split(',')\n",
    "    for j in split_list:\n",
    "        j = j.strip()\n",
    "        cat_list.append(j)\n",
    "\n",
    "# Now I isolate the unique categories, by using the set datatype:\n",
    "cat_set = set(cat_list)\n",
    "\n",
    "\n",
    "# Next, I convert the unique categories into a single string of each category, separated by commas.\n",
    "# This is important to reduce the number of queries to the translation tool / URL to a minimum.\n",
    "# The translate_text function throws an error if you query the same URL more than ~7 times in rapid succession.\n",
    "cat_list = list(cat_set)\n",
    "cat_str = ''\n",
    "for i in cat_list:\n",
    "    cat_str = cat_str + i + ','\n",
    "    \n",
    "# Now we translate:\n",
    "english = ts.translate_text(cat_str)\n",
    "\n",
    "# Then undo the single string back into a list:\n",
    "english_list = english.split(',')\n",
    "\n",
    "# Then make a dictionary to match the Spanish phrases to the English translations.\n",
    "trans_dict = {}\n",
    "for i,ii in enumerate(cat_list):\n",
    "    trans_dict[ii] = english_list[i]\n",
    "    \n",
    "# Next we translate the column using the dictionary:\n",
    "translation_list = []\n",
    "for i in file['Categories']:\n",
    "    entry = i.split(',')\n",
    "    entry_list = []\n",
    "    for j in entry:\n",
    "        j = j.strip()\n",
    "        j = trans_dict[j]\n",
    "        entry_list.append(j)\n",
    "    translation_list.append(entry_list)\n",
    "file['Categories'] = translation_list\n",
    "\n",
    "# Countries are much simpler, as they only have singular values per entry:\n",
    "# A similar process is followed as above, with fewer steps. \n",
    "# Consult the comments above if you want to understand why each step is taken\n",
    "country_list = list(file['Country'].unique())\n",
    "country_str = ''\n",
    "for i in country_list:\n",
    "    country_str = country_str + i + ','\n",
    "english_c = ts.translate_text(country_str)\n",
    "english_list_c = english_c.split(',')\n",
    "trans_dict = {}\n",
    "for i,ii in enumerate(country_list):\n",
    "    trans_dict[ii] = english_list_c[i]\n",
    "file['Country'] = file['Country'].replace(trans_dict)\n",
    "\n",
    "display(file.head())"
   ]
  },
  {
   "cell_type": "code",
   "execution_count": 2,
   "id": "ecc5e95f-80a7-4e13-9744-876845ab70a8",
   "metadata": {},
   "outputs": [
    {
     "ename": "NameError",
     "evalue": "name 'pd' is not defined",
     "output_type": "error",
     "traceback": [
      "\u001b[1;31m---------------------------------------------------------------------------\u001b[0m",
      "\u001b[1;31mNameError\u001b[0m                                 Traceback (most recent call last)",
      "Cell \u001b[1;32mIn[2], line 1\u001b[0m\n\u001b[1;32m----> 1\u001b[0m file \u001b[38;5;241m=\u001b[39m \u001b[43mpd\u001b[49m\u001b[38;5;241m.\u001b[39mread_csv(youtubers_df\u001b[38;5;241m.\u001b[39mcsv)\n",
      "\u001b[1;31mNameError\u001b[0m: name 'pd' is not defined"
     ]
    }
   ],
   "source": [
    "file = pd.read_csv(youtubers_df.csv)"
   ]
  },
  {
   "cell_type": "code",
   "execution_count": null,
   "id": "68091203-153e-4236-abd6-3b750b8cac1d",
   "metadata": {},
   "outputs": [],
   "source": []
  }
 ],
 "metadata": {
  "kernelspec": {
   "display_name": "Python (.cairolab)",
   "language": "python",
   "name": ".cairolab"
  },
  "language_info": {
   "codemirror_mode": {
    "name": "ipython",
    "version": 3
   },
   "file_extension": ".py",
   "mimetype": "text/x-python",
   "name": "python",
   "nbconvert_exporter": "python",
   "pygments_lexer": "ipython3",
   "version": "3.11.2"
  }
 },
 "nbformat": 4,
 "nbformat_minor": 5
}
