{
 "cells": [
  {
   "cell_type": "code",
   "execution_count": 1,
   "id": "91b18b49-1222-4631-921c-c845977209d3",
   "metadata": {},
   "outputs": [],
   "source": [
    "import pandas as pd"
   ]
  },
  {
   "cell_type": "code",
   "execution_count": 2,
   "id": "6190a37e-6c3d-4240-a3c0-472ea92b4e2c",
   "metadata": {},
   "outputs": [],
   "source": [
    "import numpy as np"
   ]
  },
  {
   "cell_type": "code",
   "execution_count": 4,
   "id": "53e2e05a-7e54-4ba7-926f-f8ed4a578660",
   "metadata": {},
   "outputs": [],
   "source": [
    "df = pd.read_csv(\"cleaned_data.csv\")"
   ]
  },
  {
   "cell_type": "code",
   "execution_count": 5,
   "id": "4be5d79c-9450-4712-9a4d-5ccf05dc9b78",
   "metadata": {},
   "outputs": [
    {
     "data": {
      "text/html": [
       "<div>\n",
       "<style scoped>\n",
       "    .dataframe tbody tr th:only-of-type {\n",
       "        vertical-align: middle;\n",
       "    }\n",
       "\n",
       "    .dataframe tbody tr th {\n",
       "        vertical-align: top;\n",
       "    }\n",
       "\n",
       "    .dataframe thead th {\n",
       "        text-align: right;\n",
       "    }\n",
       "</style>\n",
       "<table border=\"1\" class=\"dataframe\">\n",
       "  <thead>\n",
       "    <tr style=\"text-align: right;\">\n",
       "      <th></th>\n",
       "      <th>Rank</th>\n",
       "      <th>Username</th>\n",
       "      <th>Categories</th>\n",
       "      <th>Suscribers</th>\n",
       "      <th>Country</th>\n",
       "      <th>Visits</th>\n",
       "      <th>Likes</th>\n",
       "      <th>Comments</th>\n",
       "      <th>Subscribers (millions)</th>\n",
       "    </tr>\n",
       "  </thead>\n",
       "  <tbody>\n",
       "    <tr>\n",
       "      <th>0</th>\n",
       "      <td>1</td>\n",
       "      <td>tseries</td>\n",
       "      <td>['Music &amp; Dance']</td>\n",
       "      <td>253500000</td>\n",
       "      <td>India</td>\n",
       "      <td>111300</td>\n",
       "      <td>3200</td>\n",
       "      <td>120</td>\n",
       "      <td>253.5</td>\n",
       "    </tr>\n",
       "    <tr>\n",
       "      <th>1</th>\n",
       "      <td>2</td>\n",
       "      <td>MrBeast</td>\n",
       "      <td>['Video Games', 'Humor']</td>\n",
       "      <td>210100000</td>\n",
       "      <td>United States</td>\n",
       "      <td>95400000</td>\n",
       "      <td>5400000</td>\n",
       "      <td>16600</td>\n",
       "      <td>210.1</td>\n",
       "    </tr>\n",
       "    <tr>\n",
       "      <th>2</th>\n",
       "      <td>3</td>\n",
       "      <td>CoComelon</td>\n",
       "      <td>['Education']</td>\n",
       "      <td>168100000</td>\n",
       "      <td>Unknown</td>\n",
       "      <td>4100000</td>\n",
       "      <td>21600</td>\n",
       "      <td>0</td>\n",
       "      <td>168.1</td>\n",
       "    </tr>\n",
       "    <tr>\n",
       "      <th>3</th>\n",
       "      <td>4</td>\n",
       "      <td>SETIndia</td>\n",
       "      <td>['Unknown']</td>\n",
       "      <td>165400000</td>\n",
       "      <td>India</td>\n",
       "      <td>23300</td>\n",
       "      <td>239</td>\n",
       "      <td>9</td>\n",
       "      <td>165.4</td>\n",
       "    </tr>\n",
       "    <tr>\n",
       "      <th>4</th>\n",
       "      <td>5</td>\n",
       "      <td>KidsDianaShow</td>\n",
       "      <td>['Animation', 'Toys']</td>\n",
       "      <td>116500000</td>\n",
       "      <td>Unknown</td>\n",
       "      <td>4100000</td>\n",
       "      <td>8800</td>\n",
       "      <td>0</td>\n",
       "      <td>116.5</td>\n",
       "    </tr>\n",
       "  </tbody>\n",
       "</table>\n",
       "</div>"
      ],
      "text/plain": [
       "  Rank       Username                Categories  Suscribers        Country  \\\n",
       "0    1        tseries         ['Music & Dance']   253500000          India   \n",
       "1    2        MrBeast  ['Video Games', 'Humor']   210100000  United States   \n",
       "2    3      CoComelon             ['Education']   168100000        Unknown   \n",
       "3    4       SETIndia               ['Unknown']   165400000          India   \n",
       "4    5  KidsDianaShow     ['Animation', 'Toys']   116500000        Unknown   \n",
       "\n",
       "     Visits    Likes  Comments  Subscribers (millions)  \n",
       "0    111300     3200       120                   253.5  \n",
       "1  95400000  5400000     16600                   210.1  \n",
       "2   4100000    21600         0                   168.1  \n",
       "3     23300      239         9                   165.4  \n",
       "4   4100000     8800         0                   116.5  "
      ]
     },
     "execution_count": 5,
     "metadata": {},
     "output_type": "execute_result"
    }
   ],
   "source": [
    "df.head()"
   ]
  },
  {
   "cell_type": "code",
   "execution_count": 6,
   "id": "2b7233c6-b4e6-4a23-b181-b57ff3d4ef51",
   "metadata": {},
   "outputs": [
    {
     "name": "stdout",
     "output_type": "stream",
     "text": [
      "<class 'pandas.core.frame.DataFrame'>\n",
      "RangeIndex: 997 entries, 0 to 996\n",
      "Data columns (total 9 columns):\n",
      " #   Column                  Non-Null Count  Dtype  \n",
      "---  ------                  --------------  -----  \n",
      " 0   Rank                    997 non-null    object \n",
      " 1   Username                997 non-null    object \n",
      " 2   Categories              997 non-null    object \n",
      " 3   Suscribers              997 non-null    int64  \n",
      " 4   Country                 997 non-null    object \n",
      " 5   Visits                  997 non-null    int64  \n",
      " 6   Likes                   997 non-null    int64  \n",
      " 7   Comments                997 non-null    int64  \n",
      " 8   Subscribers (millions)  997 non-null    float64\n",
      "dtypes: float64(1), int64(4), object(4)\n",
      "memory usage: 70.2+ KB\n"
     ]
    }
   ],
   "source": [
    "df.info()"
   ]
  },
  {
   "cell_type": "code",
   "execution_count": null,
   "id": "7953d831-2a07-4101-9fd7-4f864c62e6af",
   "metadata": {},
   "outputs": [],
   "source": []
  }
 ],
 "metadata": {
  "kernelspec": {
   "display_name": "Python (.cairolab)",
   "language": "python",
   "name": ".cairolab"
  },
  "language_info": {
   "codemirror_mode": {
    "name": "ipython",
    "version": 3
   },
   "file_extension": ".py",
   "mimetype": "text/x-python",
   "name": "python",
   "nbconvert_exporter": "python",
   "pygments_lexer": "ipython3",
   "version": "3.11.2"
  }
 },
 "nbformat": 4,
 "nbformat_minor": 5
}
